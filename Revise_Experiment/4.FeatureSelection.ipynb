{
 "cells": [
  {
   "cell_type": "code",
   "execution_count": 1,
   "metadata": {},
   "outputs": [],
   "source": [
    "from sklearn.model_selection import train_test_split\n",
    "from sklearn.metrics import accuracy_score\n",
    "from sklearn.tree import DecisionTreeClassifier\n",
    "import pandas as pd \n",
    "import numpy as np \n",
    "from datetime import datetime\n",
    "import os"
   ]
  },
  {
   "cell_type": "code",
   "execution_count": 2,
   "metadata": {},
   "outputs": [],
   "source": [
    "dataset_dir = '../Dataset/'"
   ]
  },
  {
   "cell_type": "code",
   "execution_count": 3,
   "metadata": {},
   "outputs": [
    {
     "data": {
      "text/plain": [
       "['Dataset.csv',\n",
       " 'NCC-2 Dataset Simultaneous Botnet Dataset',\n",
       " 'Outdated',\n",
       " 'sensor1_clean.csv',\n",
       " 'sensor1_encoded.csv',\n",
       " 'sensor1_isbotnet.csv',\n",
       " 'sensor1_isspam.csv',\n",
       " 'sensor1_test.csv',\n",
       " 'sensor1_train.csv',\n",
       " 'sensor2_clean.csv',\n",
       " 'sensor2_encoded.csv',\n",
       " 'sensor2_isbotnet.csv',\n",
       " 'sensor2_isspam.csv',\n",
       " 'sensor2_test.csv',\n",
       " 'sensor2_train.csv',\n",
       " 'sensor3_clean.csv',\n",
       " 'sensor3_encoded.csv',\n",
       " 'sensor3_isbotnet.csv',\n",
       " 'sensor3_isspam.csv',\n",
       " 'sensor3_test.csv',\n",
       " 'sensor3_train.csv']"
      ]
     },
     "execution_count": 3,
     "metadata": {},
     "output_type": "execute_result"
    }
   ],
   "source": [
    "os.listdir(dataset_dir)"
   ]
  },
  {
   "cell_type": "markdown",
   "metadata": {},
   "source": [
    "# Data"
   ]
  },
  {
   "cell_type": "code",
   "execution_count": null,
   "metadata": {},
   "outputs": [],
   "source": [
    "# Sensor 1\n",
    "train1_isbotnet = pd.read_csv(dataset_dir + 'sensor1_isbotnet.csv')\n",
    "train1_isspam = pd.read_csv(dataset_dir + 'sensor1_isspam.csv')"
   ]
  },
  {
   "cell_type": "code",
   "execution_count": 17,
   "metadata": {},
   "outputs": [
    {
     "data": {
      "text/html": [
       "<div>\n",
       "<style scoped>\n",
       "    .dataframe tbody tr th:only-of-type {\n",
       "        vertical-align: middle;\n",
       "    }\n",
       "\n",
       "    .dataframe tbody tr th {\n",
       "        vertical-align: top;\n",
       "    }\n",
       "\n",
       "    .dataframe thead th {\n",
       "        text-align: right;\n",
       "    }\n",
       "</style>\n",
       "<table border=\"1\" class=\"dataframe\">\n",
       "  <thead>\n",
       "    <tr style=\"text-align: right;\">\n",
       "      <th></th>\n",
       "      <th>Dur</th>\n",
       "      <th>Proto</th>\n",
       "      <th>SrcAddr</th>\n",
       "      <th>Sport</th>\n",
       "      <th>Dir</th>\n",
       "      <th>DstAddr</th>\n",
       "      <th>Dport</th>\n",
       "      <th>State</th>\n",
       "      <th>sTos</th>\n",
       "      <th>dTos</th>\n",
       "      <th>TotPkts</th>\n",
       "      <th>TotBytes</th>\n",
       "      <th>SrcBytes</th>\n",
       "      <th>StartTimeHour</th>\n",
       "      <th>StartTimeMinute</th>\n",
       "      <th>StartTimeSecond</th>\n",
       "      <th>isBotnet</th>\n",
       "    </tr>\n",
       "  </thead>\n",
       "  <tbody>\n",
       "    <tr>\n",
       "      <th>0</th>\n",
       "      <td>0.000391</td>\n",
       "      <td>4</td>\n",
       "      <td>827329</td>\n",
       "      <td>80</td>\n",
       "      <td>3</td>\n",
       "      <td>1823076</td>\n",
       "      <td>1852324</td>\n",
       "      <td>16</td>\n",
       "      <td>0</td>\n",
       "      <td>0</td>\n",
       "      <td>2</td>\n",
       "      <td>214</td>\n",
       "      <td>81</td>\n",
       "      <td>11</td>\n",
       "      <td>33</td>\n",
       "      <td>47</td>\n",
       "      <td>0</td>\n",
       "    </tr>\n",
       "    <tr>\n",
       "      <th>1</th>\n",
       "      <td>173.576294</td>\n",
       "      <td>4</td>\n",
       "      <td>1</td>\n",
       "      <td>25</td>\n",
       "      <td>3</td>\n",
       "      <td>1326350</td>\n",
       "      <td>1274027</td>\n",
       "      <td>16</td>\n",
       "      <td>0</td>\n",
       "      <td>0</td>\n",
       "      <td>4</td>\n",
       "      <td>1152</td>\n",
       "      <td>1032</td>\n",
       "      <td>13</td>\n",
       "      <td>21</td>\n",
       "      <td>20</td>\n",
       "      <td>0</td>\n",
       "    </tr>\n",
       "    <tr>\n",
       "      <th>2</th>\n",
       "      <td>0.131737</td>\n",
       "      <td>4</td>\n",
       "      <td>527737</td>\n",
       "      <td>963</td>\n",
       "      <td>3</td>\n",
       "      <td>1</td>\n",
       "      <td>3</td>\n",
       "      <td>16</td>\n",
       "      <td>0</td>\n",
       "      <td>0</td>\n",
       "      <td>2</td>\n",
       "      <td>470</td>\n",
       "      <td>143</td>\n",
       "      <td>9</td>\n",
       "      <td>0</td>\n",
       "      <td>21</td>\n",
       "      <td>0</td>\n",
       "    </tr>\n",
       "    <tr>\n",
       "      <th>3</th>\n",
       "      <td>0.308996</td>\n",
       "      <td>3</td>\n",
       "      <td>103205</td>\n",
       "      <td>90</td>\n",
       "      <td>0</td>\n",
       "      <td>6173</td>\n",
       "      <td>653182</td>\n",
       "      <td>108</td>\n",
       "      <td>0</td>\n",
       "      <td>0</td>\n",
       "      <td>34</td>\n",
       "      <td>29101</td>\n",
       "      <td>798</td>\n",
       "      <td>14</td>\n",
       "      <td>40</td>\n",
       "      <td>27</td>\n",
       "      <td>0</td>\n",
       "    </tr>\n",
       "    <tr>\n",
       "      <th>4</th>\n",
       "      <td>0.050216</td>\n",
       "      <td>4</td>\n",
       "      <td>527737</td>\n",
       "      <td>167</td>\n",
       "      <td>3</td>\n",
       "      <td>1823076</td>\n",
       "      <td>1852324</td>\n",
       "      <td>16</td>\n",
       "      <td>0</td>\n",
       "      <td>0</td>\n",
       "      <td>2</td>\n",
       "      <td>454</td>\n",
       "      <td>78</td>\n",
       "      <td>10</td>\n",
       "      <td>4</td>\n",
       "      <td>49</td>\n",
       "      <td>0</td>\n",
       "    </tr>\n",
       "  </tbody>\n",
       "</table>\n",
       "</div>"
      ],
      "text/plain": [
       "          Dur  Proto  SrcAddr  Sport  Dir  DstAddr    Dport  State  sTos  \\\n",
       "0    0.000391      4   827329     80    3  1823076  1852324     16     0   \n",
       "1  173.576294      4        1     25    3  1326350  1274027     16     0   \n",
       "2    0.131737      4   527737    963    3        1        3     16     0   \n",
       "3    0.308996      3   103205     90    0     6173   653182    108     0   \n",
       "4    0.050216      4   527737    167    3  1823076  1852324     16     0   \n",
       "\n",
       "   dTos  TotPkts  TotBytes  SrcBytes  StartTimeHour  StartTimeMinute  \\\n",
       "0     0        2       214        81             11               33   \n",
       "1     0        4      1152      1032             13               21   \n",
       "2     0        2       470       143              9                0   \n",
       "3     0       34     29101       798             14               40   \n",
       "4     0        2       454        78             10                4   \n",
       "\n",
       "   StartTimeSecond  isBotnet  \n",
       "0               47         0  \n",
       "1               20         0  \n",
       "2               21         0  \n",
       "3               27         0  \n",
       "4               49         0  "
      ]
     },
     "execution_count": 17,
     "metadata": {},
     "output_type": "execute_result"
    }
   ],
   "source": [
    "train1_isbotnet.head()"
   ]
  },
  {
   "cell_type": "code",
   "execution_count": 18,
   "metadata": {},
   "outputs": [
    {
     "data": {
      "text/html": [
       "<div>\n",
       "<style scoped>\n",
       "    .dataframe tbody tr th:only-of-type {\n",
       "        vertical-align: middle;\n",
       "    }\n",
       "\n",
       "    .dataframe tbody tr th {\n",
       "        vertical-align: top;\n",
       "    }\n",
       "\n",
       "    .dataframe thead th {\n",
       "        text-align: right;\n",
       "    }\n",
       "</style>\n",
       "<table border=\"1\" class=\"dataframe\">\n",
       "  <thead>\n",
       "    <tr style=\"text-align: right;\">\n",
       "      <th></th>\n",
       "      <th>Dur</th>\n",
       "      <th>Proto</th>\n",
       "      <th>SrcAddr</th>\n",
       "      <th>Sport</th>\n",
       "      <th>Dir</th>\n",
       "      <th>DstAddr</th>\n",
       "      <th>Dport</th>\n",
       "      <th>State</th>\n",
       "      <th>sTos</th>\n",
       "      <th>dTos</th>\n",
       "      <th>TotPkts</th>\n",
       "      <th>TotBytes</th>\n",
       "      <th>SrcBytes</th>\n",
       "      <th>StartTimeHour</th>\n",
       "      <th>StartTimeMinute</th>\n",
       "      <th>StartTimeSecond</th>\n",
       "      <th>isSpam</th>\n",
       "    </tr>\n",
       "  </thead>\n",
       "  <tbody>\n",
       "    <tr>\n",
       "      <th>0</th>\n",
       "      <td>422.440826</td>\n",
       "      <td>3</td>\n",
       "      <td>6948</td>\n",
       "      <td>7198</td>\n",
       "      <td>0</td>\n",
       "      <td>1822</td>\n",
       "      <td>20499</td>\n",
       "      <td>255</td>\n",
       "      <td>0</td>\n",
       "      <td>0</td>\n",
       "      <td>78</td>\n",
       "      <td>18613</td>\n",
       "      <td>2246</td>\n",
       "      <td>11</td>\n",
       "      <td>41</td>\n",
       "      <td>6</td>\n",
       "      <td>0</td>\n",
       "    </tr>\n",
       "    <tr>\n",
       "      <th>1</th>\n",
       "      <td>0.224194</td>\n",
       "      <td>3</td>\n",
       "      <td>82656</td>\n",
       "      <td>73</td>\n",
       "      <td>0</td>\n",
       "      <td>925</td>\n",
       "      <td>653182</td>\n",
       "      <td>108</td>\n",
       "      <td>0</td>\n",
       "      <td>0</td>\n",
       "      <td>14</td>\n",
       "      <td>6619</td>\n",
       "      <td>3145</td>\n",
       "      <td>12</td>\n",
       "      <td>58</td>\n",
       "      <td>6</td>\n",
       "      <td>0</td>\n",
       "    </tr>\n",
       "    <tr>\n",
       "      <th>2</th>\n",
       "      <td>133.106522</td>\n",
       "      <td>3</td>\n",
       "      <td>82656</td>\n",
       "      <td>348</td>\n",
       "      <td>0</td>\n",
       "      <td>3144</td>\n",
       "      <td>505</td>\n",
       "      <td>257</td>\n",
       "      <td>0</td>\n",
       "      <td>0</td>\n",
       "      <td>72</td>\n",
       "      <td>60352</td>\n",
       "      <td>1981</td>\n",
       "      <td>14</td>\n",
       "      <td>40</td>\n",
       "      <td>21</td>\n",
       "      <td>0</td>\n",
       "    </tr>\n",
       "    <tr>\n",
       "      <th>3</th>\n",
       "      <td>1.989225</td>\n",
       "      <td>3</td>\n",
       "      <td>82656</td>\n",
       "      <td>115</td>\n",
       "      <td>0</td>\n",
       "      <td>298</td>\n",
       "      <td>141542</td>\n",
       "      <td>108</td>\n",
       "      <td>0</td>\n",
       "      <td>0</td>\n",
       "      <td>29</td>\n",
       "      <td>13130</td>\n",
       "      <td>2656</td>\n",
       "      <td>11</td>\n",
       "      <td>48</td>\n",
       "      <td>15</td>\n",
       "      <td>0</td>\n",
       "    </tr>\n",
       "    <tr>\n",
       "      <th>4</th>\n",
       "      <td>500.001862</td>\n",
       "      <td>3</td>\n",
       "      <td>82656</td>\n",
       "      <td>1114</td>\n",
       "      <td>0</td>\n",
       "      <td>3133</td>\n",
       "      <td>653182</td>\n",
       "      <td>248</td>\n",
       "      <td>0</td>\n",
       "      <td>0</td>\n",
       "      <td>14</td>\n",
       "      <td>5498</td>\n",
       "      <td>531</td>\n",
       "      <td>11</td>\n",
       "      <td>44</td>\n",
       "      <td>37</td>\n",
       "      <td>0</td>\n",
       "    </tr>\n",
       "  </tbody>\n",
       "</table>\n",
       "</div>"
      ],
      "text/plain": [
       "          Dur  Proto  SrcAddr  Sport  Dir  DstAddr   Dport  State  sTos  dTos  \\\n",
       "0  422.440826      3     6948   7198    0     1822   20499    255     0     0   \n",
       "1    0.224194      3    82656     73    0      925  653182    108     0     0   \n",
       "2  133.106522      3    82656    348    0     3144     505    257     0     0   \n",
       "3    1.989225      3    82656    115    0      298  141542    108     0     0   \n",
       "4  500.001862      3    82656   1114    0     3133  653182    248     0     0   \n",
       "\n",
       "   TotPkts  TotBytes  SrcBytes  StartTimeHour  StartTimeMinute  \\\n",
       "0       78     18613      2246             11               41   \n",
       "1       14      6619      3145             12               58   \n",
       "2       72     60352      1981             14               40   \n",
       "3       29     13130      2656             11               48   \n",
       "4       14      5498       531             11               44   \n",
       "\n",
       "   StartTimeSecond  isSpam  \n",
       "0                6       0  \n",
       "1                6       0  \n",
       "2               21       0  \n",
       "3               15       0  \n",
       "4               37       0  "
      ]
     },
     "execution_count": 18,
     "metadata": {},
     "output_type": "execute_result"
    }
   ],
   "source": [
    "train1_isspam.head()"
   ]
  },
  {
   "cell_type": "code",
   "execution_count": null,
   "metadata": {},
   "outputs": [],
   "source": [
    "# Sensor 2\n",
    "train2_isbotnet = pd.read_csv(dataset_dir + 'sensor2_isbotnet.csv')\n",
    "train2_isspam = pd.read_csv(dataset_dir + 'sensor2_isspam.csv')"
   ]
  },
  {
   "cell_type": "code",
   "execution_count": 21,
   "metadata": {},
   "outputs": [
    {
     "data": {
      "text/html": [
       "<div>\n",
       "<style scoped>\n",
       "    .dataframe tbody tr th:only-of-type {\n",
       "        vertical-align: middle;\n",
       "    }\n",
       "\n",
       "    .dataframe tbody tr th {\n",
       "        vertical-align: top;\n",
       "    }\n",
       "\n",
       "    .dataframe thead th {\n",
       "        text-align: right;\n",
       "    }\n",
       "</style>\n",
       "<table border=\"1\" class=\"dataframe\">\n",
       "  <thead>\n",
       "    <tr style=\"text-align: right;\">\n",
       "      <th></th>\n",
       "      <th>Dur</th>\n",
       "      <th>Proto</th>\n",
       "      <th>SrcAddr</th>\n",
       "      <th>Sport</th>\n",
       "      <th>Dir</th>\n",
       "      <th>DstAddr</th>\n",
       "      <th>Dport</th>\n",
       "      <th>State</th>\n",
       "      <th>sTos</th>\n",
       "      <th>dTos</th>\n",
       "      <th>TotPkts</th>\n",
       "      <th>TotBytes</th>\n",
       "      <th>SrcBytes</th>\n",
       "      <th>StartTimeHour</th>\n",
       "      <th>StartTimeMinute</th>\n",
       "      <th>StartTimeSecond</th>\n",
       "      <th>isBotnet</th>\n",
       "    </tr>\n",
       "  </thead>\n",
       "  <tbody>\n",
       "    <tr>\n",
       "      <th>0</th>\n",
       "      <td>0.001287</td>\n",
       "      <td>4</td>\n",
       "      <td>1</td>\n",
       "      <td>19</td>\n",
       "      <td>3</td>\n",
       "      <td>1615327</td>\n",
       "      <td>1554370</td>\n",
       "      <td>16</td>\n",
       "      <td>0</td>\n",
       "      <td>0</td>\n",
       "      <td>2</td>\n",
       "      <td>136</td>\n",
       "      <td>76</td>\n",
       "      <td>9</td>\n",
       "      <td>48</td>\n",
       "      <td>10</td>\n",
       "      <td>0</td>\n",
       "    </tr>\n",
       "    <tr>\n",
       "      <th>1</th>\n",
       "      <td>0.000195</td>\n",
       "      <td>4</td>\n",
       "      <td>1082471</td>\n",
       "      <td>109</td>\n",
       "      <td>3</td>\n",
       "      <td>2162514</td>\n",
       "      <td>2194973</td>\n",
       "      <td>16</td>\n",
       "      <td>0</td>\n",
       "      <td>0</td>\n",
       "      <td>2</td>\n",
       "      <td>214</td>\n",
       "      <td>81</td>\n",
       "      <td>12</td>\n",
       "      <td>35</td>\n",
       "      <td>33</td>\n",
       "      <td>0</td>\n",
       "    </tr>\n",
       "    <tr>\n",
       "      <th>2</th>\n",
       "      <td>0.584504</td>\n",
       "      <td>4</td>\n",
       "      <td>3</td>\n",
       "      <td>34</td>\n",
       "      <td>3</td>\n",
       "      <td>1615327</td>\n",
       "      <td>1554370</td>\n",
       "      <td>16</td>\n",
       "      <td>0</td>\n",
       "      <td>0</td>\n",
       "      <td>4</td>\n",
       "      <td>452</td>\n",
       "      <td>141</td>\n",
       "      <td>14</td>\n",
       "      <td>34</td>\n",
       "      <td>8</td>\n",
       "      <td>0</td>\n",
       "    </tr>\n",
       "    <tr>\n",
       "      <th>3</th>\n",
       "      <td>0.000748</td>\n",
       "      <td>4</td>\n",
       "      <td>3</td>\n",
       "      <td>72</td>\n",
       "      <td>3</td>\n",
       "      <td>1615327</td>\n",
       "      <td>198224</td>\n",
       "      <td>16</td>\n",
       "      <td>0</td>\n",
       "      <td>0</td>\n",
       "      <td>2</td>\n",
       "      <td>128</td>\n",
       "      <td>60</td>\n",
       "      <td>15</td>\n",
       "      <td>16</td>\n",
       "      <td>14</td>\n",
       "      <td>0</td>\n",
       "    </tr>\n",
       "    <tr>\n",
       "      <th>4</th>\n",
       "      <td>4.907568</td>\n",
       "      <td>3</td>\n",
       "      <td>49</td>\n",
       "      <td>36</td>\n",
       "      <td>0</td>\n",
       "      <td>1615327</td>\n",
       "      <td>775304</td>\n",
       "      <td>108</td>\n",
       "      <td>0</td>\n",
       "      <td>0</td>\n",
       "      <td>14</td>\n",
       "      <td>1052</td>\n",
       "      <td>504</td>\n",
       "      <td>9</td>\n",
       "      <td>59</td>\n",
       "      <td>46</td>\n",
       "      <td>0</td>\n",
       "    </tr>\n",
       "  </tbody>\n",
       "</table>\n",
       "</div>"
      ],
      "text/plain": [
       "        Dur  Proto  SrcAddr  Sport  Dir  DstAddr    Dport  State  sTos  dTos  \\\n",
       "0  0.001287      4        1     19    3  1615327  1554370     16     0     0   \n",
       "1  0.000195      4  1082471    109    3  2162514  2194973     16     0     0   \n",
       "2  0.584504      4        3     34    3  1615327  1554370     16     0     0   \n",
       "3  0.000748      4        3     72    3  1615327   198224     16     0     0   \n",
       "4  4.907568      3       49     36    0  1615327   775304    108     0     0   \n",
       "\n",
       "   TotPkts  TotBytes  SrcBytes  StartTimeHour  StartTimeMinute  \\\n",
       "0        2       136        76              9               48   \n",
       "1        2       214        81             12               35   \n",
       "2        4       452       141             14               34   \n",
       "3        2       128        60             15               16   \n",
       "4       14      1052       504              9               59   \n",
       "\n",
       "   StartTimeSecond  isBotnet  \n",
       "0               10         0  \n",
       "1               33         0  \n",
       "2                8         0  \n",
       "3               14         0  \n",
       "4               46         0  "
      ]
     },
     "execution_count": 21,
     "metadata": {},
     "output_type": "execute_result"
    }
   ],
   "source": [
    "train2_isbotnet.head()"
   ]
  },
  {
   "cell_type": "code",
   "execution_count": 22,
   "metadata": {},
   "outputs": [
    {
     "data": {
      "text/html": [
       "<div>\n",
       "<style scoped>\n",
       "    .dataframe tbody tr th:only-of-type {\n",
       "        vertical-align: middle;\n",
       "    }\n",
       "\n",
       "    .dataframe tbody tr th {\n",
       "        vertical-align: top;\n",
       "    }\n",
       "\n",
       "    .dataframe thead th {\n",
       "        text-align: right;\n",
       "    }\n",
       "</style>\n",
       "<table border=\"1\" class=\"dataframe\">\n",
       "  <thead>\n",
       "    <tr style=\"text-align: right;\">\n",
       "      <th></th>\n",
       "      <th>Dur</th>\n",
       "      <th>Proto</th>\n",
       "      <th>SrcAddr</th>\n",
       "      <th>Sport</th>\n",
       "      <th>Dir</th>\n",
       "      <th>DstAddr</th>\n",
       "      <th>Dport</th>\n",
       "      <th>State</th>\n",
       "      <th>sTos</th>\n",
       "      <th>dTos</th>\n",
       "      <th>TotPkts</th>\n",
       "      <th>TotBytes</th>\n",
       "      <th>SrcBytes</th>\n",
       "      <th>StartTimeHour</th>\n",
       "      <th>StartTimeMinute</th>\n",
       "      <th>StartTimeSecond</th>\n",
       "      <th>isSpam</th>\n",
       "    </tr>\n",
       "  </thead>\n",
       "  <tbody>\n",
       "    <tr>\n",
       "      <th>0</th>\n",
       "      <td>3596.974854</td>\n",
       "      <td>4</td>\n",
       "      <td>27893</td>\n",
       "      <td>1788</td>\n",
       "      <td>3</td>\n",
       "      <td>14888</td>\n",
       "      <td>14889</td>\n",
       "      <td>16</td>\n",
       "      <td>0</td>\n",
       "      <td>0</td>\n",
       "      <td>901</td>\n",
       "      <td>73882</td>\n",
       "      <td>73800</td>\n",
       "      <td>14</td>\n",
       "      <td>27</td>\n",
       "      <td>9</td>\n",
       "      <td>0</td>\n",
       "    </tr>\n",
       "    <tr>\n",
       "      <th>1</th>\n",
       "      <td>9.013265</td>\n",
       "      <td>3</td>\n",
       "      <td>103634</td>\n",
       "      <td>129</td>\n",
       "      <td>0</td>\n",
       "      <td>14</td>\n",
       "      <td>15935</td>\n",
       "      <td>302</td>\n",
       "      <td>0</td>\n",
       "      <td>0</td>\n",
       "      <td>3</td>\n",
       "      <td>186</td>\n",
       "      <td>186</td>\n",
       "      <td>11</td>\n",
       "      <td>25</td>\n",
       "      <td>18</td>\n",
       "      <td>1</td>\n",
       "    </tr>\n",
       "    <tr>\n",
       "      <th>2</th>\n",
       "      <td>15.634752</td>\n",
       "      <td>3</td>\n",
       "      <td>103634</td>\n",
       "      <td>222</td>\n",
       "      <td>0</td>\n",
       "      <td>4000</td>\n",
       "      <td>13013</td>\n",
       "      <td>108</td>\n",
       "      <td>0</td>\n",
       "      <td>0</td>\n",
       "      <td>34</td>\n",
       "      <td>10028</td>\n",
       "      <td>5312</td>\n",
       "      <td>13</td>\n",
       "      <td>28</td>\n",
       "      <td>17</td>\n",
       "      <td>0</td>\n",
       "    </tr>\n",
       "    <tr>\n",
       "      <th>3</th>\n",
       "      <td>139.382477</td>\n",
       "      <td>3</td>\n",
       "      <td>31786</td>\n",
       "      <td>1153</td>\n",
       "      <td>0</td>\n",
       "      <td>1028</td>\n",
       "      <td>198224</td>\n",
       "      <td>108</td>\n",
       "      <td>0</td>\n",
       "      <td>0</td>\n",
       "      <td>150</td>\n",
       "      <td>116103</td>\n",
       "      <td>4692</td>\n",
       "      <td>10</td>\n",
       "      <td>45</td>\n",
       "      <td>56</td>\n",
       "      <td>0</td>\n",
       "    </tr>\n",
       "    <tr>\n",
       "      <th>4</th>\n",
       "      <td>0.321760</td>\n",
       "      <td>3</td>\n",
       "      <td>27879</td>\n",
       "      <td>199</td>\n",
       "      <td>0</td>\n",
       "      <td>1237</td>\n",
       "      <td>775304</td>\n",
       "      <td>108</td>\n",
       "      <td>0</td>\n",
       "      <td>0</td>\n",
       "      <td>10</td>\n",
       "      <td>1308</td>\n",
       "      <td>766</td>\n",
       "      <td>10</td>\n",
       "      <td>1</td>\n",
       "      <td>29</td>\n",
       "      <td>0</td>\n",
       "    </tr>\n",
       "  </tbody>\n",
       "</table>\n",
       "</div>"
      ],
      "text/plain": [
       "           Dur  Proto  SrcAddr  Sport  Dir  DstAddr   Dport  State  sTos  \\\n",
       "0  3596.974854      4    27893   1788    3    14888   14889     16     0   \n",
       "1     9.013265      3   103634    129    0       14   15935    302     0   \n",
       "2    15.634752      3   103634    222    0     4000   13013    108     0   \n",
       "3   139.382477      3    31786   1153    0     1028  198224    108     0   \n",
       "4     0.321760      3    27879    199    0     1237  775304    108     0   \n",
       "\n",
       "   dTos  TotPkts  TotBytes  SrcBytes  StartTimeHour  StartTimeMinute  \\\n",
       "0     0      901     73882     73800             14               27   \n",
       "1     0        3       186       186             11               25   \n",
       "2     0       34     10028      5312             13               28   \n",
       "3     0      150    116103      4692             10               45   \n",
       "4     0       10      1308       766             10                1   \n",
       "\n",
       "   StartTimeSecond  isSpam  \n",
       "0                9       0  \n",
       "1               18       1  \n",
       "2               17       0  \n",
       "3               56       0  \n",
       "4               29       0  "
      ]
     },
     "execution_count": 22,
     "metadata": {},
     "output_type": "execute_result"
    }
   ],
   "source": [
    "train2_isspam.head()"
   ]
  },
  {
   "cell_type": "code",
   "execution_count": null,
   "metadata": {},
   "outputs": [],
   "source": [
    "# Sensor 3\n",
    "train3_isbotnet = pd.read_csv(dataset_dir + 'sensor3_isbotnet.csv')\n",
    "train3_isspam = pd.read_csv(dataset_dir + 'sensor3_isspam.csv')"
   ]
  },
  {
   "cell_type": "code",
   "execution_count": 23,
   "metadata": {},
   "outputs": [
    {
     "data": {
      "text/html": [
       "<div>\n",
       "<style scoped>\n",
       "    .dataframe tbody tr th:only-of-type {\n",
       "        vertical-align: middle;\n",
       "    }\n",
       "\n",
       "    .dataframe tbody tr th {\n",
       "        vertical-align: top;\n",
       "    }\n",
       "\n",
       "    .dataframe thead th {\n",
       "        text-align: right;\n",
       "    }\n",
       "</style>\n",
       "<table border=\"1\" class=\"dataframe\">\n",
       "  <thead>\n",
       "    <tr style=\"text-align: right;\">\n",
       "      <th></th>\n",
       "      <th>Dur</th>\n",
       "      <th>Proto</th>\n",
       "      <th>SrcAddr</th>\n",
       "      <th>Sport</th>\n",
       "      <th>Dir</th>\n",
       "      <th>DstAddr</th>\n",
       "      <th>Dport</th>\n",
       "      <th>State</th>\n",
       "      <th>sTos</th>\n",
       "      <th>dTos</th>\n",
       "      <th>TotPkts</th>\n",
       "      <th>TotBytes</th>\n",
       "      <th>SrcBytes</th>\n",
       "      <th>StartTimeHour</th>\n",
       "      <th>StartTimeMinute</th>\n",
       "      <th>StartTimeSecond</th>\n",
       "      <th>isBotnet</th>\n",
       "    </tr>\n",
       "  </thead>\n",
       "  <tbody>\n",
       "    <tr>\n",
       "      <th>0</th>\n",
       "      <td>0.001270</td>\n",
       "      <td>4</td>\n",
       "      <td>4001</td>\n",
       "      <td>100</td>\n",
       "      <td>3</td>\n",
       "      <td>1615276</td>\n",
       "      <td>1628176</td>\n",
       "      <td>9</td>\n",
       "      <td>0</td>\n",
       "      <td>0</td>\n",
       "      <td>2</td>\n",
       "      <td>358</td>\n",
       "      <td>85</td>\n",
       "      <td>10</td>\n",
       "      <td>27</td>\n",
       "      <td>1</td>\n",
       "      <td>0</td>\n",
       "    </tr>\n",
       "    <tr>\n",
       "      <th>1</th>\n",
       "      <td>0.000523</td>\n",
       "      <td>4</td>\n",
       "      <td>9686</td>\n",
       "      <td>56</td>\n",
       "      <td>3</td>\n",
       "      <td>1615276</td>\n",
       "      <td>1628176</td>\n",
       "      <td>9</td>\n",
       "      <td>0</td>\n",
       "      <td>0</td>\n",
       "      <td>2</td>\n",
       "      <td>364</td>\n",
       "      <td>75</td>\n",
       "      <td>9</td>\n",
       "      <td>18</td>\n",
       "      <td>4</td>\n",
       "      <td>0</td>\n",
       "    </tr>\n",
       "    <tr>\n",
       "      <th>2</th>\n",
       "      <td>0.000296</td>\n",
       "      <td>4</td>\n",
       "      <td>657086</td>\n",
       "      <td>59</td>\n",
       "      <td>3</td>\n",
       "      <td>1615276</td>\n",
       "      <td>1628176</td>\n",
       "      <td>9</td>\n",
       "      <td>0</td>\n",
       "      <td>0</td>\n",
       "      <td>2</td>\n",
       "      <td>304</td>\n",
       "      <td>83</td>\n",
       "      <td>13</td>\n",
       "      <td>46</td>\n",
       "      <td>33</td>\n",
       "      <td>0</td>\n",
       "    </tr>\n",
       "    <tr>\n",
       "      <th>3</th>\n",
       "      <td>0.000289</td>\n",
       "      <td>4</td>\n",
       "      <td>587582</td>\n",
       "      <td>94</td>\n",
       "      <td>3</td>\n",
       "      <td>1615276</td>\n",
       "      <td>1628176</td>\n",
       "      <td>9</td>\n",
       "      <td>0</td>\n",
       "      <td>0</td>\n",
       "      <td>2</td>\n",
       "      <td>196</td>\n",
       "      <td>75</td>\n",
       "      <td>9</td>\n",
       "      <td>34</td>\n",
       "      <td>20</td>\n",
       "      <td>0</td>\n",
       "    </tr>\n",
       "    <tr>\n",
       "      <th>4</th>\n",
       "      <td>325.127808</td>\n",
       "      <td>3</td>\n",
       "      <td>86658</td>\n",
       "      <td>636</td>\n",
       "      <td>0</td>\n",
       "      <td>987</td>\n",
       "      <td>4206</td>\n",
       "      <td>225</td>\n",
       "      <td>0</td>\n",
       "      <td>0</td>\n",
       "      <td>2022</td>\n",
       "      <td>1811163</td>\n",
       "      <td>54424</td>\n",
       "      <td>10</td>\n",
       "      <td>28</td>\n",
       "      <td>44</td>\n",
       "      <td>1</td>\n",
       "    </tr>\n",
       "  </tbody>\n",
       "</table>\n",
       "</div>"
      ],
      "text/plain": [
       "          Dur  Proto  SrcAddr  Sport  Dir  DstAddr    Dport  State  sTos  \\\n",
       "0    0.001270      4     4001    100    3  1615276  1628176      9     0   \n",
       "1    0.000523      4     9686     56    3  1615276  1628176      9     0   \n",
       "2    0.000296      4   657086     59    3  1615276  1628176      9     0   \n",
       "3    0.000289      4   587582     94    3  1615276  1628176      9     0   \n",
       "4  325.127808      3    86658    636    0      987     4206    225     0   \n",
       "\n",
       "   dTos  TotPkts  TotBytes  SrcBytes  StartTimeHour  StartTimeMinute  \\\n",
       "0     0        2       358        85             10               27   \n",
       "1     0        2       364        75              9               18   \n",
       "2     0        2       304        83             13               46   \n",
       "3     0        2       196        75              9               34   \n",
       "4     0     2022   1811163     54424             10               28   \n",
       "\n",
       "   StartTimeSecond  isBotnet  \n",
       "0                1         0  \n",
       "1                4         0  \n",
       "2               33         0  \n",
       "3               20         0  \n",
       "4               44         1  "
      ]
     },
     "execution_count": 23,
     "metadata": {},
     "output_type": "execute_result"
    }
   ],
   "source": [
    "train3_isbotnet.head()"
   ]
  },
  {
   "cell_type": "code",
   "execution_count": 24,
   "metadata": {},
   "outputs": [
    {
     "data": {
      "text/html": [
       "<div>\n",
       "<style scoped>\n",
       "    .dataframe tbody tr th:only-of-type {\n",
       "        vertical-align: middle;\n",
       "    }\n",
       "\n",
       "    .dataframe tbody tr th {\n",
       "        vertical-align: top;\n",
       "    }\n",
       "\n",
       "    .dataframe thead th {\n",
       "        text-align: right;\n",
       "    }\n",
       "</style>\n",
       "<table border=\"1\" class=\"dataframe\">\n",
       "  <thead>\n",
       "    <tr style=\"text-align: right;\">\n",
       "      <th></th>\n",
       "      <th>Dur</th>\n",
       "      <th>Proto</th>\n",
       "      <th>SrcAddr</th>\n",
       "      <th>Sport</th>\n",
       "      <th>Dir</th>\n",
       "      <th>DstAddr</th>\n",
       "      <th>Dport</th>\n",
       "      <th>State</th>\n",
       "      <th>sTos</th>\n",
       "      <th>dTos</th>\n",
       "      <th>TotPkts</th>\n",
       "      <th>TotBytes</th>\n",
       "      <th>SrcBytes</th>\n",
       "      <th>StartTimeHour</th>\n",
       "      <th>StartTimeMinute</th>\n",
       "      <th>StartTimeSecond</th>\n",
       "      <th>isSpam</th>\n",
       "    </tr>\n",
       "  </thead>\n",
       "  <tbody>\n",
       "    <tr>\n",
       "      <th>0</th>\n",
       "      <td>325.127808</td>\n",
       "      <td>3</td>\n",
       "      <td>86658</td>\n",
       "      <td>636</td>\n",
       "      <td>0</td>\n",
       "      <td>987</td>\n",
       "      <td>4206</td>\n",
       "      <td>225</td>\n",
       "      <td>0</td>\n",
       "      <td>0</td>\n",
       "      <td>2022</td>\n",
       "      <td>1811163</td>\n",
       "      <td>54424</td>\n",
       "      <td>10</td>\n",
       "      <td>28</td>\n",
       "      <td>44</td>\n",
       "      <td>0</td>\n",
       "    </tr>\n",
       "    <tr>\n",
       "      <th>1</th>\n",
       "      <td>3596.842041</td>\n",
       "      <td>4</td>\n",
       "      <td>22897</td>\n",
       "      <td>1766</td>\n",
       "      <td>3</td>\n",
       "      <td>14888</td>\n",
       "      <td>14888</td>\n",
       "      <td>9</td>\n",
       "      <td>0</td>\n",
       "      <td>0</td>\n",
       "      <td>901</td>\n",
       "      <td>73882</td>\n",
       "      <td>73800</td>\n",
       "      <td>11</td>\n",
       "      <td>24</td>\n",
       "      <td>4</td>\n",
       "      <td>0</td>\n",
       "    </tr>\n",
       "    <tr>\n",
       "      <th>2</th>\n",
       "      <td>12.869656</td>\n",
       "      <td>3</td>\n",
       "      <td>21901</td>\n",
       "      <td>87</td>\n",
       "      <td>0</td>\n",
       "      <td>150</td>\n",
       "      <td>625148</td>\n",
       "      <td>81</td>\n",
       "      <td>0</td>\n",
       "      <td>0</td>\n",
       "      <td>11</td>\n",
       "      <td>1613</td>\n",
       "      <td>624</td>\n",
       "      <td>16</td>\n",
       "      <td>11</td>\n",
       "      <td>47</td>\n",
       "      <td>0</td>\n",
       "    </tr>\n",
       "    <tr>\n",
       "      <th>3</th>\n",
       "      <td>9.013113</td>\n",
       "      <td>3</td>\n",
       "      <td>86658</td>\n",
       "      <td>148</td>\n",
       "      <td>0</td>\n",
       "      <td>4</td>\n",
       "      <td>14386</td>\n",
       "      <td>234</td>\n",
       "      <td>0</td>\n",
       "      <td>0</td>\n",
       "      <td>3</td>\n",
       "      <td>186</td>\n",
       "      <td>186</td>\n",
       "      <td>10</td>\n",
       "      <td>22</td>\n",
       "      <td>2</td>\n",
       "      <td>1</td>\n",
       "    </tr>\n",
       "    <tr>\n",
       "      <th>4</th>\n",
       "      <td>149.770126</td>\n",
       "      <td>3</td>\n",
       "      <td>21927</td>\n",
       "      <td>94</td>\n",
       "      <td>0</td>\n",
       "      <td>6416</td>\n",
       "      <td>625148</td>\n",
       "      <td>219</td>\n",
       "      <td>0</td>\n",
       "      <td>0</td>\n",
       "      <td>10</td>\n",
       "      <td>1040</td>\n",
       "      <td>543</td>\n",
       "      <td>12</td>\n",
       "      <td>17</td>\n",
       "      <td>45</td>\n",
       "      <td>0</td>\n",
       "    </tr>\n",
       "  </tbody>\n",
       "</table>\n",
       "</div>"
      ],
      "text/plain": [
       "           Dur  Proto  SrcAddr  Sport  Dir  DstAddr   Dport  State  sTos  \\\n",
       "0   325.127808      3    86658    636    0      987    4206    225     0   \n",
       "1  3596.842041      4    22897   1766    3    14888   14888      9     0   \n",
       "2    12.869656      3    21901     87    0      150  625148     81     0   \n",
       "3     9.013113      3    86658    148    0        4   14386    234     0   \n",
       "4   149.770126      3    21927     94    0     6416  625148    219     0   \n",
       "\n",
       "   dTos  TotPkts  TotBytes  SrcBytes  StartTimeHour  StartTimeMinute  \\\n",
       "0     0     2022   1811163     54424             10               28   \n",
       "1     0      901     73882     73800             11               24   \n",
       "2     0       11      1613       624             16               11   \n",
       "3     0        3       186       186             10               22   \n",
       "4     0       10      1040       543             12               17   \n",
       "\n",
       "   StartTimeSecond  isSpam  \n",
       "0               44       0  \n",
       "1                4       0  \n",
       "2               47       0  \n",
       "3                2       1  \n",
       "4               45       0  "
      ]
     },
     "execution_count": 24,
     "metadata": {},
     "output_type": "execute_result"
    }
   ],
   "source": [
    "train3_isspam.head()"
   ]
  },
  {
   "cell_type": "markdown",
   "metadata": {},
   "source": [
    "# BPSO Feature Selection"
   ]
  },
  {
   "cell_type": "code",
   "execution_count": 37,
   "metadata": {},
   "outputs": [],
   "source": [
    "# BPSO\n",
    "\n",
    "# Sigmoid function to convert velocity into probabilities\n",
    "def sigmoid(v):\n",
    "    return 1 / (1 + np.exp(-v))\n",
    "\n",
    "# Function to update position (binary)\n",
    "def update_position(velocity):\n",
    "    probability = sigmoid(velocity)\n",
    "    new_position = np.random.rand(len(velocity)) < probability\n",
    "    return new_position.astype(int)  # Convert boolean to binary (0 or 1)\n",
    "\n",
    "# Fitness function (based on model accuracy)\n",
    "def fitness_function(selected_features, X, y):\n",
    "    # Ensure selected_features is a valid boolean mask\n",
    "    selected_features = selected_features.astype(bool)\n",
    "    \n",
    "    if np.sum(selected_features) == 0:  # Avoid selecting no features\n",
    "        return 1.0  # Poor fitness if no features are selected\n",
    "    \n",
    "    # Select features based on the boolean mask\n",
    "    if isinstance(X, np.ndarray):\n",
    "        selected_X = X[:, selected_features]\n",
    "    elif isinstance(X, pd.DataFrame):\n",
    "        selected_X = X.loc[:, selected_features]\n",
    "\n",
    "    # Split data\n",
    "    X_train, X_test, y_train, y_test = train_test_split(selected_X, y, test_size=0.25, random_state=42)\n",
    "\n",
    "    # Train a decision tree classifier\n",
    "    model = DecisionTreeClassifier()\n",
    "    model.fit(X_train, y_train)\n",
    "\n",
    "    # Predict and calculate accuracy\n",
    "    y_pred = model.predict(X_test)\n",
    "    accuracy = accuracy_score(y_test, y_pred)\n",
    "\n",
    "    return 1 - accuracy  # Return 1 - accuracy to minimize the fitness\n",
    "\n",
    "# BPSO Algorithm for Feature Selection\n",
    "def bpso_feature_selection(X, y, n_particles, max_iter, w=0.5, c1=1.5, c2=1.5):\n",
    "    n_features = X.shape[1]\n",
    "    \n",
    "    # Initialize particle positions (binary) and velocities\n",
    "    positions = np.random.randint(2, size=(n_particles, n_features))\n",
    "    velocities = np.random.uniform(-1, 1, (n_particles, n_features))\n",
    "    \n",
    "    # Initialize personal best positions and global best position\n",
    "    pbest_positions = positions.copy()\n",
    "    pbest_fitness = np.array([fitness_function(positions[i], X, y) for i in range(n_particles)])\n",
    "    \n",
    "    gbest_position = pbest_positions[np.argmin(pbest_fitness)]\n",
    "    gbest_fitness = np.min(pbest_fitness)\n",
    "    \n",
    "    # BPSO main loop\n",
    "    for iteration in range(max_iter):\n",
    "        for i in range(n_particles):\n",
    "            # Update velocity\n",
    "            r1, r2 = np.random.rand(n_features), np.random.rand(n_features)\n",
    "            velocities[i] = (w * velocities[i] +\n",
    "                             c1 * r1 * (pbest_positions[i] - positions[i]) +\n",
    "                             c2 * r2 * (gbest_position - positions[i]))\n",
    "            \n",
    "            # Update position (convert velocity to binary)\n",
    "            positions[i] = update_position(velocities[i])\n",
    "            \n",
    "            # Calculate new fitness\n",
    "            fitness = fitness_function(positions[i], X, y)\n",
    "            \n",
    "            # Update personal best if the current position is better\n",
    "            if fitness < pbest_fitness[i]:\n",
    "                pbest_positions[i] = positions[i]\n",
    "                pbest_fitness[i] = fitness\n",
    "        \n",
    "        # Update global best if a better solution is found\n",
    "        best_particle_idx = np.argmin(pbest_fitness)\n",
    "        if pbest_fitness[best_particle_idx] < gbest_fitness:\n",
    "            gbest_position = pbest_positions[best_particle_idx]\n",
    "            gbest_fitness = pbest_fitness[best_particle_idx]\n",
    "        \n",
    "        print(f\"Iteration {iteration+1}/{max_iter}, Best Fitness: {gbest_fitness}\")\n",
    "        \n",
    "        if gbest_fitness == 0.0:\n",
    "            print('Global Fitness reached 0.0')\n",
    "            break\n",
    "    \n",
    "    return gbest_position, 1 - gbest_fitness  # Return best feature subset and corresponding accuracy"
   ]
  },
  {
   "cell_type": "markdown",
   "metadata": {},
   "source": [
    "# Sensor 1"
   ]
  },
  {
   "cell_type": "code",
   "execution_count": 10,
   "metadata": {},
   "outputs": [],
   "source": [
    "X_botnet = train1_isbotnet.drop(columns=['isBotnet'])\n",
    "y_botnet = train1_isbotnet['isBotnet']"
   ]
  },
  {
   "cell_type": "code",
   "execution_count": 11,
   "metadata": {},
   "outputs": [],
   "source": [
    "X_spam = train1_isspam.drop(columns=['isSpam'])\n",
    "y_spam = train1_isspam['isSpam']"
   ]
  },
  {
   "cell_type": "markdown",
   "metadata": {},
   "source": [
    "## 10 particles"
   ]
  },
  {
   "cell_type": "markdown",
   "metadata": {},
   "source": [
    "### isBotnet"
   ]
  },
  {
   "cell_type": "code",
   "execution_count": 38,
   "metadata": {},
   "outputs": [
    {
     "name": "stdout",
     "output_type": "stream",
     "text": [
      "Iteration 1/30, Best Fitness: 0.0\n",
      "Global Fitness reached 0.0\n"
     ]
    }
   ],
   "source": [
    "best_features, best_accuracy = bpso_feature_selection(X_botnet, y_botnet, n_particles=10, max_iter=30)"
   ]
  },
  {
   "cell_type": "code",
   "execution_count": 39,
   "metadata": {},
   "outputs": [],
   "source": [
    "selected_columns = X_botnet.columns[best_features == 1]"
   ]
  },
  {
   "cell_type": "code",
   "execution_count": 40,
   "metadata": {},
   "outputs": [
    {
     "name": "stdout",
     "output_type": "stream",
     "text": [
      "Best Features Subset:  [1 0 1 0 0 1 0 0 0 1 1 1 1 0 0 1]\n",
      "Columns : \n",
      " Index(['Dur', 'SrcAddr', 'DstAddr', 'dTos', 'TotPkts', 'TotBytes', 'SrcBytes',\n",
      "       'StartTimeSecond'],\n",
      "      dtype='object')\n",
      "Best Accuracy:  1.0\n"
     ]
    }
   ],
   "source": [
    "print('Best Features Subset: ', best_features)\n",
    "print('Columns : \\n', selected_columns)\n",
    "print('Best Accuracy: ', best_accuracy)"
   ]
  },
  {
   "cell_type": "markdown",
   "metadata": {},
   "source": [
    "#### isSpam"
   ]
  },
  {
   "cell_type": "code",
   "execution_count": 41,
   "metadata": {},
   "outputs": [
    {
     "name": "stdout",
     "output_type": "stream",
     "text": [
      "Iteration 1/30, Best Fitness: 0.0\n",
      "Global Fitness reached 0.0\n"
     ]
    }
   ],
   "source": [
    "best_features_spam, best_accuracy_spam = bpso_feature_selection(X_spam, y_spam, n_particles=10, max_iter=30)"
   ]
  },
  {
   "cell_type": "code",
   "execution_count": 42,
   "metadata": {},
   "outputs": [],
   "source": [
    "selected_columns = X_spam.columns[best_features_spam == 1]"
   ]
  },
  {
   "cell_type": "code",
   "execution_count": 43,
   "metadata": {},
   "outputs": [
    {
     "name": "stdout",
     "output_type": "stream",
     "text": [
      "Best Features Subset:  [0 0 0 0 0 1 1 0 1 0 0 0 0 1 1 0]\n",
      "Columns : \n",
      " Index(['DstAddr', 'Dport', 'sTos', 'StartTimeHour', 'StartTimeMinute'], dtype='object')\n",
      "Best Accuracy:  1.0\n"
     ]
    }
   ],
   "source": [
    "print('Best Features Subset: ', best_features_spam)\n",
    "print('Columns : \\n', selected_columns)\n",
    "print('Best Accuracy: ', best_accuracy_spam)"
   ]
  },
  {
   "cell_type": "markdown",
   "metadata": {},
   "source": [
    "## 15 Particles"
   ]
  },
  {
   "cell_type": "markdown",
   "metadata": {},
   "source": [
    "### isBotnet"
   ]
  },
  {
   "cell_type": "code",
   "execution_count": 44,
   "metadata": {},
   "outputs": [
    {
     "name": "stdout",
     "output_type": "stream",
     "text": [
      "Iteration 1/30, Best Fitness: 0.0\n",
      "Global Fitness reached 0.0\n"
     ]
    }
   ],
   "source": [
    "best_features, best_accuracy = bpso_feature_selection(X_botnet, y_botnet, n_particles=15, max_iter=30)"
   ]
  },
  {
   "cell_type": "code",
   "execution_count": 45,
   "metadata": {},
   "outputs": [],
   "source": [
    "selected_columns = X_botnet.columns[best_features == 1]"
   ]
  },
  {
   "cell_type": "code",
   "execution_count": 46,
   "metadata": {},
   "outputs": [
    {
     "name": "stdout",
     "output_type": "stream",
     "text": [
      "Best Features Subset:  [1 1 1 0 0 1 1 0 1 0 0 0 1 0 1 0]\n",
      "Columns : \n",
      " Index(['Dur', 'Proto', 'SrcAddr', 'DstAddr', 'Dport', 'sTos', 'SrcBytes',\n",
      "       'StartTimeMinute'],\n",
      "      dtype='object')\n",
      "Best Accuracy:  1.0\n"
     ]
    }
   ],
   "source": [
    "print('Best Features Subset: ', best_features)\n",
    "print('Columns : \\n', selected_columns)\n",
    "print('Best Accuracy: ', best_accuracy)"
   ]
  },
  {
   "cell_type": "markdown",
   "metadata": {},
   "source": [
    "### isSpam"
   ]
  },
  {
   "cell_type": "code",
   "execution_count": 47,
   "metadata": {},
   "outputs": [
    {
     "name": "stdout",
     "output_type": "stream",
     "text": [
      "Iteration 1/30, Best Fitness: 0.0\n",
      "Global Fitness reached 0.0\n"
     ]
    }
   ],
   "source": [
    "best_features_spam, best_accuracy_spam = bpso_feature_selection(X_spam, y_spam, n_particles=15, max_iter=30)"
   ]
  },
  {
   "cell_type": "code",
   "execution_count": 48,
   "metadata": {},
   "outputs": [],
   "source": [
    "selected_columns = X_spam.columns[best_features_spam == 1]"
   ]
  },
  {
   "cell_type": "code",
   "execution_count": 49,
   "metadata": {},
   "outputs": [
    {
     "name": "stdout",
     "output_type": "stream",
     "text": [
      "Best Features Subset:  [1 0 0 1 0 0 1 0 1 1 0 1 0 0 1 1]\n",
      "Columns : \n",
      " Index(['Dur', 'Sport', 'Dport', 'sTos', 'dTos', 'TotBytes', 'StartTimeMinute',\n",
      "       'StartTimeSecond'],\n",
      "      dtype='object')\n",
      "Best Accuracy:  1.0\n"
     ]
    }
   ],
   "source": [
    "print('Best Features Subset: ', best_features_spam)\n",
    "print('Columns : \\n', selected_columns)\n",
    "print('Best Accuracy: ', best_accuracy_spam)"
   ]
  },
  {
   "cell_type": "markdown",
   "metadata": {},
   "source": [
    "## 20 Particles"
   ]
  },
  {
   "cell_type": "markdown",
   "metadata": {},
   "source": [
    "### isBotnet"
   ]
  },
  {
   "cell_type": "code",
   "execution_count": 50,
   "metadata": {},
   "outputs": [
    {
     "name": "stdout",
     "output_type": "stream",
     "text": [
      "Iteration 1/30, Best Fitness: 0.0\n",
      "Global Fitness reached 0.0\n"
     ]
    }
   ],
   "source": [
    "best_features, best_accuracy = bpso_feature_selection(X_botnet, y_botnet, n_particles=20, max_iter=30)"
   ]
  },
  {
   "cell_type": "code",
   "execution_count": 51,
   "metadata": {},
   "outputs": [],
   "source": [
    "selected_columns = X_botnet.columns[best_features == 1]"
   ]
  },
  {
   "cell_type": "code",
   "execution_count": 52,
   "metadata": {},
   "outputs": [
    {
     "name": "stdout",
     "output_type": "stream",
     "text": [
      "Best Features Subset:  [1 1 1 0 0 1 0 0 0 1 1 1 1 0 1 1]\n",
      "Columns : \n",
      " Index(['Dur', 'Proto', 'SrcAddr', 'DstAddr', 'dTos', 'TotPkts', 'TotBytes',\n",
      "       'SrcBytes', 'StartTimeMinute', 'StartTimeSecond'],\n",
      "      dtype='object')\n",
      "Best Accuracy:  1.0\n"
     ]
    }
   ],
   "source": [
    "print('Best Features Subset: ', best_features)\n",
    "print('Columns : \\n', selected_columns)\n",
    "print('Best Accuracy: ', best_accuracy)"
   ]
  },
  {
   "cell_type": "markdown",
   "metadata": {},
   "source": [
    "### isSpam"
   ]
  },
  {
   "cell_type": "code",
   "execution_count": 53,
   "metadata": {},
   "outputs": [
    {
     "name": "stdout",
     "output_type": "stream",
     "text": [
      "Iteration 1/30, Best Fitness: 0.0\n",
      "Global Fitness reached 0.0\n"
     ]
    }
   ],
   "source": [
    "best_features_spam, best_accuracy_spam = bpso_feature_selection(X_spam, y_spam, n_particles=20, max_iter=30)"
   ]
  },
  {
   "cell_type": "code",
   "execution_count": 54,
   "metadata": {},
   "outputs": [],
   "source": [
    "selected_columns = X_spam.columns[best_features_spam == 1]"
   ]
  },
  {
   "cell_type": "code",
   "execution_count": 55,
   "metadata": {},
   "outputs": [
    {
     "name": "stdout",
     "output_type": "stream",
     "text": [
      "Best Features Subset:  [1 0 0 1 0 1 1 1 0 0 1 0 1 1 1 0]\n",
      "Columns : \n",
      " Index(['Dur', 'Sport', 'DstAddr', 'Dport', 'State', 'TotPkts', 'SrcBytes',\n",
      "       'StartTimeHour', 'StartTimeMinute'],\n",
      "      dtype='object')\n",
      "Best Accuracy:  1.0\n"
     ]
    }
   ],
   "source": [
    "print('Best Features Subset: ', best_features_spam)\n",
    "print('Columns : \\n', selected_columns)\n",
    "print('Best Accuracy: ', best_accuracy_spam)"
   ]
  },
  {
   "cell_type": "markdown",
   "metadata": {},
   "source": [
    "# Sensor 2"
   ]
  },
  {
   "cell_type": "code",
   "execution_count": 56,
   "metadata": {},
   "outputs": [],
   "source": [
    "X_botnet = train2_isbotnet.drop(columns=['isBotnet'])\n",
    "y_botnet = train2_isbotnet['isBotnet']"
   ]
  },
  {
   "cell_type": "code",
   "execution_count": 57,
   "metadata": {},
   "outputs": [],
   "source": [
    "X_spam = train2_isspam.drop(columns=['isSpam'])\n",
    "y_spam = train2_isspam['isSpam']"
   ]
  },
  {
   "cell_type": "markdown",
   "metadata": {},
   "source": [
    "## 10 particles"
   ]
  },
  {
   "cell_type": "markdown",
   "metadata": {},
   "source": [
    "### isBotnet"
   ]
  },
  {
   "cell_type": "code",
   "execution_count": 58,
   "metadata": {},
   "outputs": [
    {
     "name": "stdout",
     "output_type": "stream",
     "text": [
      "Iteration 1/30, Best Fitness: 0.0\n",
      "Global Fitness reached 0.0\n"
     ]
    }
   ],
   "source": [
    "best_features, best_accuracy = bpso_feature_selection(X_botnet, y_botnet, n_particles=10, max_iter=30)"
   ]
  },
  {
   "cell_type": "code",
   "execution_count": 59,
   "metadata": {},
   "outputs": [],
   "source": [
    "selected_columns = X_botnet.columns[best_features == 1]"
   ]
  },
  {
   "cell_type": "code",
   "execution_count": 60,
   "metadata": {},
   "outputs": [
    {
     "name": "stdout",
     "output_type": "stream",
     "text": [
      "Best Features Subset:  [1 1 1 0 1 1 0 0 0 1 1 0 0 1 1 0]\n",
      "Columns : \n",
      " Index(['Dur', 'Proto', 'SrcAddr', 'Dir', 'DstAddr', 'dTos', 'TotPkts',\n",
      "       'StartTimeHour', 'StartTimeMinute'],\n",
      "      dtype='object')\n",
      "Best Accuracy:  1.0\n"
     ]
    }
   ],
   "source": [
    "print('Best Features Subset: ', best_features)\n",
    "print('Columns : \\n', selected_columns)\n",
    "print('Best Accuracy: ', best_accuracy)"
   ]
  },
  {
   "cell_type": "markdown",
   "metadata": {},
   "source": [
    "#### isSpam"
   ]
  },
  {
   "cell_type": "code",
   "execution_count": 61,
   "metadata": {},
   "outputs": [
    {
     "name": "stdout",
     "output_type": "stream",
     "text": [
      "Iteration 1/30, Best Fitness: 0.0\n",
      "Global Fitness reached 0.0\n"
     ]
    }
   ],
   "source": [
    "best_features_spam, best_accuracy_spam = bpso_feature_selection(X_spam, y_spam, n_particles=10, max_iter=30)"
   ]
  },
  {
   "cell_type": "code",
   "execution_count": 62,
   "metadata": {},
   "outputs": [],
   "source": [
    "selected_columns = X_spam.columns[best_features_spam == 1]"
   ]
  },
  {
   "cell_type": "code",
   "execution_count": 63,
   "metadata": {},
   "outputs": [
    {
     "name": "stdout",
     "output_type": "stream",
     "text": [
      "Best Features Subset:  [0 1 0 1 1 0 1 0 1 0 0 1 0 1 0 0]\n",
      "Columns : \n",
      " Index(['Proto', 'Sport', 'Dir', 'Dport', 'sTos', 'TotBytes', 'StartTimeHour'], dtype='object')\n",
      "Best Accuracy:  1.0\n"
     ]
    }
   ],
   "source": [
    "print('Best Features Subset: ', best_features_spam)\n",
    "print('Columns : \\n', selected_columns)\n",
    "print('Best Accuracy: ', best_accuracy_spam)"
   ]
  },
  {
   "cell_type": "markdown",
   "metadata": {},
   "source": [
    "## 15 Particles"
   ]
  },
  {
   "cell_type": "markdown",
   "metadata": {},
   "source": [
    "### isBotnet"
   ]
  },
  {
   "cell_type": "code",
   "execution_count": 64,
   "metadata": {},
   "outputs": [
    {
     "name": "stdout",
     "output_type": "stream",
     "text": [
      "Iteration 1/30, Best Fitness: 0.0\n",
      "Global Fitness reached 0.0\n"
     ]
    }
   ],
   "source": [
    "best_features, best_accuracy = bpso_feature_selection(X_botnet, y_botnet, n_particles=15, max_iter=30)"
   ]
  },
  {
   "cell_type": "code",
   "execution_count": 65,
   "metadata": {},
   "outputs": [],
   "source": [
    "selected_columns = X_botnet.columns[best_features == 1]"
   ]
  },
  {
   "cell_type": "code",
   "execution_count": 66,
   "metadata": {},
   "outputs": [
    {
     "name": "stdout",
     "output_type": "stream",
     "text": [
      "Best Features Subset:  [0 0 1 0 1 0 1 1 1 0 1 1 0 1 0 0]\n",
      "Columns : \n",
      " Index(['SrcAddr', 'Dir', 'Dport', 'State', 'sTos', 'TotPkts', 'TotBytes',\n",
      "       'StartTimeHour'],\n",
      "      dtype='object')\n",
      "Best Accuracy:  1.0\n"
     ]
    }
   ],
   "source": [
    "print('Best Features Subset: ', best_features)\n",
    "print('Columns : \\n', selected_columns)\n",
    "print('Best Accuracy: ', best_accuracy)"
   ]
  },
  {
   "cell_type": "markdown",
   "metadata": {},
   "source": [
    "### isSpam"
   ]
  },
  {
   "cell_type": "code",
   "execution_count": 67,
   "metadata": {},
   "outputs": [
    {
     "name": "stdout",
     "output_type": "stream",
     "text": [
      "Iteration 1/30, Best Fitness: 0.0\n",
      "Global Fitness reached 0.0\n"
     ]
    }
   ],
   "source": [
    "best_features_spam, best_accuracy_spam = bpso_feature_selection(X_spam, y_spam, n_particles=15, max_iter=30)"
   ]
  },
  {
   "cell_type": "code",
   "execution_count": 68,
   "metadata": {},
   "outputs": [],
   "source": [
    "selected_columns = X_spam.columns[best_features_spam == 1]"
   ]
  },
  {
   "cell_type": "code",
   "execution_count": 69,
   "metadata": {},
   "outputs": [
    {
     "name": "stdout",
     "output_type": "stream",
     "text": [
      "Best Features Subset:  [1 1 1 1 0 0 1 0 1 0 0 0 0 0 1 1]\n",
      "Columns : \n",
      " Index(['Dur', 'Proto', 'SrcAddr', 'Sport', 'Dport', 'sTos', 'StartTimeMinute',\n",
      "       'StartTimeSecond'],\n",
      "      dtype='object')\n",
      "Best Accuracy:  1.0\n"
     ]
    }
   ],
   "source": [
    "print('Best Features Subset: ', best_features_spam)\n",
    "print('Columns : \\n', selected_columns)\n",
    "print('Best Accuracy: ', best_accuracy_spam)"
   ]
  },
  {
   "cell_type": "markdown",
   "metadata": {},
   "source": [
    "## 20 Particles"
   ]
  },
  {
   "cell_type": "markdown",
   "metadata": {},
   "source": [
    "### isBotnet"
   ]
  },
  {
   "cell_type": "code",
   "execution_count": 70,
   "metadata": {},
   "outputs": [
    {
     "name": "stdout",
     "output_type": "stream",
     "text": [
      "Iteration 1/30, Best Fitness: 0.0\n",
      "Global Fitness reached 0.0\n"
     ]
    }
   ],
   "source": [
    "best_features, best_accuracy = bpso_feature_selection(X_botnet, y_botnet, n_particles=20, max_iter=30)"
   ]
  },
  {
   "cell_type": "code",
   "execution_count": 71,
   "metadata": {},
   "outputs": [],
   "source": [
    "selected_columns = X_botnet.columns[best_features == 1]"
   ]
  },
  {
   "cell_type": "code",
   "execution_count": 72,
   "metadata": {},
   "outputs": [
    {
     "name": "stdout",
     "output_type": "stream",
     "text": [
      "Best Features Subset:  [1 1 1 0 1 0 1 1 1 0 0 0 1 0 0 0]\n",
      "Columns : \n",
      " Index(['Dur', 'Proto', 'SrcAddr', 'Dir', 'Dport', 'State', 'sTos', 'SrcBytes'], dtype='object')\n",
      "Best Accuracy:  1.0\n"
     ]
    }
   ],
   "source": [
    "print('Best Features Subset: ', best_features)\n",
    "print('Columns : \\n', selected_columns)\n",
    "print('Best Accuracy: ', best_accuracy)"
   ]
  },
  {
   "cell_type": "markdown",
   "metadata": {},
   "source": [
    "### isSpam"
   ]
  },
  {
   "cell_type": "code",
   "execution_count": 73,
   "metadata": {},
   "outputs": [
    {
     "name": "stdout",
     "output_type": "stream",
     "text": [
      "Iteration 1/30, Best Fitness: 0.0\n",
      "Global Fitness reached 0.0\n"
     ]
    }
   ],
   "source": [
    "best_features_spam, best_accuracy_spam = bpso_feature_selection(X_spam, y_spam, n_particles=20, max_iter=30)"
   ]
  },
  {
   "cell_type": "code",
   "execution_count": 74,
   "metadata": {},
   "outputs": [],
   "source": [
    "selected_columns = X_spam.columns[best_features_spam == 1]"
   ]
  },
  {
   "cell_type": "code",
   "execution_count": 75,
   "metadata": {},
   "outputs": [
    {
     "name": "stdout",
     "output_type": "stream",
     "text": [
      "Best Features Subset:  [1 0 0 0 0 0 1 1 0 1 1 1 1 1 1 0]\n",
      "Columns : \n",
      " Index(['Dur', 'Dport', 'State', 'dTos', 'TotPkts', 'TotBytes', 'SrcBytes',\n",
      "       'StartTimeHour', 'StartTimeMinute'],\n",
      "      dtype='object')\n",
      "Best Accuracy:  1.0\n"
     ]
    }
   ],
   "source": [
    "print('Best Features Subset: ', best_features_spam)\n",
    "print('Columns : \\n', selected_columns)\n",
    "print('Best Accuracy: ', best_accuracy_spam)"
   ]
  },
  {
   "cell_type": "markdown",
   "metadata": {},
   "source": [
    "# Sensor 3"
   ]
  },
  {
   "cell_type": "code",
   "execution_count": 76,
   "metadata": {},
   "outputs": [],
   "source": [
    "X_botnet = train3_isbotnet.drop(columns=['isBotnet'])\n",
    "y_botnet = train3_isbotnet['isBotnet']"
   ]
  },
  {
   "cell_type": "code",
   "execution_count": 77,
   "metadata": {},
   "outputs": [],
   "source": [
    "X_spam = train3_isspam.drop(columns=['isSpam'])\n",
    "y_spam = train3_isspam['isSpam']"
   ]
  },
  {
   "cell_type": "markdown",
   "metadata": {},
   "source": [
    "## 10 particles"
   ]
  },
  {
   "cell_type": "markdown",
   "metadata": {},
   "source": [
    "### isBotnet"
   ]
  },
  {
   "cell_type": "code",
   "execution_count": 78,
   "metadata": {},
   "outputs": [
    {
     "name": "stdout",
     "output_type": "stream",
     "text": [
      "Iteration 1/30, Best Fitness: 0.0\n",
      "Global Fitness reached 0.0\n"
     ]
    }
   ],
   "source": [
    "best_features, best_accuracy = bpso_feature_selection(X_botnet, y_botnet, n_particles=10, max_iter=30)"
   ]
  },
  {
   "cell_type": "code",
   "execution_count": 79,
   "metadata": {},
   "outputs": [],
   "source": [
    "selected_columns = X_botnet.columns[best_features == 1]"
   ]
  },
  {
   "cell_type": "code",
   "execution_count": 80,
   "metadata": {},
   "outputs": [
    {
     "name": "stdout",
     "output_type": "stream",
     "text": [
      "Best Features Subset:  [0 1 1 0 1 1 1 0 0 1 0 0 0 0 0 0]\n",
      "Columns : \n",
      " Index(['Proto', 'SrcAddr', 'Dir', 'DstAddr', 'Dport', 'dTos'], dtype='object')\n",
      "Best Accuracy:  1.0\n"
     ]
    }
   ],
   "source": [
    "print('Best Features Subset: ', best_features)\n",
    "print('Columns : \\n', selected_columns)\n",
    "print('Best Accuracy: ', best_accuracy)"
   ]
  },
  {
   "cell_type": "markdown",
   "metadata": {},
   "source": [
    "#### isSpam"
   ]
  },
  {
   "cell_type": "code",
   "execution_count": 81,
   "metadata": {},
   "outputs": [
    {
     "name": "stdout",
     "output_type": "stream",
     "text": [
      "Iteration 1/30, Best Fitness: 0.0\n",
      "Global Fitness reached 0.0\n"
     ]
    }
   ],
   "source": [
    "best_features_spam, best_accuracy_spam = bpso_feature_selection(X_spam, y_spam, n_particles=10, max_iter=30)"
   ]
  },
  {
   "cell_type": "code",
   "execution_count": 82,
   "metadata": {},
   "outputs": [],
   "source": [
    "selected_columns = X_spam.columns[best_features_spam == 1]"
   ]
  },
  {
   "cell_type": "code",
   "execution_count": 83,
   "metadata": {},
   "outputs": [
    {
     "name": "stdout",
     "output_type": "stream",
     "text": [
      "Best Features Subset:  [0 0 0 0 0 1 1 1 1 1 0 1 0 0 1 0]\n",
      "Columns : \n",
      " Index(['DstAddr', 'Dport', 'State', 'sTos', 'dTos', 'TotBytes',\n",
      "       'StartTimeMinute'],\n",
      "      dtype='object')\n",
      "Best Accuracy:  1.0\n"
     ]
    }
   ],
   "source": [
    "print('Best Features Subset: ', best_features_spam)\n",
    "print('Columns : \\n', selected_columns)\n",
    "print('Best Accuracy: ', best_accuracy_spam)"
   ]
  },
  {
   "cell_type": "markdown",
   "metadata": {},
   "source": [
    "## 15 Particles"
   ]
  },
  {
   "cell_type": "markdown",
   "metadata": {},
   "source": [
    "### isBotnet"
   ]
  },
  {
   "cell_type": "code",
   "execution_count": 84,
   "metadata": {},
   "outputs": [
    {
     "name": "stdout",
     "output_type": "stream",
     "text": [
      "Iteration 1/30, Best Fitness: 0.0\n",
      "Global Fitness reached 0.0\n"
     ]
    }
   ],
   "source": [
    "best_features, best_accuracy = bpso_feature_selection(X_botnet, y_botnet, n_particles=15, max_iter=30)"
   ]
  },
  {
   "cell_type": "code",
   "execution_count": 85,
   "metadata": {},
   "outputs": [],
   "source": [
    "selected_columns = X_botnet.columns[best_features == 1]"
   ]
  },
  {
   "cell_type": "code",
   "execution_count": 86,
   "metadata": {},
   "outputs": [
    {
     "name": "stdout",
     "output_type": "stream",
     "text": [
      "Best Features Subset:  [1 0 1 0 1 1 0 1 0 1 0 0 0 0 1 1]\n",
      "Columns : \n",
      " Index(['Dur', 'SrcAddr', 'Dir', 'DstAddr', 'State', 'dTos', 'StartTimeMinute',\n",
      "       'StartTimeSecond'],\n",
      "      dtype='object')\n",
      "Best Accuracy:  1.0\n"
     ]
    }
   ],
   "source": [
    "print('Best Features Subset: ', best_features)\n",
    "print('Columns : \\n', selected_columns)\n",
    "print('Best Accuracy: ', best_accuracy)"
   ]
  },
  {
   "cell_type": "markdown",
   "metadata": {},
   "source": [
    "### isSpam"
   ]
  },
  {
   "cell_type": "code",
   "execution_count": 87,
   "metadata": {},
   "outputs": [
    {
     "name": "stdout",
     "output_type": "stream",
     "text": [
      "Iteration 1/30, Best Fitness: 0.0\n",
      "Global Fitness reached 0.0\n"
     ]
    }
   ],
   "source": [
    "best_features_spam, best_accuracy_spam = bpso_feature_selection(X_spam, y_spam, n_particles=15, max_iter=30)"
   ]
  },
  {
   "cell_type": "code",
   "execution_count": 88,
   "metadata": {},
   "outputs": [],
   "source": [
    "selected_columns = X_spam.columns[best_features_spam == 1]"
   ]
  },
  {
   "cell_type": "code",
   "execution_count": 89,
   "metadata": {},
   "outputs": [
    {
     "name": "stdout",
     "output_type": "stream",
     "text": [
      "Best Features Subset:  [1 1 1 0 1 0 1 0 0 1 0 0 0 0 0 0]\n",
      "Columns : \n",
      " Index(['Dur', 'Proto', 'SrcAddr', 'Dir', 'Dport', 'dTos'], dtype='object')\n",
      "Best Accuracy:  1.0\n"
     ]
    }
   ],
   "source": [
    "print('Best Features Subset: ', best_features_spam)\n",
    "print('Columns : \\n', selected_columns)\n",
    "print('Best Accuracy: ', best_accuracy_spam)"
   ]
  },
  {
   "cell_type": "markdown",
   "metadata": {},
   "source": [
    "## 20 Particles"
   ]
  },
  {
   "cell_type": "markdown",
   "metadata": {},
   "source": [
    "### isBotnet"
   ]
  },
  {
   "cell_type": "code",
   "execution_count": 90,
   "metadata": {},
   "outputs": [
    {
     "name": "stdout",
     "output_type": "stream",
     "text": [
      "Iteration 1/30, Best Fitness: 0.0\n",
      "Global Fitness reached 0.0\n"
     ]
    }
   ],
   "source": [
    "best_features, best_accuracy = bpso_feature_selection(X_botnet, y_botnet, n_particles=20, max_iter=30)"
   ]
  },
  {
   "cell_type": "code",
   "execution_count": 91,
   "metadata": {},
   "outputs": [],
   "source": [
    "selected_columns = X_botnet.columns[best_features == 1]"
   ]
  },
  {
   "cell_type": "code",
   "execution_count": 92,
   "metadata": {},
   "outputs": [
    {
     "name": "stdout",
     "output_type": "stream",
     "text": [
      "Best Features Subset:  [0 1 1 0 1 1 1 0 0 1 1 0 1 0 1 0]\n",
      "Columns : \n",
      " Index(['Proto', 'SrcAddr', 'Dir', 'DstAddr', 'Dport', 'dTos', 'TotPkts',\n",
      "       'SrcBytes', 'StartTimeMinute'],\n",
      "      dtype='object')\n",
      "Best Accuracy:  1.0\n"
     ]
    }
   ],
   "source": [
    "print('Best Features Subset: ', best_features)\n",
    "print('Columns : \\n', selected_columns)\n",
    "print('Best Accuracy: ', best_accuracy)"
   ]
  },
  {
   "cell_type": "markdown",
   "metadata": {},
   "source": [
    "### isSpam"
   ]
  },
  {
   "cell_type": "code",
   "execution_count": 93,
   "metadata": {},
   "outputs": [
    {
     "name": "stdout",
     "output_type": "stream",
     "text": [
      "Iteration 1/30, Best Fitness: 0.0\n",
      "Global Fitness reached 0.0\n"
     ]
    }
   ],
   "source": [
    "best_features_spam, best_accuracy_spam = bpso_feature_selection(X_spam, y_spam, n_particles=20, max_iter=30)"
   ]
  },
  {
   "cell_type": "code",
   "execution_count": 94,
   "metadata": {},
   "outputs": [],
   "source": [
    "selected_columns = X_spam.columns[best_features_spam == 1]"
   ]
  },
  {
   "cell_type": "code",
   "execution_count": 95,
   "metadata": {},
   "outputs": [
    {
     "name": "stdout",
     "output_type": "stream",
     "text": [
      "Best Features Subset:  [0 1 0 0 0 0 1 1 1 0 1 0 0 1 1 1]\n",
      "Columns : \n",
      " Index(['Proto', 'Dport', 'State', 'sTos', 'TotPkts', 'StartTimeHour',\n",
      "       'StartTimeMinute', 'StartTimeSecond'],\n",
      "      dtype='object')\n",
      "Best Accuracy:  1.0\n"
     ]
    }
   ],
   "source": [
    "print('Best Features Subset: ', best_features_spam)\n",
    "print('Columns : \\n', selected_columns)\n",
    "print('Best Accuracy: ', best_accuracy_spam)"
   ]
  }
 ],
 "metadata": {
  "kernelspec": {
   "display_name": "Python 3",
   "language": "python",
   "name": "python3"
  },
  "language_info": {
   "codemirror_mode": {
    "name": "ipython",
    "version": 3
   },
   "file_extension": ".py",
   "mimetype": "text/x-python",
   "name": "python",
   "nbconvert_exporter": "python",
   "pygments_lexer": "ipython3",
   "version": "3.12.5"
  }
 },
 "nbformat": 4,
 "nbformat_minor": 2
}
