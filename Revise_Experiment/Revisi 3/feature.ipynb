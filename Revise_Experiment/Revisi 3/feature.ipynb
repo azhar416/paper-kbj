{
 "cells": [
  {
   "cell_type": "code",
   "execution_count": null,
   "metadata": {},
   "outputs": [],
   "source": [
    "botnet_particle_10 = ['SrcAddr', 'Dir', 'Dport', 'dTos', 'TotPkts', 'SrcBytes', 'StartTimeSecond']\n",
    "botnet_particle_15 = ['Dur', 'Proto', 'SrcAddr', 'DstAddr', 'Dport', 'sTos', 'TotBytes', 'StartTimeMinute']\n",
    "botnet_particle_20 = ['Dur', 'Proto', 'SrcAddr', 'Dir', 'DstAddr', 'sTos', 'dTos', 'TotPkts', 'TotBytes', 'StartTimeSecond']\n",
    "\n",
    "spam_particle_10 = ['Proto', 'Sport', 'DstAddr', 'Dport', 'State', 'StartTimeMinute', 'StartTimeSecond']\n",
    "spam_particle_15 = ['Dur', 'Proto', 'Dir', 'DstAddr', 'Dport']\n",
    "spam_particle_20 = ['Proto', 'SrcAddr', 'Sport', 'DstAddr', 'Dport', 'sTos', 'dTos', 'TotPkts', 'TotBytes', 'StartTimeHour', 'StartTimeSecond']"
   ]
  }
 ],
 "metadata": {
  "language_info": {
   "name": "python"
  }
 },
 "nbformat": 4,
 "nbformat_minor": 2
}
