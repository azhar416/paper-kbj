{
 "cells": [
  {
   "cell_type": "code",
   "execution_count": 1,
   "metadata": {},
   "outputs": [],
   "source": [
    "from sklearn.model_selection import train_test_split\n",
    "from sklearn.metrics import accuracy_score\n",
    "from sklearn.tree import DecisionTreeClassifier\n",
    "import pandas as pd \n",
    "import numpy as np \n",
    "from datetime import datetime\n",
    "import os"
   ]
  },
  {
   "cell_type": "code",
   "execution_count": 2,
   "metadata": {},
   "outputs": [],
   "source": [
    "dataset_dir = '../../Dataset/'"
   ]
  },
  {
   "cell_type": "code",
   "execution_count": 3,
   "metadata": {},
   "outputs": [
    {
     "data": {
      "text/plain": [
       "['NCC-2 Dataset Simultaneous Botnet Dataset',\n",
       " 'Outdated',\n",
       " 'sensor1_isbotnet.csv',\n",
       " 'sensor1_isspam.csv',\n",
       " 'sensor1_test.csv',\n",
       " 'sensor1_train.csv',\n",
       " 'sensor2_isbotnet.csv',\n",
       " 'sensor2_isspam.csv',\n",
       " 'sensor2_test.csv',\n",
       " 'sensor2_train.csv',\n",
       " 'sensor3_isbotnet.csv',\n",
       " 'sensor3_isspam.csv',\n",
       " 'sensor3_test.csv',\n",
       " 'sensor3_train.csv',\n",
       " 'test1_clean.csv',\n",
       " 'test1_encoded.csv',\n",
       " 'test2_clean.csv',\n",
       " 'test2_encoded.csv',\n",
       " 'test3_clean.csv',\n",
       " 'test3_encoded.csv',\n",
       " 'train1_clean.csv',\n",
       " 'train1_encoded.csv',\n",
       " 'train2_clean.csv',\n",
       " 'train2_encoded.csv',\n",
       " 'train3_clean.csv',\n",
       " 'train3_encoded.csv']"
      ]
     },
     "execution_count": 3,
     "metadata": {},
     "output_type": "execute_result"
    }
   ],
   "source": [
    "os.listdir(dataset_dir)"
   ]
  },
  {
   "cell_type": "markdown",
   "metadata": {},
   "source": [
    "# Data"
   ]
  },
  {
   "cell_type": "code",
   "execution_count": 4,
   "metadata": {},
   "outputs": [],
   "source": [
    "# Sensor 1\n",
    "train1_isbotnet = pd.read_csv(dataset_dir + 'sensor1_isbotnet.csv')\n",
    "train1_isspam = pd.read_csv(dataset_dir + 'sensor1_isspam.csv')"
   ]
  },
  {
   "cell_type": "code",
   "execution_count": 5,
   "metadata": {},
   "outputs": [
    {
     "data": {
      "text/html": [
       "<div>\n",
       "<style scoped>\n",
       "    .dataframe tbody tr th:only-of-type {\n",
       "        vertical-align: middle;\n",
       "    }\n",
       "\n",
       "    .dataframe tbody tr th {\n",
       "        vertical-align: top;\n",
       "    }\n",
       "\n",
       "    .dataframe thead th {\n",
       "        text-align: right;\n",
       "    }\n",
       "</style>\n",
       "<table border=\"1\" class=\"dataframe\">\n",
       "  <thead>\n",
       "    <tr style=\"text-align: right;\">\n",
       "      <th></th>\n",
       "      <th>Dur</th>\n",
       "      <th>Proto</th>\n",
       "      <th>SrcAddr</th>\n",
       "      <th>Sport</th>\n",
       "      <th>Dir</th>\n",
       "      <th>DstAddr</th>\n",
       "      <th>Dport</th>\n",
       "      <th>State</th>\n",
       "      <th>sTos</th>\n",
       "      <th>dTos</th>\n",
       "      <th>TotPkts</th>\n",
       "      <th>TotBytes</th>\n",
       "      <th>SrcBytes</th>\n",
       "      <th>StartTimeHour</th>\n",
       "      <th>StartTimeMinute</th>\n",
       "      <th>StartTimeSecond</th>\n",
       "      <th>isBotnet</th>\n",
       "    </tr>\n",
       "  </thead>\n",
       "  <tbody>\n",
       "    <tr>\n",
       "      <th>0</th>\n",
       "      <td>0.000994</td>\n",
       "      <td>4</td>\n",
       "      <td>1</td>\n",
       "      <td>105</td>\n",
       "      <td>3</td>\n",
       "      <td>994426</td>\n",
       "      <td>955188</td>\n",
       "      <td>15</td>\n",
       "      <td>0</td>\n",
       "      <td>0</td>\n",
       "      <td>2</td>\n",
       "      <td>135</td>\n",
       "      <td>75</td>\n",
       "      <td>11</td>\n",
       "      <td>44</td>\n",
       "      <td>44</td>\n",
       "      <td>0</td>\n",
       "    </tr>\n",
       "    <tr>\n",
       "      <th>1</th>\n",
       "      <td>123.076729</td>\n",
       "      <td>3</td>\n",
       "      <td>9998</td>\n",
       "      <td>60</td>\n",
       "      <td>0</td>\n",
       "      <td>1913</td>\n",
       "      <td>489667</td>\n",
       "      <td>103</td>\n",
       "      <td>0</td>\n",
       "      <td>0</td>\n",
       "      <td>10</td>\n",
       "      <td>1302</td>\n",
       "      <td>896</td>\n",
       "      <td>9</td>\n",
       "      <td>5</td>\n",
       "      <td>32</td>\n",
       "      <td>0</td>\n",
       "    </tr>\n",
       "    <tr>\n",
       "      <th>2</th>\n",
       "      <td>3084.693115</td>\n",
       "      <td>4</td>\n",
       "      <td>2</td>\n",
       "      <td>62</td>\n",
       "      <td>3</td>\n",
       "      <td>994426</td>\n",
       "      <td>955188</td>\n",
       "      <td>15</td>\n",
       "      <td>0</td>\n",
       "      <td>0</td>\n",
       "      <td>4</td>\n",
       "      <td>270</td>\n",
       "      <td>150</td>\n",
       "      <td>12</td>\n",
       "      <td>38</td>\n",
       "      <td>18</td>\n",
       "      <td>0</td>\n",
       "    </tr>\n",
       "    <tr>\n",
       "      <th>3</th>\n",
       "      <td>0.067226</td>\n",
       "      <td>3</td>\n",
       "      <td>46</td>\n",
       "      <td>98</td>\n",
       "      <td>0</td>\n",
       "      <td>3386</td>\n",
       "      <td>2870</td>\n",
       "      <td>103</td>\n",
       "      <td>0</td>\n",
       "      <td>0</td>\n",
       "      <td>9</td>\n",
       "      <td>651</td>\n",
       "      <td>369</td>\n",
       "      <td>13</td>\n",
       "      <td>42</td>\n",
       "      <td>35</td>\n",
       "      <td>0</td>\n",
       "    </tr>\n",
       "    <tr>\n",
       "      <th>4</th>\n",
       "      <td>577.480591</td>\n",
       "      <td>4</td>\n",
       "      <td>1</td>\n",
       "      <td>86</td>\n",
       "      <td>3</td>\n",
       "      <td>994426</td>\n",
       "      <td>955188</td>\n",
       "      <td>15</td>\n",
       "      <td>0</td>\n",
       "      <td>0</td>\n",
       "      <td>8</td>\n",
       "      <td>1062</td>\n",
       "      <td>307</td>\n",
       "      <td>9</td>\n",
       "      <td>15</td>\n",
       "      <td>24</td>\n",
       "      <td>0</td>\n",
       "    </tr>\n",
       "  </tbody>\n",
       "</table>\n",
       "</div>"
      ],
      "text/plain": [
       "           Dur  Proto  SrcAddr  Sport  Dir  DstAddr   Dport  State  sTos  \\\n",
       "0     0.000994      4        1    105    3   994426  955188     15     0   \n",
       "1   123.076729      3     9998     60    0     1913  489667    103     0   \n",
       "2  3084.693115      4        2     62    3   994426  955188     15     0   \n",
       "3     0.067226      3       46     98    0     3386    2870    103     0   \n",
       "4   577.480591      4        1     86    3   994426  955188     15     0   \n",
       "\n",
       "   dTos  TotPkts  TotBytes  SrcBytes  StartTimeHour  StartTimeMinute  \\\n",
       "0     0        2       135        75             11               44   \n",
       "1     0       10      1302       896              9                5   \n",
       "2     0        4       270       150             12               38   \n",
       "3     0        9       651       369             13               42   \n",
       "4     0        8      1062       307              9               15   \n",
       "\n",
       "   StartTimeSecond  isBotnet  \n",
       "0               44         0  \n",
       "1               32         0  \n",
       "2               18         0  \n",
       "3               35         0  \n",
       "4               24         0  "
      ]
     },
     "execution_count": 5,
     "metadata": {},
     "output_type": "execute_result"
    }
   ],
   "source": [
    "train1_isbotnet.head()"
   ]
  },
  {
   "cell_type": "code",
   "execution_count": 6,
   "metadata": {},
   "outputs": [
    {
     "data": {
      "text/html": [
       "<div>\n",
       "<style scoped>\n",
       "    .dataframe tbody tr th:only-of-type {\n",
       "        vertical-align: middle;\n",
       "    }\n",
       "\n",
       "    .dataframe tbody tr th {\n",
       "        vertical-align: top;\n",
       "    }\n",
       "\n",
       "    .dataframe thead th {\n",
       "        text-align: right;\n",
       "    }\n",
       "</style>\n",
       "<table border=\"1\" class=\"dataframe\">\n",
       "  <thead>\n",
       "    <tr style=\"text-align: right;\">\n",
       "      <th></th>\n",
       "      <th>Dur</th>\n",
       "      <th>Proto</th>\n",
       "      <th>SrcAddr</th>\n",
       "      <th>Sport</th>\n",
       "      <th>Dir</th>\n",
       "      <th>DstAddr</th>\n",
       "      <th>Dport</th>\n",
       "      <th>State</th>\n",
       "      <th>sTos</th>\n",
       "      <th>dTos</th>\n",
       "      <th>TotPkts</th>\n",
       "      <th>TotBytes</th>\n",
       "      <th>SrcBytes</th>\n",
       "      <th>StartTimeHour</th>\n",
       "      <th>StartTimeMinute</th>\n",
       "      <th>StartTimeSecond</th>\n",
       "      <th>isSpam</th>\n",
       "    </tr>\n",
       "  </thead>\n",
       "  <tbody>\n",
       "    <tr>\n",
       "      <th>0</th>\n",
       "      <td>3.681022</td>\n",
       "      <td>3</td>\n",
       "      <td>62058</td>\n",
       "      <td>55</td>\n",
       "      <td>0</td>\n",
       "      <td>2289</td>\n",
       "      <td>2289</td>\n",
       "      <td>103</td>\n",
       "      <td>0</td>\n",
       "      <td>0</td>\n",
       "      <td>14</td>\n",
       "      <td>852</td>\n",
       "      <td>486</td>\n",
       "      <td>16</td>\n",
       "      <td>19</td>\n",
       "      <td>40</td>\n",
       "      <td>0</td>\n",
       "    </tr>\n",
       "    <tr>\n",
       "      <th>1</th>\n",
       "      <td>8.988339</td>\n",
       "      <td>3</td>\n",
       "      <td>62058</td>\n",
       "      <td>67</td>\n",
       "      <td>0</td>\n",
       "      <td>110</td>\n",
       "      <td>4326</td>\n",
       "      <td>285</td>\n",
       "      <td>0</td>\n",
       "      <td>0</td>\n",
       "      <td>3</td>\n",
       "      <td>186</td>\n",
       "      <td>186</td>\n",
       "      <td>10</td>\n",
       "      <td>13</td>\n",
       "      <td>48</td>\n",
       "      <td>1</td>\n",
       "    </tr>\n",
       "    <tr>\n",
       "      <th>2</th>\n",
       "      <td>93.643845</td>\n",
       "      <td>3</td>\n",
       "      <td>62058</td>\n",
       "      <td>94</td>\n",
       "      <td>0</td>\n",
       "      <td>826</td>\n",
       "      <td>15277</td>\n",
       "      <td>112</td>\n",
       "      <td>0</td>\n",
       "      <td>0</td>\n",
       "      <td>12</td>\n",
       "      <td>2348</td>\n",
       "      <td>2162</td>\n",
       "      <td>15</td>\n",
       "      <td>33</td>\n",
       "      <td>32</td>\n",
       "      <td>0</td>\n",
       "    </tr>\n",
       "    <tr>\n",
       "      <th>3</th>\n",
       "      <td>3250.402344</td>\n",
       "      <td>3</td>\n",
       "      <td>62058</td>\n",
       "      <td>204</td>\n",
       "      <td>0</td>\n",
       "      <td>216</td>\n",
       "      <td>216</td>\n",
       "      <td>169</td>\n",
       "      <td>0</td>\n",
       "      <td>0</td>\n",
       "      <td>8656</td>\n",
       "      <td>542023</td>\n",
       "      <td>259200</td>\n",
       "      <td>16</td>\n",
       "      <td>5</td>\n",
       "      <td>56</td>\n",
       "      <td>0</td>\n",
       "    </tr>\n",
       "    <tr>\n",
       "      <th>4</th>\n",
       "      <td>60.004124</td>\n",
       "      <td>3</td>\n",
       "      <td>62058</td>\n",
       "      <td>3307</td>\n",
       "      <td>0</td>\n",
       "      <td>5246</td>\n",
       "      <td>489667</td>\n",
       "      <td>275</td>\n",
       "      <td>0</td>\n",
       "      <td>0</td>\n",
       "      <td>8</td>\n",
       "      <td>1687</td>\n",
       "      <td>500</td>\n",
       "      <td>13</td>\n",
       "      <td>11</td>\n",
       "      <td>57</td>\n",
       "      <td>0</td>\n",
       "    </tr>\n",
       "  </tbody>\n",
       "</table>\n",
       "</div>"
      ],
      "text/plain": [
       "           Dur  Proto  SrcAddr  Sport  Dir  DstAddr   Dport  State  sTos  \\\n",
       "0     3.681022      3    62058     55    0     2289    2289    103     0   \n",
       "1     8.988339      3    62058     67    0      110    4326    285     0   \n",
       "2    93.643845      3    62058     94    0      826   15277    112     0   \n",
       "3  3250.402344      3    62058    204    0      216     216    169     0   \n",
       "4    60.004124      3    62058   3307    0     5246  489667    275     0   \n",
       "\n",
       "   dTos  TotPkts  TotBytes  SrcBytes  StartTimeHour  StartTimeMinute  \\\n",
       "0     0       14       852       486             16               19   \n",
       "1     0        3       186       186             10               13   \n",
       "2     0       12      2348      2162             15               33   \n",
       "3     0     8656    542023    259200             16                5   \n",
       "4     0        8      1687       500             13               11   \n",
       "\n",
       "   StartTimeSecond  isSpam  \n",
       "0               40       0  \n",
       "1               48       1  \n",
       "2               32       0  \n",
       "3               56       0  \n",
       "4               57       0  "
      ]
     },
     "execution_count": 6,
     "metadata": {},
     "output_type": "execute_result"
    }
   ],
   "source": [
    "train1_isspam.head()"
   ]
  },
  {
   "cell_type": "code",
   "execution_count": 7,
   "metadata": {},
   "outputs": [],
   "source": [
    "# Sensor 2\n",
    "train2_isbotnet = pd.read_csv(dataset_dir + 'sensor2_isbotnet.csv')\n",
    "train2_isspam = pd.read_csv(dataset_dir + 'sensor2_isspam.csv')"
   ]
  },
  {
   "cell_type": "code",
   "execution_count": 8,
   "metadata": {},
   "outputs": [
    {
     "data": {
      "text/html": [
       "<div>\n",
       "<style scoped>\n",
       "    .dataframe tbody tr th:only-of-type {\n",
       "        vertical-align: middle;\n",
       "    }\n",
       "\n",
       "    .dataframe tbody tr th {\n",
       "        vertical-align: top;\n",
       "    }\n",
       "\n",
       "    .dataframe thead th {\n",
       "        text-align: right;\n",
       "    }\n",
       "</style>\n",
       "<table border=\"1\" class=\"dataframe\">\n",
       "  <thead>\n",
       "    <tr style=\"text-align: right;\">\n",
       "      <th></th>\n",
       "      <th>Dur</th>\n",
       "      <th>Proto</th>\n",
       "      <th>SrcAddr</th>\n",
       "      <th>Sport</th>\n",
       "      <th>Dir</th>\n",
       "      <th>DstAddr</th>\n",
       "      <th>Dport</th>\n",
       "      <th>State</th>\n",
       "      <th>sTos</th>\n",
       "      <th>dTos</th>\n",
       "      <th>TotPkts</th>\n",
       "      <th>TotBytes</th>\n",
       "      <th>SrcBytes</th>\n",
       "      <th>StartTimeHour</th>\n",
       "      <th>StartTimeMinute</th>\n",
       "      <th>StartTimeSecond</th>\n",
       "      <th>isBotnet</th>\n",
       "    </tr>\n",
       "  </thead>\n",
       "  <tbody>\n",
       "    <tr>\n",
       "      <th>0</th>\n",
       "      <td>19.995037</td>\n",
       "      <td>3</td>\n",
       "      <td>14610</td>\n",
       "      <td>75</td>\n",
       "      <td>0</td>\n",
       "      <td>141</td>\n",
       "      <td>581761</td>\n",
       "      <td>82</td>\n",
       "      <td>0</td>\n",
       "      <td>0</td>\n",
       "      <td>7</td>\n",
       "      <td>424</td>\n",
       "      <td>242</td>\n",
       "      <td>11</td>\n",
       "      <td>43</td>\n",
       "      <td>1</td>\n",
       "      <td>0</td>\n",
       "    </tr>\n",
       "    <tr>\n",
       "      <th>1</th>\n",
       "      <td>0.000262</td>\n",
       "      <td>4</td>\n",
       "      <td>462414</td>\n",
       "      <td>109</td>\n",
       "      <td>3</td>\n",
       "      <td>1621520</td>\n",
       "      <td>1645689</td>\n",
       "      <td>16</td>\n",
       "      <td>0</td>\n",
       "      <td>0</td>\n",
       "      <td>2</td>\n",
       "      <td>240</td>\n",
       "      <td>95</td>\n",
       "      <td>9</td>\n",
       "      <td>25</td>\n",
       "      <td>52</td>\n",
       "      <td>0</td>\n",
       "    </tr>\n",
       "    <tr>\n",
       "      <th>2</th>\n",
       "      <td>0.000824</td>\n",
       "      <td>4</td>\n",
       "      <td>1</td>\n",
       "      <td>63</td>\n",
       "      <td>3</td>\n",
       "      <td>1212234</td>\n",
       "      <td>1166534</td>\n",
       "      <td>16</td>\n",
       "      <td>0</td>\n",
       "      <td>0</td>\n",
       "      <td>2</td>\n",
       "      <td>131</td>\n",
       "      <td>71</td>\n",
       "      <td>10</td>\n",
       "      <td>29</td>\n",
       "      <td>47</td>\n",
       "      <td>0</td>\n",
       "    </tr>\n",
       "    <tr>\n",
       "      <th>3</th>\n",
       "      <td>0.065631</td>\n",
       "      <td>3</td>\n",
       "      <td>462414</td>\n",
       "      <td>83</td>\n",
       "      <td>0</td>\n",
       "      <td>100</td>\n",
       "      <td>581761</td>\n",
       "      <td>104</td>\n",
       "      <td>0</td>\n",
       "      <td>0</td>\n",
       "      <td>10</td>\n",
       "      <td>2401</td>\n",
       "      <td>1000</td>\n",
       "      <td>9</td>\n",
       "      <td>28</td>\n",
       "      <td>36</td>\n",
       "      <td>0</td>\n",
       "    </tr>\n",
       "    <tr>\n",
       "      <th>4</th>\n",
       "      <td>0.000552</td>\n",
       "      <td>4</td>\n",
       "      <td>811174</td>\n",
       "      <td>68</td>\n",
       "      <td>3</td>\n",
       "      <td>1621520</td>\n",
       "      <td>1645689</td>\n",
       "      <td>16</td>\n",
       "      <td>0</td>\n",
       "      <td>0</td>\n",
       "      <td>2</td>\n",
       "      <td>214</td>\n",
       "      <td>81</td>\n",
       "      <td>9</td>\n",
       "      <td>42</td>\n",
       "      <td>20</td>\n",
       "      <td>0</td>\n",
       "    </tr>\n",
       "  </tbody>\n",
       "</table>\n",
       "</div>"
      ],
      "text/plain": [
       "         Dur  Proto  SrcAddr  Sport  Dir  DstAddr    Dport  State  sTos  dTos  \\\n",
       "0  19.995037      3    14610     75    0      141   581761     82     0     0   \n",
       "1   0.000262      4   462414    109    3  1621520  1645689     16     0     0   \n",
       "2   0.000824      4        1     63    3  1212234  1166534     16     0     0   \n",
       "3   0.065631      3   462414     83    0      100   581761    104     0     0   \n",
       "4   0.000552      4   811174     68    3  1621520  1645689     16     0     0   \n",
       "\n",
       "   TotPkts  TotBytes  SrcBytes  StartTimeHour  StartTimeMinute  \\\n",
       "0        7       424       242             11               43   \n",
       "1        2       240        95              9               25   \n",
       "2        2       131        71             10               29   \n",
       "3       10      2401      1000              9               28   \n",
       "4        2       214        81              9               42   \n",
       "\n",
       "   StartTimeSecond  isBotnet  \n",
       "0                1         0  \n",
       "1               52         0  \n",
       "2               47         0  \n",
       "3               36         0  \n",
       "4               20         0  "
      ]
     },
     "execution_count": 8,
     "metadata": {},
     "output_type": "execute_result"
    }
   ],
   "source": [
    "train2_isbotnet.head()"
   ]
  },
  {
   "cell_type": "code",
   "execution_count": 9,
   "metadata": {},
   "outputs": [
    {
     "data": {
      "text/html": [
       "<div>\n",
       "<style scoped>\n",
       "    .dataframe tbody tr th:only-of-type {\n",
       "        vertical-align: middle;\n",
       "    }\n",
       "\n",
       "    .dataframe tbody tr th {\n",
       "        vertical-align: top;\n",
       "    }\n",
       "\n",
       "    .dataframe thead th {\n",
       "        text-align: right;\n",
       "    }\n",
       "</style>\n",
       "<table border=\"1\" class=\"dataframe\">\n",
       "  <thead>\n",
       "    <tr style=\"text-align: right;\">\n",
       "      <th></th>\n",
       "      <th>Dur</th>\n",
       "      <th>Proto</th>\n",
       "      <th>SrcAddr</th>\n",
       "      <th>Sport</th>\n",
       "      <th>Dir</th>\n",
       "      <th>DstAddr</th>\n",
       "      <th>Dport</th>\n",
       "      <th>State</th>\n",
       "      <th>sTos</th>\n",
       "      <th>dTos</th>\n",
       "      <th>TotPkts</th>\n",
       "      <th>TotBytes</th>\n",
       "      <th>SrcBytes</th>\n",
       "      <th>StartTimeHour</th>\n",
       "      <th>StartTimeMinute</th>\n",
       "      <th>StartTimeSecond</th>\n",
       "      <th>isSpam</th>\n",
       "    </tr>\n",
       "  </thead>\n",
       "  <tbody>\n",
       "    <tr>\n",
       "      <th>0</th>\n",
       "      <td>0.026929</td>\n",
       "      <td>3</td>\n",
       "      <td>20862</td>\n",
       "      <td>136</td>\n",
       "      <td>0</td>\n",
       "      <td>3720</td>\n",
       "      <td>581761</td>\n",
       "      <td>104</td>\n",
       "      <td>0</td>\n",
       "      <td>0</td>\n",
       "      <td>14</td>\n",
       "      <td>5335</td>\n",
       "      <td>647</td>\n",
       "      <td>12</td>\n",
       "      <td>37</td>\n",
       "      <td>24</td>\n",
       "      <td>0</td>\n",
       "    </tr>\n",
       "    <tr>\n",
       "      <th>1</th>\n",
       "      <td>62.326111</td>\n",
       "      <td>3</td>\n",
       "      <td>77880</td>\n",
       "      <td>178</td>\n",
       "      <td>0</td>\n",
       "      <td>2897</td>\n",
       "      <td>581761</td>\n",
       "      <td>286</td>\n",
       "      <td>0</td>\n",
       "      <td>0</td>\n",
       "      <td>7</td>\n",
       "      <td>1112</td>\n",
       "      <td>733</td>\n",
       "      <td>15</td>\n",
       "      <td>59</td>\n",
       "      <td>4</td>\n",
       "      <td>0</td>\n",
       "    </tr>\n",
       "    <tr>\n",
       "      <th>2</th>\n",
       "      <td>0.000000</td>\n",
       "      <td>0</td>\n",
       "      <td>20984</td>\n",
       "      <td>3704</td>\n",
       "      <td>0</td>\n",
       "      <td>1621520</td>\n",
       "      <td>370</td>\n",
       "      <td>316</td>\n",
       "      <td>0</td>\n",
       "      <td>0</td>\n",
       "      <td>1</td>\n",
       "      <td>102</td>\n",
       "      <td>102</td>\n",
       "      <td>10</td>\n",
       "      <td>28</td>\n",
       "      <td>20</td>\n",
       "      <td>0</td>\n",
       "    </tr>\n",
       "    <tr>\n",
       "      <th>3</th>\n",
       "      <td>1.088239</td>\n",
       "      <td>3</td>\n",
       "      <td>20745</td>\n",
       "      <td>84</td>\n",
       "      <td>0</td>\n",
       "      <td>2216</td>\n",
       "      <td>148497</td>\n",
       "      <td>104</td>\n",
       "      <td>0</td>\n",
       "      <td>0</td>\n",
       "      <td>16</td>\n",
       "      <td>5622</td>\n",
       "      <td>1484</td>\n",
       "      <td>14</td>\n",
       "      <td>9</td>\n",
       "      <td>7</td>\n",
       "      <td>0</td>\n",
       "    </tr>\n",
       "    <tr>\n",
       "      <th>4</th>\n",
       "      <td>0.139055</td>\n",
       "      <td>3</td>\n",
       "      <td>23960</td>\n",
       "      <td>147</td>\n",
       "      <td>0</td>\n",
       "      <td>4036</td>\n",
       "      <td>581761</td>\n",
       "      <td>104</td>\n",
       "      <td>0</td>\n",
       "      <td>0</td>\n",
       "      <td>10</td>\n",
       "      <td>1611</td>\n",
       "      <td>725</td>\n",
       "      <td>11</td>\n",
       "      <td>17</td>\n",
       "      <td>46</td>\n",
       "      <td>0</td>\n",
       "    </tr>\n",
       "  </tbody>\n",
       "</table>\n",
       "</div>"
      ],
      "text/plain": [
       "         Dur  Proto  SrcAddr  Sport  Dir  DstAddr   Dport  State  sTos  dTos  \\\n",
       "0   0.026929      3    20862    136    0     3720  581761    104     0     0   \n",
       "1  62.326111      3    77880    178    0     2897  581761    286     0     0   \n",
       "2   0.000000      0    20984   3704    0  1621520     370    316     0     0   \n",
       "3   1.088239      3    20745     84    0     2216  148497    104     0     0   \n",
       "4   0.139055      3    23960    147    0     4036  581761    104     0     0   \n",
       "\n",
       "   TotPkts  TotBytes  SrcBytes  StartTimeHour  StartTimeMinute  \\\n",
       "0       14      5335       647             12               37   \n",
       "1        7      1112       733             15               59   \n",
       "2        1       102       102             10               28   \n",
       "3       16      5622      1484             14                9   \n",
       "4       10      1611       725             11               17   \n",
       "\n",
       "   StartTimeSecond  isSpam  \n",
       "0               24       0  \n",
       "1                4       0  \n",
       "2               20       0  \n",
       "3                7       0  \n",
       "4               46       0  "
      ]
     },
     "execution_count": 9,
     "metadata": {},
     "output_type": "execute_result"
    }
   ],
   "source": [
    "train2_isspam.head()"
   ]
  },
  {
   "cell_type": "code",
   "execution_count": 10,
   "metadata": {},
   "outputs": [],
   "source": [
    "# Sensor 3\n",
    "train3_isbotnet = pd.read_csv(dataset_dir + 'sensor3_isbotnet.csv')\n",
    "train3_isspam = pd.read_csv(dataset_dir + 'sensor3_isspam.csv')"
   ]
  },
  {
   "cell_type": "code",
   "execution_count": 11,
   "metadata": {},
   "outputs": [
    {
     "data": {
      "text/html": [
       "<div>\n",
       "<style scoped>\n",
       "    .dataframe tbody tr th:only-of-type {\n",
       "        vertical-align: middle;\n",
       "    }\n",
       "\n",
       "    .dataframe tbody tr th {\n",
       "        vertical-align: top;\n",
       "    }\n",
       "\n",
       "    .dataframe thead th {\n",
       "        text-align: right;\n",
       "    }\n",
       "</style>\n",
       "<table border=\"1\" class=\"dataframe\">\n",
       "  <thead>\n",
       "    <tr style=\"text-align: right;\">\n",
       "      <th></th>\n",
       "      <th>Dur</th>\n",
       "      <th>Proto</th>\n",
       "      <th>SrcAddr</th>\n",
       "      <th>Sport</th>\n",
       "      <th>Dir</th>\n",
       "      <th>DstAddr</th>\n",
       "      <th>Dport</th>\n",
       "      <th>State</th>\n",
       "      <th>sTos</th>\n",
       "      <th>dTos</th>\n",
       "      <th>TotPkts</th>\n",
       "      <th>TotBytes</th>\n",
       "      <th>SrcBytes</th>\n",
       "      <th>StartTimeHour</th>\n",
       "      <th>StartTimeMinute</th>\n",
       "      <th>StartTimeSecond</th>\n",
       "      <th>isBotnet</th>\n",
       "    </tr>\n",
       "  </thead>\n",
       "  <tbody>\n",
       "    <tr>\n",
       "      <th>0</th>\n",
       "      <td>0.002248</td>\n",
       "      <td>4</td>\n",
       "      <td>1</td>\n",
       "      <td>106</td>\n",
       "      <td>3</td>\n",
       "      <td>338987</td>\n",
       "      <td>318377</td>\n",
       "      <td>7</td>\n",
       "      <td>0</td>\n",
       "      <td>0</td>\n",
       "      <td>2</td>\n",
       "      <td>548</td>\n",
       "      <td>488</td>\n",
       "      <td>12</td>\n",
       "      <td>6</td>\n",
       "      <td>15</td>\n",
       "      <td>0</td>\n",
       "    </tr>\n",
       "    <tr>\n",
       "      <th>1</th>\n",
       "      <td>0.000298</td>\n",
       "      <td>4</td>\n",
       "      <td>492764</td>\n",
       "      <td>50</td>\n",
       "      <td>3</td>\n",
       "      <td>1211113</td>\n",
       "      <td>1220778</td>\n",
       "      <td>7</td>\n",
       "      <td>0</td>\n",
       "      <td>0</td>\n",
       "      <td>2</td>\n",
       "      <td>214</td>\n",
       "      <td>81</td>\n",
       "      <td>12</td>\n",
       "      <td>27</td>\n",
       "      <td>40</td>\n",
       "      <td>0</td>\n",
       "    </tr>\n",
       "    <tr>\n",
       "      <th>2</th>\n",
       "      <td>1.244523</td>\n",
       "      <td>3</td>\n",
       "      <td>6457</td>\n",
       "      <td>202</td>\n",
       "      <td>0</td>\n",
       "      <td>248</td>\n",
       "      <td>3257</td>\n",
       "      <td>76</td>\n",
       "      <td>0</td>\n",
       "      <td>0</td>\n",
       "      <td>53</td>\n",
       "      <td>17709</td>\n",
       "      <td>2206</td>\n",
       "      <td>11</td>\n",
       "      <td>22</td>\n",
       "      <td>43</td>\n",
       "      <td>0</td>\n",
       "    </tr>\n",
       "    <tr>\n",
       "      <th>3</th>\n",
       "      <td>3251.449219</td>\n",
       "      <td>4</td>\n",
       "      <td>1</td>\n",
       "      <td>6</td>\n",
       "      <td>3</td>\n",
       "      <td>338987</td>\n",
       "      <td>318377</td>\n",
       "      <td>7</td>\n",
       "      <td>0</td>\n",
       "      <td>0</td>\n",
       "      <td>6</td>\n",
       "      <td>1270</td>\n",
       "      <td>232</td>\n",
       "      <td>9</td>\n",
       "      <td>20</td>\n",
       "      <td>12</td>\n",
       "      <td>0</td>\n",
       "    </tr>\n",
       "    <tr>\n",
       "      <th>4</th>\n",
       "      <td>0.000255</td>\n",
       "      <td>4</td>\n",
       "      <td>440828</td>\n",
       "      <td>86</td>\n",
       "      <td>3</td>\n",
       "      <td>1211113</td>\n",
       "      <td>1220778</td>\n",
       "      <td>7</td>\n",
       "      <td>0</td>\n",
       "      <td>0</td>\n",
       "      <td>2</td>\n",
       "      <td>200</td>\n",
       "      <td>75</td>\n",
       "      <td>10</td>\n",
       "      <td>24</td>\n",
       "      <td>28</td>\n",
       "      <td>0</td>\n",
       "    </tr>\n",
       "  </tbody>\n",
       "</table>\n",
       "</div>"
      ],
      "text/plain": [
       "           Dur  Proto  SrcAddr  Sport  Dir  DstAddr    Dport  State  sTos  \\\n",
       "0     0.002248      4        1    106    3   338987   318377      7     0   \n",
       "1     0.000298      4   492764     50    3  1211113  1220778      7     0   \n",
       "2     1.244523      3     6457    202    0      248     3257     76     0   \n",
       "3  3251.449219      4        1      6    3   338987   318377      7     0   \n",
       "4     0.000255      4   440828     86    3  1211113  1220778      7     0   \n",
       "\n",
       "   dTos  TotPkts  TotBytes  SrcBytes  StartTimeHour  StartTimeMinute  \\\n",
       "0     0        2       548       488             12                6   \n",
       "1     0        2       214        81             12               27   \n",
       "2     0       53     17709      2206             11               22   \n",
       "3     0        6      1270       232              9               20   \n",
       "4     0        2       200        75             10               24   \n",
       "\n",
       "   StartTimeSecond  isBotnet  \n",
       "0               15         0  \n",
       "1               40         0  \n",
       "2               43         0  \n",
       "3               12         0  \n",
       "4               28         0  "
      ]
     },
     "execution_count": 11,
     "metadata": {},
     "output_type": "execute_result"
    }
   ],
   "source": [
    "train3_isbotnet.head()"
   ]
  },
  {
   "cell_type": "code",
   "execution_count": 12,
   "metadata": {},
   "outputs": [
    {
     "data": {
      "text/html": [
       "<div>\n",
       "<style scoped>\n",
       "    .dataframe tbody tr th:only-of-type {\n",
       "        vertical-align: middle;\n",
       "    }\n",
       "\n",
       "    .dataframe tbody tr th {\n",
       "        vertical-align: top;\n",
       "    }\n",
       "\n",
       "    .dataframe thead th {\n",
       "        text-align: right;\n",
       "    }\n",
       "</style>\n",
       "<table border=\"1\" class=\"dataframe\">\n",
       "  <thead>\n",
       "    <tr style=\"text-align: right;\">\n",
       "      <th></th>\n",
       "      <th>Dur</th>\n",
       "      <th>Proto</th>\n",
       "      <th>SrcAddr</th>\n",
       "      <th>Sport</th>\n",
       "      <th>Dir</th>\n",
       "      <th>DstAddr</th>\n",
       "      <th>Dport</th>\n",
       "      <th>State</th>\n",
       "      <th>sTos</th>\n",
       "      <th>dTos</th>\n",
       "      <th>TotPkts</th>\n",
       "      <th>TotBytes</th>\n",
       "      <th>SrcBytes</th>\n",
       "      <th>StartTimeHour</th>\n",
       "      <th>StartTimeMinute</th>\n",
       "      <th>StartTimeSecond</th>\n",
       "      <th>isSpam</th>\n",
       "    </tr>\n",
       "  </thead>\n",
       "  <tbody>\n",
       "    <tr>\n",
       "      <th>0</th>\n",
       "      <td>4.689169</td>\n",
       "      <td>3</td>\n",
       "      <td>65253</td>\n",
       "      <td>102</td>\n",
       "      <td>0</td>\n",
       "      <td>751</td>\n",
       "      <td>4724</td>\n",
       "      <td>73</td>\n",
       "      <td>0</td>\n",
       "      <td>0</td>\n",
       "      <td>10</td>\n",
       "      <td>1011</td>\n",
       "      <td>568</td>\n",
       "      <td>14</td>\n",
       "      <td>25</td>\n",
       "      <td>35</td>\n",
       "      <td>0</td>\n",
       "    </tr>\n",
       "    <tr>\n",
       "      <th>1</th>\n",
       "      <td>93.495171</td>\n",
       "      <td>3</td>\n",
       "      <td>16364</td>\n",
       "      <td>833</td>\n",
       "      <td>0</td>\n",
       "      <td>1946</td>\n",
       "      <td>16744</td>\n",
       "      <td>78</td>\n",
       "      <td>0</td>\n",
       "      <td>0</td>\n",
       "      <td>10</td>\n",
       "      <td>2248</td>\n",
       "      <td>2186</td>\n",
       "      <td>10</td>\n",
       "      <td>9</td>\n",
       "      <td>32</td>\n",
       "      <td>0</td>\n",
       "    </tr>\n",
       "    <tr>\n",
       "      <th>2</th>\n",
       "      <td>3566.989502</td>\n",
       "      <td>3</td>\n",
       "      <td>65253</td>\n",
       "      <td>239</td>\n",
       "      <td>0</td>\n",
       "      <td>1375</td>\n",
       "      <td>117676</td>\n",
       "      <td>184</td>\n",
       "      <td>0</td>\n",
       "      <td>0</td>\n",
       "      <td>220</td>\n",
       "      <td>14760</td>\n",
       "      <td>8092</td>\n",
       "      <td>15</td>\n",
       "      <td>24</td>\n",
       "      <td>55</td>\n",
       "      <td>0</td>\n",
       "    </tr>\n",
       "    <tr>\n",
       "      <th>3</th>\n",
       "      <td>16.122133</td>\n",
       "      <td>3</td>\n",
       "      <td>17236</td>\n",
       "      <td>71</td>\n",
       "      <td>0</td>\n",
       "      <td>60</td>\n",
       "      <td>469208</td>\n",
       "      <td>207</td>\n",
       "      <td>0</td>\n",
       "      <td>0</td>\n",
       "      <td>17</td>\n",
       "      <td>7634</td>\n",
       "      <td>863</td>\n",
       "      <td>15</td>\n",
       "      <td>16</td>\n",
       "      <td>53</td>\n",
       "      <td>0</td>\n",
       "    </tr>\n",
       "    <tr>\n",
       "      <th>4</th>\n",
       "      <td>12.689653</td>\n",
       "      <td>3</td>\n",
       "      <td>65253</td>\n",
       "      <td>49</td>\n",
       "      <td>0</td>\n",
       "      <td>2273</td>\n",
       "      <td>9064</td>\n",
       "      <td>73</td>\n",
       "      <td>0</td>\n",
       "      <td>0</td>\n",
       "      <td>28</td>\n",
       "      <td>6190</td>\n",
       "      <td>4506</td>\n",
       "      <td>11</td>\n",
       "      <td>18</td>\n",
       "      <td>33</td>\n",
       "      <td>0</td>\n",
       "    </tr>\n",
       "  </tbody>\n",
       "</table>\n",
       "</div>"
      ],
      "text/plain": [
       "           Dur  Proto  SrcAddr  Sport  Dir  DstAddr   Dport  State  sTos  \\\n",
       "0     4.689169      3    65253    102    0      751    4724     73     0   \n",
       "1    93.495171      3    16364    833    0     1946   16744     78     0   \n",
       "2  3566.989502      3    65253    239    0     1375  117676    184     0   \n",
       "3    16.122133      3    17236     71    0       60  469208    207     0   \n",
       "4    12.689653      3    65253     49    0     2273    9064     73     0   \n",
       "\n",
       "   dTos  TotPkts  TotBytes  SrcBytes  StartTimeHour  StartTimeMinute  \\\n",
       "0     0       10      1011       568             14               25   \n",
       "1     0       10      2248      2186             10                9   \n",
       "2     0      220     14760      8092             15               24   \n",
       "3     0       17      7634       863             15               16   \n",
       "4     0       28      6190      4506             11               18   \n",
       "\n",
       "   StartTimeSecond  isSpam  \n",
       "0               35       0  \n",
       "1               32       0  \n",
       "2               55       0  \n",
       "3               53       0  \n",
       "4               33       0  "
      ]
     },
     "execution_count": 12,
     "metadata": {},
     "output_type": "execute_result"
    }
   ],
   "source": [
    "train3_isspam.head()"
   ]
  },
  {
   "cell_type": "markdown",
   "metadata": {},
   "source": [
    "# BPSO Feature Selection"
   ]
  },
  {
   "cell_type": "code",
   "execution_count": 13,
   "metadata": {},
   "outputs": [],
   "source": [
    "# BPSO\n",
    "\n",
    "# Sigmoid function to convert velocity into probabilities\n",
    "def sigmoid(v):\n",
    "    return 1 / (1 + np.exp(-v))\n",
    "\n",
    "# Function to update position (binary)\n",
    "def update_position(velocity):\n",
    "    probability = sigmoid(velocity)\n",
    "    new_position = np.random.rand(len(velocity)) < probability\n",
    "    return new_position.astype(int)  # Convert boolean to binary (0 or 1)\n",
    "\n",
    "# Fitness function (based on model accuracy)\n",
    "def fitness_function(selected_features, X, y):\n",
    "    # Ensure selected_features is a valid boolean mask\n",
    "    selected_features = selected_features.astype(bool)\n",
    "    \n",
    "    if np.sum(selected_features) == 0:  # Avoid selecting no features\n",
    "        return 1.0  # Poor fitness if no features are selected\n",
    "    \n",
    "    # Select features based on the boolean mask\n",
    "    if isinstance(X, np.ndarray):\n",
    "        selected_X = X[:, selected_features]\n",
    "    elif isinstance(X, pd.DataFrame):\n",
    "        selected_X = X.loc[:, selected_features]\n",
    "\n",
    "    # Split data\n",
    "    X_train, X_test, y_train, y_test = train_test_split(selected_X, y, test_size=0.25, random_state=42)\n",
    "\n",
    "    # Train a decision tree classifier\n",
    "    model = DecisionTreeClassifier()\n",
    "    model.fit(X_train, y_train)\n",
    "\n",
    "    # Predict and calculate accuracy\n",
    "    y_pred = model.predict(X_test)\n",
    "    accuracy = accuracy_score(y_test, y_pred)\n",
    "\n",
    "    return 1 - accuracy  # Return 1 - accuracy to minimize the fitness\n",
    "\n",
    "# BPSO Algorithm for Feature Selection\n",
    "def bpso_feature_selection(X, y, n_particles, max_iter, w=0.5, c1=1.5, c2=1.5):\n",
    "    n_features = X.shape[1]\n",
    "    \n",
    "    # Initialize particle positions (binary) and velocities\n",
    "    positions = np.random.randint(2, size=(n_particles, n_features))\n",
    "    velocities = np.random.uniform(-1, 1, (n_particles, n_features))\n",
    "    \n",
    "    # Initialize personal best positions and global best position\n",
    "    pbest_positions = positions.copy()\n",
    "    pbest_fitness = np.array([fitness_function(positions[i], X, y) for i in range(n_particles)])\n",
    "    \n",
    "    gbest_position = pbest_positions[np.argmin(pbest_fitness)]\n",
    "    gbest_fitness = np.min(pbest_fitness)\n",
    "    \n",
    "    # BPSO main loop\n",
    "    for iteration in range(max_iter):\n",
    "        for i in range(n_particles):\n",
    "            # Update velocity\n",
    "            r1, r2 = np.random.rand(n_features), np.random.rand(n_features)\n",
    "            velocities[i] = (w * velocities[i] +\n",
    "                             c1 * r1 * (pbest_positions[i] - positions[i]) +\n",
    "                             c2 * r2 * (gbest_position - positions[i]))\n",
    "            \n",
    "            # Update position (convert velocity to binary)\n",
    "            positions[i] = update_position(velocities[i])\n",
    "            \n",
    "            # Calculate new fitness\n",
    "            fitness = fitness_function(positions[i], X, y)\n",
    "            \n",
    "            # Update personal best if the current position is better\n",
    "            if fitness < pbest_fitness[i]:\n",
    "                pbest_positions[i] = positions[i]\n",
    "                pbest_fitness[i] = fitness\n",
    "        \n",
    "        # Update global best if a better solution is found\n",
    "        best_particle_idx = np.argmin(pbest_fitness)\n",
    "        if pbest_fitness[best_particle_idx] < gbest_fitness:\n",
    "            gbest_position = pbest_positions[best_particle_idx]\n",
    "            gbest_fitness = pbest_fitness[best_particle_idx]\n",
    "        \n",
    "        print(f\"Iteration {iteration+1}/{max_iter}, Best Fitness: {gbest_fitness}\")\n",
    "        \n",
    "        if gbest_fitness == 0.00000:\n",
    "            print('Global Fitness reached 0.00000')\n",
    "            break\n",
    "    \n",
    "    return gbest_position, 1 - gbest_fitness  # Return best feature subset and corresponding accuracy"
   ]
  },
  {
   "cell_type": "markdown",
   "metadata": {},
   "source": [
    "# Sensor 1"
   ]
  },
  {
   "cell_type": "code",
   "execution_count": 14,
   "metadata": {},
   "outputs": [],
   "source": [
    "X_botnet = train1_isbotnet.drop(columns=['isBotnet'])\n",
    "y_botnet = train1_isbotnet['isBotnet']"
   ]
  },
  {
   "cell_type": "code",
   "execution_count": 15,
   "metadata": {},
   "outputs": [],
   "source": [
    "X_spam = train1_isspam.drop(columns=['isSpam'])\n",
    "y_spam = train1_isspam['isSpam']"
   ]
  },
  {
   "cell_type": "markdown",
   "metadata": {},
   "source": [
    "## 10 particles"
   ]
  },
  {
   "cell_type": "markdown",
   "metadata": {},
   "source": [
    "### isBotnet"
   ]
  },
  {
   "cell_type": "code",
   "execution_count": 16,
   "metadata": {},
   "outputs": [
    {
     "name": "stdout",
     "output_type": "stream",
     "text": [
      "Iteration 1/30, Best Fitness: 3.5383659118259914e-06\n",
      "Iteration 2/30, Best Fitness: 3.5383659118259914e-06\n",
      "Iteration 3/30, Best Fitness: 3.5383659118259914e-06\n",
      "Iteration 4/30, Best Fitness: 3.5383659118259914e-06\n",
      "Iteration 5/30, Best Fitness: 3.5383659118259914e-06\n",
      "Iteration 6/30, Best Fitness: 3.5383659118259914e-06\n",
      "Iteration 7/30, Best Fitness: 0.0\n",
      "Global Fitness reached 0.00000\n"
     ]
    }
   ],
   "source": [
    "best_features, best_accuracy = bpso_feature_selection(X_botnet, y_botnet, n_particles=10, max_iter=30)"
   ]
  },
  {
   "cell_type": "code",
   "execution_count": 17,
   "metadata": {},
   "outputs": [],
   "source": [
    "selected_columns = X_botnet.columns[best_features == 1]"
   ]
  },
  {
   "cell_type": "code",
   "execution_count": 18,
   "metadata": {},
   "outputs": [
    {
     "name": "stdout",
     "output_type": "stream",
     "text": [
      "Best Features Subset:  [0 1 1 1 0 0 0 0 1 0 0 1 1 0 0 0]\n",
      "Columns : \n",
      " Index(['Proto', 'SrcAddr', 'Sport', 'sTos', 'TotBytes', 'SrcBytes'], dtype='object')\n",
      "Best Accuracy:  1.0\n"
     ]
    }
   ],
   "source": [
    "print('Best Features Subset: ', best_features)\n",
    "print('Columns : \\n', selected_columns)\n",
    "print('Best Accuracy: ', best_accuracy)"
   ]
  },
  {
   "cell_type": "markdown",
   "metadata": {},
   "source": [
    "#### isSpam"
   ]
  },
  {
   "cell_type": "code",
   "execution_count": 19,
   "metadata": {},
   "outputs": [
    {
     "name": "stdout",
     "output_type": "stream",
     "text": [
      "Iteration 1/30, Best Fitness: 0.0\n",
      "Global Fitness reached 0.00000\n"
     ]
    }
   ],
   "source": [
    "best_features_spam, best_accuracy_spam = bpso_feature_selection(X_spam, y_spam, n_particles=10, max_iter=30)"
   ]
  },
  {
   "cell_type": "code",
   "execution_count": 20,
   "metadata": {},
   "outputs": [],
   "source": [
    "selected_columns = X_spam.columns[best_features_spam == 1]"
   ]
  },
  {
   "cell_type": "code",
   "execution_count": 21,
   "metadata": {},
   "outputs": [
    {
     "name": "stdout",
     "output_type": "stream",
     "text": [
      "Best Features Subset:  [1 1 0 0 0 1 1 0 1 0 0 0 0 1 0 1]\n",
      "Columns : \n",
      " Index(['Dur', 'Proto', 'DstAddr', 'Dport', 'sTos', 'StartTimeHour',\n",
      "       'StartTimeSecond'],\n",
      "      dtype='object')\n",
      "Best Accuracy:  1.0\n"
     ]
    }
   ],
   "source": [
    "print('Best Features Subset: ', best_features_spam)\n",
    "print('Columns : \\n', selected_columns)\n",
    "print('Best Accuracy: ', best_accuracy_spam)"
   ]
  },
  {
   "cell_type": "markdown",
   "metadata": {},
   "source": [
    "## 15 Particles"
   ]
  },
  {
   "cell_type": "markdown",
   "metadata": {},
   "source": [
    "### isBotnet"
   ]
  },
  {
   "cell_type": "code",
   "execution_count": 22,
   "metadata": {},
   "outputs": [
    {
     "name": "stdout",
     "output_type": "stream",
     "text": [
      "Iteration 1/30, Best Fitness: 4.717821215804996e-06\n",
      "Iteration 2/30, Best Fitness: 4.717821215804996e-06\n",
      "Iteration 3/30, Best Fitness: 4.717821215804996e-06\n",
      "Iteration 4/30, Best Fitness: 3.5383659118259914e-06\n",
      "Iteration 5/30, Best Fitness: 3.5383659118259914e-06\n",
      "Iteration 6/30, Best Fitness: 1.1794553039790046e-06\n",
      "Iteration 7/30, Best Fitness: 1.1794553039790046e-06\n",
      "Iteration 8/30, Best Fitness: 1.1794553039790046e-06\n",
      "Iteration 9/30, Best Fitness: 0.0\n",
      "Global Fitness reached 0.00000\n"
     ]
    }
   ],
   "source": [
    "best_features, best_accuracy = bpso_feature_selection(X_botnet, y_botnet, n_particles=15, max_iter=30)"
   ]
  },
  {
   "cell_type": "code",
   "execution_count": 23,
   "metadata": {},
   "outputs": [],
   "source": [
    "selected_columns = X_botnet.columns[best_features == 1]"
   ]
  },
  {
   "cell_type": "code",
   "execution_count": 24,
   "metadata": {},
   "outputs": [
    {
     "name": "stdout",
     "output_type": "stream",
     "text": [
      "Best Features Subset:  [0 0 1 0 1 1 1 1 1 0 0 1 0 0 0 0]\n",
      "Columns : \n",
      " Index(['SrcAddr', 'Dir', 'DstAddr', 'Dport', 'State', 'sTos', 'TotBytes'], dtype='object')\n",
      "Best Accuracy:  1.0\n"
     ]
    }
   ],
   "source": [
    "print('Best Features Subset: ', best_features)\n",
    "print('Columns : \\n', selected_columns)\n",
    "print('Best Accuracy: ', best_accuracy)"
   ]
  },
  {
   "cell_type": "markdown",
   "metadata": {},
   "source": [
    "### isSpam"
   ]
  },
  {
   "cell_type": "code",
   "execution_count": 25,
   "metadata": {},
   "outputs": [
    {
     "name": "stdout",
     "output_type": "stream",
     "text": [
      "Iteration 1/30, Best Fitness: 0.0\n",
      "Global Fitness reached 0.00000\n"
     ]
    }
   ],
   "source": [
    "best_features_spam, best_accuracy_spam = bpso_feature_selection(X_spam, y_spam, n_particles=15, max_iter=30)"
   ]
  },
  {
   "cell_type": "code",
   "execution_count": 26,
   "metadata": {},
   "outputs": [],
   "source": [
    "selected_columns = X_spam.columns[best_features_spam == 1]"
   ]
  },
  {
   "cell_type": "code",
   "execution_count": 27,
   "metadata": {},
   "outputs": [
    {
     "name": "stdout",
     "output_type": "stream",
     "text": [
      "Best Features Subset:  [1 1 1 0 1 0 1 0 1 1 1 0 0 0 0 1]\n",
      "Columns : \n",
      " Index(['Dur', 'Proto', 'SrcAddr', 'Dir', 'Dport', 'sTos', 'dTos', 'TotPkts',\n",
      "       'StartTimeSecond'],\n",
      "      dtype='object')\n",
      "Best Accuracy:  1.0\n"
     ]
    }
   ],
   "source": [
    "print('Best Features Subset: ', best_features_spam)\n",
    "print('Columns : \\n', selected_columns)\n",
    "print('Best Accuracy: ', best_accuracy_spam)"
   ]
  },
  {
   "cell_type": "markdown",
   "metadata": {},
   "source": [
    "## 20 Particles"
   ]
  },
  {
   "cell_type": "markdown",
   "metadata": {},
   "source": [
    "### isBotnet"
   ]
  },
  {
   "cell_type": "code",
   "execution_count": 28,
   "metadata": {},
   "outputs": [
    {
     "name": "stdout",
     "output_type": "stream",
     "text": [
      "Iteration 1/30, Best Fitness: 5.8972765197840005e-06\n",
      "Iteration 2/30, Best Fitness: 2.358910607958009e-06\n",
      "Iteration 3/30, Best Fitness: 2.358910607958009e-06\n",
      "Iteration 4/30, Best Fitness: 2.358910607958009e-06\n",
      "Iteration 5/30, Best Fitness: 2.358910607958009e-06\n",
      "Iteration 6/30, Best Fitness: 2.358910607958009e-06\n",
      "Iteration 7/30, Best Fitness: 1.1794553039790046e-06\n",
      "Iteration 8/30, Best Fitness: 1.1794553039790046e-06\n",
      "Iteration 9/30, Best Fitness: 1.1794553039790046e-06\n",
      "Iteration 10/30, Best Fitness: 1.1794553039790046e-06\n",
      "Iteration 11/30, Best Fitness: 0.0\n",
      "Global Fitness reached 0.00000\n"
     ]
    }
   ],
   "source": [
    "best_features, best_accuracy = bpso_feature_selection(X_botnet, y_botnet, n_particles=20, max_iter=30)"
   ]
  },
  {
   "cell_type": "code",
   "execution_count": 29,
   "metadata": {},
   "outputs": [],
   "source": [
    "selected_columns = X_botnet.columns[best_features == 1]"
   ]
  },
  {
   "cell_type": "code",
   "execution_count": 30,
   "metadata": {},
   "outputs": [
    {
     "name": "stdout",
     "output_type": "stream",
     "text": [
      "Best Features Subset:  [0 1 1 0 0 1 0 0 1 0 0 1 0 0 0 0]\n",
      "Columns : \n",
      " Index(['Proto', 'SrcAddr', 'DstAddr', 'sTos', 'TotBytes'], dtype='object')\n",
      "Best Accuracy:  1.0\n"
     ]
    }
   ],
   "source": [
    "print('Best Features Subset: ', best_features)\n",
    "print('Columns : \\n', selected_columns)\n",
    "print('Best Accuracy: ', best_accuracy)"
   ]
  },
  {
   "cell_type": "markdown",
   "metadata": {},
   "source": [
    "### isSpam"
   ]
  },
  {
   "cell_type": "code",
   "execution_count": 31,
   "metadata": {},
   "outputs": [
    {
     "name": "stdout",
     "output_type": "stream",
     "text": [
      "Iteration 1/30, Best Fitness: 0.0\n",
      "Global Fitness reached 0.00000\n"
     ]
    }
   ],
   "source": [
    "best_features_spam, best_accuracy_spam = bpso_feature_selection(X_spam, y_spam, n_particles=20, max_iter=30)"
   ]
  },
  {
   "cell_type": "code",
   "execution_count": 32,
   "metadata": {},
   "outputs": [],
   "source": [
    "selected_columns = X_spam.columns[best_features_spam == 1]"
   ]
  },
  {
   "cell_type": "code",
   "execution_count": 33,
   "metadata": {},
   "outputs": [
    {
     "name": "stdout",
     "output_type": "stream",
     "text": [
      "Best Features Subset:  [0 1 0 0 1 1 1 1 0 1 1 0 1 1 0 1]\n",
      "Columns : \n",
      " Index(['Proto', 'Dir', 'DstAddr', 'Dport', 'State', 'dTos', 'TotPkts',\n",
      "       'SrcBytes', 'StartTimeHour', 'StartTimeSecond'],\n",
      "      dtype='object')\n",
      "Best Accuracy:  1.0\n"
     ]
    }
   ],
   "source": [
    "print('Best Features Subset: ', best_features_spam)\n",
    "print('Columns : \\n', selected_columns)\n",
    "print('Best Accuracy: ', best_accuracy_spam)"
   ]
  },
  {
   "cell_type": "markdown",
   "metadata": {},
   "source": [
    "# Sensor 2"
   ]
  },
  {
   "cell_type": "code",
   "execution_count": 34,
   "metadata": {},
   "outputs": [],
   "source": [
    "X_botnet = train2_isbotnet.drop(columns=['isBotnet'])\n",
    "y_botnet = train2_isbotnet['isBotnet']"
   ]
  },
  {
   "cell_type": "code",
   "execution_count": 35,
   "metadata": {},
   "outputs": [],
   "source": [
    "X_spam = train2_isspam.drop(columns=['isSpam'])\n",
    "y_spam = train2_isspam['isSpam']"
   ]
  },
  {
   "cell_type": "markdown",
   "metadata": {},
   "source": [
    "## 10 particles"
   ]
  },
  {
   "cell_type": "markdown",
   "metadata": {},
   "source": [
    "### isBotnet"
   ]
  },
  {
   "cell_type": "code",
   "execution_count": 36,
   "metadata": {},
   "outputs": [
    {
     "name": "stdout",
     "output_type": "stream",
     "text": [
      "Iteration 1/30, Best Fitness: 0.0\n",
      "Global Fitness reached 0.00000\n"
     ]
    }
   ],
   "source": [
    "best_features, best_accuracy = bpso_feature_selection(X_botnet, y_botnet, n_particles=10, max_iter=30)"
   ]
  },
  {
   "cell_type": "code",
   "execution_count": 37,
   "metadata": {},
   "outputs": [],
   "source": [
    "selected_columns = X_botnet.columns[best_features == 1]"
   ]
  },
  {
   "cell_type": "code",
   "execution_count": 38,
   "metadata": {},
   "outputs": [
    {
     "name": "stdout",
     "output_type": "stream",
     "text": [
      "Best Features Subset:  [0 1 1 0 1 0 0 0 0 1 1 1 1 1 1 1]\n",
      "Columns : \n",
      " Index(['Proto', 'SrcAddr', 'Dir', 'dTos', 'TotPkts', 'TotBytes', 'SrcBytes',\n",
      "       'StartTimeHour', 'StartTimeMinute', 'StartTimeSecond'],\n",
      "      dtype='object')\n",
      "Best Accuracy:  1.0\n"
     ]
    }
   ],
   "source": [
    "print('Best Features Subset: ', best_features)\n",
    "print('Columns : \\n', selected_columns)\n",
    "print('Best Accuracy: ', best_accuracy)"
   ]
  },
  {
   "cell_type": "markdown",
   "metadata": {},
   "source": [
    "#### isSpam"
   ]
  },
  {
   "cell_type": "code",
   "execution_count": 39,
   "metadata": {},
   "outputs": [
    {
     "name": "stdout",
     "output_type": "stream",
     "text": [
      "Iteration 1/30, Best Fitness: 0.0\n",
      "Global Fitness reached 0.00000\n"
     ]
    }
   ],
   "source": [
    "best_features_spam, best_accuracy_spam = bpso_feature_selection(X_spam, y_spam, n_particles=10, max_iter=30)"
   ]
  },
  {
   "cell_type": "code",
   "execution_count": 40,
   "metadata": {},
   "outputs": [],
   "source": [
    "selected_columns = X_spam.columns[best_features_spam == 1]"
   ]
  },
  {
   "cell_type": "code",
   "execution_count": 41,
   "metadata": {},
   "outputs": [
    {
     "name": "stdout",
     "output_type": "stream",
     "text": [
      "Best Features Subset:  [1 1 0 0 0 1 1 1 0 0 0 1 0 1 1 1]\n",
      "Columns : \n",
      " Index(['Dur', 'Proto', 'DstAddr', 'Dport', 'State', 'TotBytes',\n",
      "       'StartTimeHour', 'StartTimeMinute', 'StartTimeSecond'],\n",
      "      dtype='object')\n",
      "Best Accuracy:  1.0\n"
     ]
    }
   ],
   "source": [
    "print('Best Features Subset: ', best_features_spam)\n",
    "print('Columns : \\n', selected_columns)\n",
    "print('Best Accuracy: ', best_accuracy_spam)"
   ]
  },
  {
   "cell_type": "markdown",
   "metadata": {},
   "source": [
    "## 15 Particles"
   ]
  },
  {
   "cell_type": "markdown",
   "metadata": {},
   "source": [
    "### isBotnet"
   ]
  },
  {
   "cell_type": "code",
   "execution_count": 42,
   "metadata": {},
   "outputs": [
    {
     "name": "stdout",
     "output_type": "stream",
     "text": [
      "Iteration 1/30, Best Fitness: 0.0\n",
      "Global Fitness reached 0.00000\n"
     ]
    }
   ],
   "source": [
    "best_features, best_accuracy = bpso_feature_selection(X_botnet, y_botnet, n_particles=15, max_iter=30)"
   ]
  },
  {
   "cell_type": "code",
   "execution_count": 43,
   "metadata": {},
   "outputs": [],
   "source": [
    "selected_columns = X_botnet.columns[best_features == 1]"
   ]
  },
  {
   "cell_type": "code",
   "execution_count": 44,
   "metadata": {},
   "outputs": [
    {
     "name": "stdout",
     "output_type": "stream",
     "text": [
      "Best Features Subset:  [0 0 1 0 0 0 1 0 1 1 1 0 0 1 1 1]\n",
      "Columns : \n",
      " Index(['SrcAddr', 'Dport', 'sTos', 'dTos', 'TotPkts', 'StartTimeHour',\n",
      "       'StartTimeMinute', 'StartTimeSecond'],\n",
      "      dtype='object')\n",
      "Best Accuracy:  1.0\n"
     ]
    }
   ],
   "source": [
    "print('Best Features Subset: ', best_features)\n",
    "print('Columns : \\n', selected_columns)\n",
    "print('Best Accuracy: ', best_accuracy)"
   ]
  },
  {
   "cell_type": "markdown",
   "metadata": {},
   "source": [
    "### isSpam"
   ]
  },
  {
   "cell_type": "code",
   "execution_count": 45,
   "metadata": {},
   "outputs": [
    {
     "name": "stdout",
     "output_type": "stream",
     "text": [
      "Iteration 1/30, Best Fitness: 0.0\n",
      "Global Fitness reached 0.00000\n"
     ]
    }
   ],
   "source": [
    "best_features_spam, best_accuracy_spam = bpso_feature_selection(X_spam, y_spam, n_particles=15, max_iter=30)"
   ]
  },
  {
   "cell_type": "code",
   "execution_count": 46,
   "metadata": {},
   "outputs": [],
   "source": [
    "selected_columns = X_spam.columns[best_features_spam == 1]"
   ]
  },
  {
   "cell_type": "code",
   "execution_count": 47,
   "metadata": {},
   "outputs": [
    {
     "name": "stdout",
     "output_type": "stream",
     "text": [
      "Best Features Subset:  [0 1 1 1 0 0 1 0 1 0 0 0 1 0 0 0]\n",
      "Columns : \n",
      " Index(['Proto', 'SrcAddr', 'Sport', 'Dport', 'sTos', 'SrcBytes'], dtype='object')\n",
      "Best Accuracy:  1.0\n"
     ]
    }
   ],
   "source": [
    "print('Best Features Subset: ', best_features_spam)\n",
    "print('Columns : \\n', selected_columns)\n",
    "print('Best Accuracy: ', best_accuracy_spam)"
   ]
  },
  {
   "cell_type": "markdown",
   "metadata": {},
   "source": [
    "## 20 Particles"
   ]
  },
  {
   "cell_type": "markdown",
   "metadata": {},
   "source": [
    "### isBotnet"
   ]
  },
  {
   "cell_type": "code",
   "execution_count": 48,
   "metadata": {},
   "outputs": [
    {
     "name": "stdout",
     "output_type": "stream",
     "text": [
      "Iteration 1/30, Best Fitness: 0.0\n",
      "Global Fitness reached 0.00000\n"
     ]
    }
   ],
   "source": [
    "best_features, best_accuracy = bpso_feature_selection(X_botnet, y_botnet, n_particles=20, max_iter=30)"
   ]
  },
  {
   "cell_type": "code",
   "execution_count": 49,
   "metadata": {},
   "outputs": [],
   "source": [
    "selected_columns = X_botnet.columns[best_features == 1]"
   ]
  },
  {
   "cell_type": "code",
   "execution_count": 50,
   "metadata": {},
   "outputs": [
    {
     "name": "stdout",
     "output_type": "stream",
     "text": [
      "Best Features Subset:  [1 0 1 0 0 0 0 1 1 0 1 0 1 1 0 1]\n",
      "Columns : \n",
      " Index(['Dur', 'SrcAddr', 'State', 'sTos', 'TotPkts', 'SrcBytes',\n",
      "       'StartTimeHour', 'StartTimeSecond'],\n",
      "      dtype='object')\n",
      "Best Accuracy:  1.0\n"
     ]
    }
   ],
   "source": [
    "print('Best Features Subset: ', best_features)\n",
    "print('Columns : \\n', selected_columns)\n",
    "print('Best Accuracy: ', best_accuracy)"
   ]
  },
  {
   "cell_type": "markdown",
   "metadata": {},
   "source": [
    "### isSpam"
   ]
  },
  {
   "cell_type": "code",
   "execution_count": 51,
   "metadata": {},
   "outputs": [
    {
     "name": "stdout",
     "output_type": "stream",
     "text": [
      "Iteration 1/30, Best Fitness: 0.0\n",
      "Global Fitness reached 0.00000\n"
     ]
    }
   ],
   "source": [
    "best_features_spam, best_accuracy_spam = bpso_feature_selection(X_spam, y_spam, n_particles=20, max_iter=30)"
   ]
  },
  {
   "cell_type": "code",
   "execution_count": 52,
   "metadata": {},
   "outputs": [],
   "source": [
    "selected_columns = X_spam.columns[best_features_spam == 1]"
   ]
  },
  {
   "cell_type": "code",
   "execution_count": 53,
   "metadata": {},
   "outputs": [
    {
     "name": "stdout",
     "output_type": "stream",
     "text": [
      "Best Features Subset:  [0 1 0 0 0 0 1 0 1 0 0 1 0 0 0 1]\n",
      "Columns : \n",
      " Index(['Proto', 'Dport', 'sTos', 'TotBytes', 'StartTimeSecond'], dtype='object')\n",
      "Best Accuracy:  1.0\n"
     ]
    }
   ],
   "source": [
    "print('Best Features Subset: ', best_features_spam)\n",
    "print('Columns : \\n', selected_columns)\n",
    "print('Best Accuracy: ', best_accuracy_spam)"
   ]
  },
  {
   "cell_type": "markdown",
   "metadata": {},
   "source": [
    "# Sensor 3"
   ]
  },
  {
   "cell_type": "code",
   "execution_count": 54,
   "metadata": {},
   "outputs": [],
   "source": [
    "X_botnet = train3_isbotnet.drop(columns=['isBotnet'])\n",
    "y_botnet = train3_isbotnet['isBotnet']"
   ]
  },
  {
   "cell_type": "code",
   "execution_count": 55,
   "metadata": {},
   "outputs": [],
   "source": [
    "X_spam = train3_isspam.drop(columns=['isSpam'])\n",
    "y_spam = train3_isspam['isSpam']"
   ]
  },
  {
   "cell_type": "markdown",
   "metadata": {},
   "source": [
    "## 10 particles"
   ]
  },
  {
   "cell_type": "markdown",
   "metadata": {},
   "source": [
    "### isBotnet"
   ]
  },
  {
   "cell_type": "code",
   "execution_count": 56,
   "metadata": {},
   "outputs": [
    {
     "name": "stdout",
     "output_type": "stream",
     "text": [
      "Iteration 1/30, Best Fitness: 4.448583274530016e-06\n",
      "Iteration 2/30, Best Fitness: 0.0\n",
      "Global Fitness reached 0.00000\n"
     ]
    }
   ],
   "source": [
    "best_features, best_accuracy = bpso_feature_selection(X_botnet, y_botnet, n_particles=10, max_iter=30)"
   ]
  },
  {
   "cell_type": "code",
   "execution_count": 57,
   "metadata": {},
   "outputs": [],
   "source": [
    "selected_columns = X_botnet.columns[best_features == 1]"
   ]
  },
  {
   "cell_type": "code",
   "execution_count": 58,
   "metadata": {},
   "outputs": [
    {
     "name": "stdout",
     "output_type": "stream",
     "text": [
      "Best Features Subset:  [0 0 1 0 1 0 1 0 0 1 1 0 1 0 0 1]\n",
      "Columns : \n",
      " Index(['SrcAddr', 'Dir', 'Dport', 'dTos', 'TotPkts', 'SrcBytes',\n",
      "       'StartTimeSecond'],\n",
      "      dtype='object')\n",
      "Best Accuracy:  1.0\n"
     ]
    }
   ],
   "source": [
    "print('Best Features Subset: ', best_features)\n",
    "print('Columns : \\n', selected_columns)\n",
    "print('Best Accuracy: ', best_accuracy)"
   ]
  },
  {
   "cell_type": "markdown",
   "metadata": {},
   "source": [
    "#### isSpam"
   ]
  },
  {
   "cell_type": "code",
   "execution_count": 59,
   "metadata": {},
   "outputs": [
    {
     "name": "stdout",
     "output_type": "stream",
     "text": [
      "Iteration 1/30, Best Fitness: 0.0\n",
      "Global Fitness reached 0.00000\n"
     ]
    }
   ],
   "source": [
    "best_features_spam, best_accuracy_spam = bpso_feature_selection(X_spam, y_spam, n_particles=10, max_iter=30)"
   ]
  },
  {
   "cell_type": "code",
   "execution_count": 60,
   "metadata": {},
   "outputs": [],
   "source": [
    "selected_columns = X_spam.columns[best_features_spam == 1]"
   ]
  },
  {
   "cell_type": "code",
   "execution_count": 61,
   "metadata": {},
   "outputs": [
    {
     "name": "stdout",
     "output_type": "stream",
     "text": [
      "Best Features Subset:  [0 1 0 1 0 1 1 1 0 0 0 0 0 0 1 1]\n",
      "Columns : \n",
      " Index(['Proto', 'Sport', 'DstAddr', 'Dport', 'State', 'StartTimeMinute',\n",
      "       'StartTimeSecond'],\n",
      "      dtype='object')\n",
      "Best Accuracy:  1.0\n"
     ]
    }
   ],
   "source": [
    "print('Best Features Subset: ', best_features_spam)\n",
    "print('Columns : \\n', selected_columns)\n",
    "print('Best Accuracy: ', best_accuracy_spam)"
   ]
  },
  {
   "cell_type": "markdown",
   "metadata": {},
   "source": [
    "## 15 Particles"
   ]
  },
  {
   "cell_type": "markdown",
   "metadata": {},
   "source": [
    "### isBotnet"
   ]
  },
  {
   "cell_type": "code",
   "execution_count": 62,
   "metadata": {},
   "outputs": [
    {
     "name": "stdout",
     "output_type": "stream",
     "text": [
      "Iteration 1/30, Best Fitness: 0.0\n",
      "Global Fitness reached 0.00000\n"
     ]
    }
   ],
   "source": [
    "best_features, best_accuracy = bpso_feature_selection(X_botnet, y_botnet, n_particles=15, max_iter=30)"
   ]
  },
  {
   "cell_type": "code",
   "execution_count": 63,
   "metadata": {},
   "outputs": [],
   "source": [
    "selected_columns = X_botnet.columns[best_features == 1]"
   ]
  },
  {
   "cell_type": "code",
   "execution_count": 64,
   "metadata": {},
   "outputs": [
    {
     "name": "stdout",
     "output_type": "stream",
     "text": [
      "Best Features Subset:  [1 1 1 0 0 1 1 0 1 0 0 1 0 0 1 0]\n",
      "Columns : \n",
      " Index(['Dur', 'Proto', 'SrcAddr', 'DstAddr', 'Dport', 'sTos', 'TotBytes',\n",
      "       'StartTimeMinute'],\n",
      "      dtype='object')\n",
      "Best Accuracy:  1.0\n"
     ]
    }
   ],
   "source": [
    "print('Best Features Subset: ', best_features)\n",
    "print('Columns : \\n', selected_columns)\n",
    "print('Best Accuracy: ', best_accuracy)"
   ]
  },
  {
   "cell_type": "markdown",
   "metadata": {},
   "source": [
    "### isSpam"
   ]
  },
  {
   "cell_type": "code",
   "execution_count": 65,
   "metadata": {},
   "outputs": [
    {
     "name": "stdout",
     "output_type": "stream",
     "text": [
      "Iteration 1/30, Best Fitness: 0.0\n",
      "Global Fitness reached 0.00000\n"
     ]
    }
   ],
   "source": [
    "best_features_spam, best_accuracy_spam = bpso_feature_selection(X_spam, y_spam, n_particles=15, max_iter=30)"
   ]
  },
  {
   "cell_type": "code",
   "execution_count": 66,
   "metadata": {},
   "outputs": [],
   "source": [
    "selected_columns = X_spam.columns[best_features_spam == 1]"
   ]
  },
  {
   "cell_type": "code",
   "execution_count": 67,
   "metadata": {},
   "outputs": [
    {
     "name": "stdout",
     "output_type": "stream",
     "text": [
      "Best Features Subset:  [1 1 0 0 1 1 1 0 0 0 0 0 0 0 0 0]\n",
      "Columns : \n",
      " Index(['Dur', 'Proto', 'Dir', 'DstAddr', 'Dport'], dtype='object')\n",
      "Best Accuracy:  1.0\n"
     ]
    }
   ],
   "source": [
    "print('Best Features Subset: ', best_features_spam)\n",
    "print('Columns : \\n', selected_columns)\n",
    "print('Best Accuracy: ', best_accuracy_spam)"
   ]
  },
  {
   "cell_type": "markdown",
   "metadata": {},
   "source": [
    "## 20 Particles"
   ]
  },
  {
   "cell_type": "markdown",
   "metadata": {},
   "source": [
    "### isBotnet"
   ]
  },
  {
   "cell_type": "code",
   "execution_count": 68,
   "metadata": {},
   "outputs": [
    {
     "name": "stdout",
     "output_type": "stream",
     "text": [
      "Iteration 1/30, Best Fitness: 0.0\n",
      "Global Fitness reached 0.00000\n"
     ]
    }
   ],
   "source": [
    "best_features, best_accuracy = bpso_feature_selection(X_botnet, y_botnet, n_particles=20, max_iter=30)"
   ]
  },
  {
   "cell_type": "code",
   "execution_count": 69,
   "metadata": {},
   "outputs": [],
   "source": [
    "selected_columns = X_botnet.columns[best_features == 1]"
   ]
  },
  {
   "cell_type": "code",
   "execution_count": 70,
   "metadata": {},
   "outputs": [
    {
     "name": "stdout",
     "output_type": "stream",
     "text": [
      "Best Features Subset:  [1 1 1 0 1 1 0 0 1 1 1 1 0 0 0 1]\n",
      "Columns : \n",
      " Index(['Dur', 'Proto', 'SrcAddr', 'Dir', 'DstAddr', 'sTos', 'dTos', 'TotPkts',\n",
      "       'TotBytes', 'StartTimeSecond'],\n",
      "      dtype='object')\n",
      "Best Accuracy:  1.0\n"
     ]
    }
   ],
   "source": [
    "print('Best Features Subset: ', best_features)\n",
    "print('Columns : \\n', selected_columns)\n",
    "print('Best Accuracy: ', best_accuracy)"
   ]
  },
  {
   "cell_type": "markdown",
   "metadata": {},
   "source": [
    "### isSpam"
   ]
  },
  {
   "cell_type": "code",
   "execution_count": 71,
   "metadata": {},
   "outputs": [
    {
     "name": "stdout",
     "output_type": "stream",
     "text": [
      "Iteration 1/30, Best Fitness: 0.0\n",
      "Global Fitness reached 0.00000\n"
     ]
    }
   ],
   "source": [
    "best_features_spam, best_accuracy_spam = bpso_feature_selection(X_spam, y_spam, n_particles=20, max_iter=30)"
   ]
  },
  {
   "cell_type": "code",
   "execution_count": 72,
   "metadata": {},
   "outputs": [],
   "source": [
    "selected_columns = X_spam.columns[best_features_spam == 1]"
   ]
  },
  {
   "cell_type": "code",
   "execution_count": 73,
   "metadata": {},
   "outputs": [
    {
     "name": "stdout",
     "output_type": "stream",
     "text": [
      "Best Features Subset:  [0 1 1 1 0 1 1 0 1 1 1 1 0 1 0 1]\n",
      "Columns : \n",
      " Index(['Proto', 'SrcAddr', 'Sport', 'DstAddr', 'Dport', 'sTos', 'dTos',\n",
      "       'TotPkts', 'TotBytes', 'StartTimeHour', 'StartTimeSecond'],\n",
      "      dtype='object')\n",
      "Best Accuracy:  1.0\n"
     ]
    }
   ],
   "source": [
    "print('Best Features Subset: ', best_features_spam)\n",
    "print('Columns : \\n', selected_columns)\n",
    "print('Best Accuracy: ', best_accuracy_spam)"
   ]
  }
 ],
 "metadata": {
  "kernelspec": {
   "display_name": "Python 3",
   "language": "python",
   "name": "python3"
  },
  "language_info": {
   "codemirror_mode": {
    "name": "ipython",
    "version": 3
   },
   "file_extension": ".py",
   "mimetype": "text/x-python",
   "name": "python",
   "nbconvert_exporter": "python",
   "pygments_lexer": "ipython3",
   "version": "3.12.5"
  }
 },
 "nbformat": 4,
 "nbformat_minor": 2
}
