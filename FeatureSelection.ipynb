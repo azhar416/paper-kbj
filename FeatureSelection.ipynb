{
 "cells": [
  {
   "cell_type": "code",
   "execution_count": 1,
   "metadata": {},
   "outputs": [],
   "source": [
    "from sklearn.model_selection import train_test_split\n",
    "from sklearn.metrics import accuracy_score\n",
    "from sklearn.tree import DecisionTreeClassifier\n",
    "import pandas as pd \n",
    "import numpy as np \n",
    "from datetime import datetime"
   ]
  },
  {
   "cell_type": "code",
   "execution_count": null,
   "metadata": {},
   "outputs": [],
   "source": [
    "dataset = pd.read_csv('./Dataset/Dataset.csv')"
   ]
  },
  {
   "cell_type": "code",
   "execution_count": null,
   "metadata": {},
   "outputs": [],
   "source": [
    "dataset.shape"
   ]
  },
  {
   "cell_type": "code",
   "execution_count": null,
   "metadata": {},
   "outputs": [],
   "source": [
    "dataset.head()"
   ]
  },
  {
   "cell_type": "code",
   "execution_count": null,
   "metadata": {},
   "outputs": [],
   "source": [
    "X_botnet = dataset.drop(columns=['isBotnet', 'isSpam', 'Label', 'BotnetName'])\n",
    "y_botnet = dataset['isBotnet']\n",
    "X_spam = dataset.drop(columns=['isBotnet', 'isSpam', 'Label'])\n",
    "y_spam = dataset['isSpam']"
   ]
  },
  {
   "cell_type": "markdown",
   "metadata": {},
   "source": [
    "# BPSO"
   ]
  },
  {
   "cell_type": "code",
   "execution_count": null,
   "metadata": {},
   "outputs": [],
   "source": [
    "# BPSO\n",
    "\n",
    "# Sigmoid function to convert velocity into probabilities\n",
    "def sigmoid(v):\n",
    "    return 1 / (1 + np.exp(-v))\n",
    "\n",
    "# Function to update position (binary)\n",
    "def update_position(velocity):\n",
    "    probability = sigmoid(velocity)\n",
    "    new_position = np.random.rand(len(velocity)) < probability\n",
    "    return new_position.astype(int)  # Convert boolean to binary (0 or 1)\n",
    "\n",
    "# Fitness function (based on model accuracy)\n",
    "def fitness_function(selected_features, X, y):\n",
    "    # Ensure selected_features is a valid boolean mask\n",
    "    selected_features = selected_features.astype(bool)\n",
    "    \n",
    "    if np.sum(selected_features) == 0:  # Avoid selecting no features\n",
    "        return 1.0  # Poor fitness if no features are selected\n",
    "    \n",
    "    # Select features based on the boolean mask\n",
    "    # If X is a DataFrame, you can use X.loc[:, selected_features]\n",
    "    # If X is a NumPy array, simply use X[:, selected_features]\n",
    "    if isinstance(X, np.ndarray):\n",
    "        selected_X = X[:, selected_features]\n",
    "    elif isinstance(X, pd.DataFrame):\n",
    "        selected_X = X.loc[:, selected_features]\n",
    "\n",
    "    # Split data\n",
    "    X_train, X_test, y_train, y_test = train_test_split(selected_X, y, test_size=0.25, random_state=42)\n",
    "\n",
    "    # Train a decision tree classifier\n",
    "    model = DecisionTreeClassifier()\n",
    "    model.fit(X_train, y_train)\n",
    "\n",
    "    # Predict and calculate accuracy\n",
    "    y_pred = model.predict(X_test)\n",
    "    accuracy = accuracy_score(y_test, y_pred)\n",
    "\n",
    "    return 1 - accuracy  # Return 1 - accuracy to minimize the fitness\n",
    "\n",
    "# BPSO Algorithm for Feature Selection\n",
    "def bpso_feature_selection(X, y, n_particles=50, max_iter=100, w=0.5, c1=1.5, c2=1.5):\n",
    "    n_features = X.shape[1]\n",
    "    \n",
    "    # Initialize particle positions (binary) and velocities\n",
    "    positions = np.random.randint(2, size=(n_particles, n_features))\n",
    "    velocities = np.random.uniform(-1, 1, (n_particles, n_features))\n",
    "    \n",
    "    # Initialize personal best positions and global best position\n",
    "    pbest_positions = positions.copy()\n",
    "    pbest_fitness = np.array([fitness_function(positions[i], X, y) for i in range(n_particles)])\n",
    "    \n",
    "    gbest_position = pbest_positions[np.argmin(pbest_fitness)]\n",
    "    gbest_fitness = np.min(pbest_fitness)\n",
    "    \n",
    "    # BPSO main loop\n",
    "    for iteration in range(max_iter):\n",
    "        for i in range(n_particles):\n",
    "            # Update velocity\n",
    "            r1, r2 = np.random.rand(n_features), np.random.rand(n_features)\n",
    "            velocities[i] = (w * velocities[i] +\n",
    "                             c1 * r1 * (pbest_positions[i] - positions[i]) +\n",
    "                             c2 * r2 * (gbest_position - positions[i]))\n",
    "            \n",
    "            # Update position (convert velocity to binary)\n",
    "            positions[i] = update_position(velocities[i])\n",
    "            \n",
    "            # Calculate new fitness\n",
    "            fitness = fitness_function(positions[i], X, y)\n",
    "            \n",
    "            # Update personal best if the current position is better\n",
    "            if fitness < pbest_fitness[i]:\n",
    "                pbest_positions[i] = positions[i]\n",
    "                pbest_fitness[i] = fitness\n",
    "        \n",
    "        # Update global best if a better solution is found\n",
    "        best_particle_idx = np.argmin(pbest_fitness)\n",
    "        if pbest_fitness[best_particle_idx] < gbest_fitness:\n",
    "            gbest_position = pbest_positions[best_particle_idx]\n",
    "            gbest_fitness = pbest_fitness[best_particle_idx]\n",
    "        \n",
    "        print(f\"Iteration {iteration+1}/{max_iter}, Best Fitness: {gbest_fitness}\")\n",
    "    \n",
    "    return gbest_position, 1 - gbest_fitness  # Return best feature subset and corresponding accuracy"
   ]
  },
  {
   "cell_type": "code",
   "execution_count": null,
   "metadata": {},
   "outputs": [],
   "source": [
    "# DT-1\n",
    "best_features, best_accuracy = bpso_feature_selection(X_botnet, y_botnet)"
   ]
  }
 ],
 "metadata": {
  "kernelspec": {
   "display_name": "venv_1",
   "language": "python",
   "name": "python3"
  },
  "language_info": {
   "codemirror_mode": {
    "name": "ipython",
    "version": 3
   },
   "file_extension": ".py",
   "mimetype": "text/x-python",
   "name": "python",
   "nbconvert_exporter": "python",
   "pygments_lexer": "ipython3",
   "version": "3.12.3"
  }
 },
 "nbformat": 4,
 "nbformat_minor": 2
}
