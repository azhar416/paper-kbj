{
 "cells": [
  {
   "cell_type": "code",
   "execution_count": 1,
   "metadata": {},
   "outputs": [],
   "source": [
    "from sklearn.model_selection import train_test_split\n",
    "from sklearn.metrics import accuracy_score\n",
    "from sklearn.tree import DecisionTreeClassifier\n",
    "import pandas as pd \n",
    "import numpy as np \n",
    "from datetime import datetime"
   ]
  },
  {
   "cell_type": "code",
   "execution_count": 2,
   "metadata": {},
   "outputs": [],
   "source": [
    "train = pd.read_csv('./Dataset/train_dataset.csv')"
   ]
  },
  {
   "cell_type": "code",
   "execution_count": 3,
   "metadata": {},
   "outputs": [
    {
     "data": {
      "text/plain": [
       "(10194065, 20)"
      ]
     },
     "execution_count": 3,
     "metadata": {},
     "output_type": "execute_result"
    }
   ],
   "source": [
    "train.shape"
   ]
  },
  {
   "cell_type": "code",
   "execution_count": 4,
   "metadata": {},
   "outputs": [
    {
     "data": {
      "text/html": [
       "<div>\n",
       "<style scoped>\n",
       "    .dataframe tbody tr th:only-of-type {\n",
       "        vertical-align: middle;\n",
       "    }\n",
       "\n",
       "    .dataframe tbody tr th {\n",
       "        vertical-align: top;\n",
       "    }\n",
       "\n",
       "    .dataframe thead th {\n",
       "        text-align: right;\n",
       "    }\n",
       "</style>\n",
       "<table border=\"1\" class=\"dataframe\">\n",
       "  <thead>\n",
       "    <tr style=\"text-align: right;\">\n",
       "      <th></th>\n",
       "      <th>SrcAddr</th>\n",
       "      <th>DstAddr</th>\n",
       "      <th>Sport</th>\n",
       "      <th>Dport</th>\n",
       "      <th>sTos</th>\n",
       "      <th>dTos</th>\n",
       "      <th>Dir</th>\n",
       "      <th>State</th>\n",
       "      <th>Proto</th>\n",
       "      <th>Dur</th>\n",
       "      <th>TotPkts</th>\n",
       "      <th>TotBytes</th>\n",
       "      <th>SrcBytes</th>\n",
       "      <th>BotnetName</th>\n",
       "      <th>Label</th>\n",
       "      <th>StartTimeHour</th>\n",
       "      <th>StartTimeMinute</th>\n",
       "      <th>StartTimeSecond</th>\n",
       "      <th>isBotnet</th>\n",
       "      <th>isSpam</th>\n",
       "    </tr>\n",
       "  </thead>\n",
       "  <tbody>\n",
       "    <tr>\n",
       "      <th>0</th>\n",
       "      <td>275030</td>\n",
       "      <td>40504</td>\n",
       "      <td>303</td>\n",
       "      <td>2053634</td>\n",
       "      <td>0</td>\n",
       "      <td>0</td>\n",
       "      <td>0</td>\n",
       "      <td>117</td>\n",
       "      <td>3</td>\n",
       "      <td>0.207871</td>\n",
       "      <td>69</td>\n",
       "      <td>61300</td>\n",
       "      <td>1633</td>\n",
       "      <td>0</td>\n",
       "      <td>0</td>\n",
       "      <td>10</td>\n",
       "      <td>45</td>\n",
       "      <td>4</td>\n",
       "      <td>0</td>\n",
       "      <td>0</td>\n",
       "    </tr>\n",
       "    <tr>\n",
       "      <th>1</th>\n",
       "      <td>1</td>\n",
       "      <td>3393363</td>\n",
       "      <td>359</td>\n",
       "      <td>3252629</td>\n",
       "      <td>0</td>\n",
       "      <td>0</td>\n",
       "      <td>3</td>\n",
       "      <td>16</td>\n",
       "      <td>4</td>\n",
       "      <td>1003.163818</td>\n",
       "      <td>4</td>\n",
       "      <td>1977</td>\n",
       "      <td>155</td>\n",
       "      <td>0</td>\n",
       "      <td>0</td>\n",
       "      <td>10</td>\n",
       "      <td>10</td>\n",
       "      <td>17</td>\n",
       "      <td>0</td>\n",
       "      <td>0</td>\n",
       "    </tr>\n",
       "    <tr>\n",
       "      <th>2</th>\n",
       "      <td>529567</td>\n",
       "      <td>7</td>\n",
       "      <td>527290</td>\n",
       "      <td>44</td>\n",
       "      <td>0</td>\n",
       "      <td>0</td>\n",
       "      <td>3</td>\n",
       "      <td>16</td>\n",
       "      <td>4</td>\n",
       "      <td>0.025474</td>\n",
       "      <td>2</td>\n",
       "      <td>137</td>\n",
       "      <td>76</td>\n",
       "      <td>0</td>\n",
       "      <td>0</td>\n",
       "      <td>9</td>\n",
       "      <td>37</td>\n",
       "      <td>20</td>\n",
       "      <td>0</td>\n",
       "      <td>0</td>\n",
       "    </tr>\n",
       "    <tr>\n",
       "      <th>3</th>\n",
       "      <td>359</td>\n",
       "      <td>4556</td>\n",
       "      <td>224</td>\n",
       "      <td>7230</td>\n",
       "      <td>0</td>\n",
       "      <td>0</td>\n",
       "      <td>0</td>\n",
       "      <td>117</td>\n",
       "      <td>3</td>\n",
       "      <td>0.550671</td>\n",
       "      <td>13</td>\n",
       "      <td>2576</td>\n",
       "      <td>947</td>\n",
       "      <td>0</td>\n",
       "      <td>0</td>\n",
       "      <td>10</td>\n",
       "      <td>59</td>\n",
       "      <td>38</td>\n",
       "      <td>0</td>\n",
       "      <td>0</td>\n",
       "    </tr>\n",
       "    <tr>\n",
       "      <th>4</th>\n",
       "      <td>1</td>\n",
       "      <td>3393363</td>\n",
       "      <td>58</td>\n",
       "      <td>3252629</td>\n",
       "      <td>0</td>\n",
       "      <td>0</td>\n",
       "      <td>3</td>\n",
       "      <td>16</td>\n",
       "      <td>4</td>\n",
       "      <td>0.237174</td>\n",
       "      <td>2</td>\n",
       "      <td>235</td>\n",
       "      <td>160</td>\n",
       "      <td>0</td>\n",
       "      <td>0</td>\n",
       "      <td>9</td>\n",
       "      <td>37</td>\n",
       "      <td>29</td>\n",
       "      <td>0</td>\n",
       "      <td>0</td>\n",
       "    </tr>\n",
       "  </tbody>\n",
       "</table>\n",
       "</div>"
      ],
      "text/plain": [
       "   SrcAddr  DstAddr   Sport    Dport  sTos  dTos  Dir  State  Proto  \\\n",
       "0   275030    40504     303  2053634     0     0    0    117      3   \n",
       "1        1  3393363     359  3252629     0     0    3     16      4   \n",
       "2   529567        7  527290       44     0     0    3     16      4   \n",
       "3      359     4556     224     7230     0     0    0    117      3   \n",
       "4        1  3393363      58  3252629     0     0    3     16      4   \n",
       "\n",
       "           Dur  TotPkts  TotBytes  SrcBytes  BotnetName  Label  StartTimeHour  \\\n",
       "0     0.207871       69     61300      1633           0      0             10   \n",
       "1  1003.163818        4      1977       155           0      0             10   \n",
       "2     0.025474        2       137        76           0      0              9   \n",
       "3     0.550671       13      2576       947           0      0             10   \n",
       "4     0.237174        2       235       160           0      0              9   \n",
       "\n",
       "   StartTimeMinute  StartTimeSecond  isBotnet  isSpam  \n",
       "0               45                4         0       0  \n",
       "1               10               17         0       0  \n",
       "2               37               20         0       0  \n",
       "3               59               38         0       0  \n",
       "4               37               29         0       0  "
      ]
     },
     "execution_count": 4,
     "metadata": {},
     "output_type": "execute_result"
    }
   ],
   "source": [
    "train.head()"
   ]
  },
  {
   "cell_type": "code",
   "execution_count": 5,
   "metadata": {},
   "outputs": [],
   "source": [
    "X_botnet = train.drop(columns=['isBotnet', 'isSpam', 'Label', 'BotnetName'])\n",
    "y_botnet = train['isBotnet']"
   ]
  },
  {
   "cell_type": "code",
   "execution_count": 6,
   "metadata": {},
   "outputs": [
    {
     "data": {
      "text/plain": [
       "(10194065, 16)"
      ]
     },
     "execution_count": 6,
     "metadata": {},
     "output_type": "execute_result"
    }
   ],
   "source": [
    "X_botnet.shape"
   ]
  },
  {
   "cell_type": "code",
   "execution_count": 11,
   "metadata": {},
   "outputs": [
    {
     "data": {
      "text/html": [
       "<div>\n",
       "<style scoped>\n",
       "    .dataframe tbody tr th:only-of-type {\n",
       "        vertical-align: middle;\n",
       "    }\n",
       "\n",
       "    .dataframe tbody tr th {\n",
       "        vertical-align: top;\n",
       "    }\n",
       "\n",
       "    .dataframe thead th {\n",
       "        text-align: right;\n",
       "    }\n",
       "</style>\n",
       "<table border=\"1\" class=\"dataframe\">\n",
       "  <thead>\n",
       "    <tr style=\"text-align: right;\">\n",
       "      <th></th>\n",
       "      <th>SrcAddr</th>\n",
       "      <th>DstAddr</th>\n",
       "      <th>Sport</th>\n",
       "      <th>Dport</th>\n",
       "      <th>sTos</th>\n",
       "      <th>dTos</th>\n",
       "      <th>Dir</th>\n",
       "      <th>State</th>\n",
       "      <th>Proto</th>\n",
       "      <th>Dur</th>\n",
       "      <th>TotPkts</th>\n",
       "      <th>TotBytes</th>\n",
       "      <th>SrcBytes</th>\n",
       "      <th>StartTimeHour</th>\n",
       "      <th>StartTimeMinute</th>\n",
       "      <th>StartTimeSecond</th>\n",
       "    </tr>\n",
       "  </thead>\n",
       "  <tbody>\n",
       "    <tr>\n",
       "      <th>0</th>\n",
       "      <td>275030</td>\n",
       "      <td>40504</td>\n",
       "      <td>303</td>\n",
       "      <td>2053634</td>\n",
       "      <td>0</td>\n",
       "      <td>0</td>\n",
       "      <td>0</td>\n",
       "      <td>117</td>\n",
       "      <td>3</td>\n",
       "      <td>0.207871</td>\n",
       "      <td>69</td>\n",
       "      <td>61300</td>\n",
       "      <td>1633</td>\n",
       "      <td>10</td>\n",
       "      <td>45</td>\n",
       "      <td>4</td>\n",
       "    </tr>\n",
       "    <tr>\n",
       "      <th>1</th>\n",
       "      <td>1</td>\n",
       "      <td>3393363</td>\n",
       "      <td>359</td>\n",
       "      <td>3252629</td>\n",
       "      <td>0</td>\n",
       "      <td>0</td>\n",
       "      <td>3</td>\n",
       "      <td>16</td>\n",
       "      <td>4</td>\n",
       "      <td>1003.163818</td>\n",
       "      <td>4</td>\n",
       "      <td>1977</td>\n",
       "      <td>155</td>\n",
       "      <td>10</td>\n",
       "      <td>10</td>\n",
       "      <td>17</td>\n",
       "    </tr>\n",
       "    <tr>\n",
       "      <th>2</th>\n",
       "      <td>529567</td>\n",
       "      <td>7</td>\n",
       "      <td>527290</td>\n",
       "      <td>44</td>\n",
       "      <td>0</td>\n",
       "      <td>0</td>\n",
       "      <td>3</td>\n",
       "      <td>16</td>\n",
       "      <td>4</td>\n",
       "      <td>0.025474</td>\n",
       "      <td>2</td>\n",
       "      <td>137</td>\n",
       "      <td>76</td>\n",
       "      <td>9</td>\n",
       "      <td>37</td>\n",
       "      <td>20</td>\n",
       "    </tr>\n",
       "    <tr>\n",
       "      <th>3</th>\n",
       "      <td>359</td>\n",
       "      <td>4556</td>\n",
       "      <td>224</td>\n",
       "      <td>7230</td>\n",
       "      <td>0</td>\n",
       "      <td>0</td>\n",
       "      <td>0</td>\n",
       "      <td>117</td>\n",
       "      <td>3</td>\n",
       "      <td>0.550671</td>\n",
       "      <td>13</td>\n",
       "      <td>2576</td>\n",
       "      <td>947</td>\n",
       "      <td>10</td>\n",
       "      <td>59</td>\n",
       "      <td>38</td>\n",
       "    </tr>\n",
       "    <tr>\n",
       "      <th>4</th>\n",
       "      <td>1</td>\n",
       "      <td>3393363</td>\n",
       "      <td>58</td>\n",
       "      <td>3252629</td>\n",
       "      <td>0</td>\n",
       "      <td>0</td>\n",
       "      <td>3</td>\n",
       "      <td>16</td>\n",
       "      <td>4</td>\n",
       "      <td>0.237174</td>\n",
       "      <td>2</td>\n",
       "      <td>235</td>\n",
       "      <td>160</td>\n",
       "      <td>9</td>\n",
       "      <td>37</td>\n",
       "      <td>29</td>\n",
       "    </tr>\n",
       "  </tbody>\n",
       "</table>\n",
       "</div>"
      ],
      "text/plain": [
       "   SrcAddr  DstAddr   Sport    Dport  sTos  dTos  Dir  State  Proto  \\\n",
       "0   275030    40504     303  2053634     0     0    0    117      3   \n",
       "1        1  3393363     359  3252629     0     0    3     16      4   \n",
       "2   529567        7  527290       44     0     0    3     16      4   \n",
       "3      359     4556     224     7230     0     0    0    117      3   \n",
       "4        1  3393363      58  3252629     0     0    3     16      4   \n",
       "\n",
       "           Dur  TotPkts  TotBytes  SrcBytes  StartTimeHour  StartTimeMinute  \\\n",
       "0     0.207871       69     61300      1633             10               45   \n",
       "1  1003.163818        4      1977       155             10               10   \n",
       "2     0.025474        2       137        76              9               37   \n",
       "3     0.550671       13      2576       947             10               59   \n",
       "4     0.237174        2       235       160              9               37   \n",
       "\n",
       "   StartTimeSecond  \n",
       "0                4  \n",
       "1               17  \n",
       "2               20  \n",
       "3               38  \n",
       "4               29  "
      ]
     },
     "execution_count": 11,
     "metadata": {},
     "output_type": "execute_result"
    }
   ],
   "source": [
    "X_botnet.head()"
   ]
  },
  {
   "cell_type": "code",
   "execution_count": null,
   "metadata": {},
   "outputs": [],
   "source": [
    "# selected_features_botnet = [1, 1, 0, 0, 1, 1, 1, 0, 1, 0, 0, 0, 0, 1, 0, 1] # 3 20\n",
    "# selected_features_botnet = [1, 0, 0, 0, 0, 0, 1, 1, 1, 0, 0, 0, 0, 0, 0, 0] # 4 10\n",
    "# selected_features_botnet = [1, 0, 0, 1, 1, 0, 1, 1, 1, 0, 0, 0, 0, 1, 1, 0] # 5 15\n",
    "# SrcAddr, Dir, Proto"
   ]
  },
  {
   "cell_type": "markdown",
   "metadata": {},
   "source": [
    "2 6 8 16"
   ]
  },
  {
   "cell_type": "code",
   "execution_count": 7,
   "metadata": {},
   "outputs": [
    {
     "data": {
      "text/plain": [
       "(10194065,)"
      ]
     },
     "execution_count": 7,
     "metadata": {},
     "output_type": "execute_result"
    }
   ],
   "source": [
    "y_botnet.shape"
   ]
  },
  {
   "cell_type": "code",
   "execution_count": 8,
   "metadata": {},
   "outputs": [],
   "source": [
    "spam_dataset = train[train['isBotnet'] == 1]\n",
    "X_spam = spam_dataset.drop(columns=['isBotnet', 'isSpam', 'Label'])\n",
    "y_spam = spam_dataset['isSpam']"
   ]
  },
  {
   "cell_type": "code",
   "execution_count": 9,
   "metadata": {},
   "outputs": [
    {
     "data": {
      "text/plain": [
       "(600289, 17)"
      ]
     },
     "execution_count": 9,
     "metadata": {},
     "output_type": "execute_result"
    }
   ],
   "source": [
    "X_spam.shape"
   ]
  },
  {
   "cell_type": "code",
   "execution_count": 13,
   "metadata": {},
   "outputs": [
    {
     "data": {
      "text/html": [
       "<div>\n",
       "<style scoped>\n",
       "    .dataframe tbody tr th:only-of-type {\n",
       "        vertical-align: middle;\n",
       "    }\n",
       "\n",
       "    .dataframe tbody tr th {\n",
       "        vertical-align: top;\n",
       "    }\n",
       "\n",
       "    .dataframe thead th {\n",
       "        text-align: right;\n",
       "    }\n",
       "</style>\n",
       "<table border=\"1\" class=\"dataframe\">\n",
       "  <thead>\n",
       "    <tr style=\"text-align: right;\">\n",
       "      <th></th>\n",
       "      <th>SrcAddr</th>\n",
       "      <th>DstAddr</th>\n",
       "      <th>Sport</th>\n",
       "      <th>Dport</th>\n",
       "      <th>sTos</th>\n",
       "      <th>dTos</th>\n",
       "      <th>Dir</th>\n",
       "      <th>State</th>\n",
       "      <th>Proto</th>\n",
       "      <th>Dur</th>\n",
       "      <th>TotPkts</th>\n",
       "      <th>TotBytes</th>\n",
       "      <th>SrcBytes</th>\n",
       "      <th>BotnetName</th>\n",
       "      <th>StartTimeHour</th>\n",
       "      <th>StartTimeMinute</th>\n",
       "      <th>StartTimeSecond</th>\n",
       "    </tr>\n",
       "  </thead>\n",
       "  <tbody>\n",
       "    <tr>\n",
       "      <th>7</th>\n",
       "      <td>55676</td>\n",
       "      <td>100</td>\n",
       "      <td>800</td>\n",
       "      <td>2053634</td>\n",
       "      <td>0</td>\n",
       "      <td>0</td>\n",
       "      <td>0</td>\n",
       "      <td>313</td>\n",
       "      <td>3</td>\n",
       "      <td>0.287393</td>\n",
       "      <td>11</td>\n",
       "      <td>1606</td>\n",
       "      <td>987</td>\n",
       "      <td>3</td>\n",
       "      <td>16</td>\n",
       "      <td>24</td>\n",
       "      <td>13</td>\n",
       "    </tr>\n",
       "    <tr>\n",
       "      <th>9</th>\n",
       "      <td>55676</td>\n",
       "      <td>41747</td>\n",
       "      <td>2</td>\n",
       "      <td>2053634</td>\n",
       "      <td>0</td>\n",
       "      <td>0</td>\n",
       "      <td>0</td>\n",
       "      <td>201</td>\n",
       "      <td>0</td>\n",
       "      <td>0.000000</td>\n",
       "      <td>1</td>\n",
       "      <td>1066</td>\n",
       "      <td>1066</td>\n",
       "      <td>5</td>\n",
       "      <td>14</td>\n",
       "      <td>18</td>\n",
       "      <td>46</td>\n",
       "    </tr>\n",
       "    <tr>\n",
       "      <th>16</th>\n",
       "      <td>55742</td>\n",
       "      <td>12749</td>\n",
       "      <td>1728</td>\n",
       "      <td>2053634</td>\n",
       "      <td>0</td>\n",
       "      <td>0</td>\n",
       "      <td>0</td>\n",
       "      <td>321</td>\n",
       "      <td>3</td>\n",
       "      <td>11.429351</td>\n",
       "      <td>9</td>\n",
       "      <td>2920</td>\n",
       "      <td>786</td>\n",
       "      <td>3</td>\n",
       "      <td>14</td>\n",
       "      <td>53</td>\n",
       "      <td>11</td>\n",
       "    </tr>\n",
       "    <tr>\n",
       "      <th>29</th>\n",
       "      <td>272948</td>\n",
       "      <td>8307</td>\n",
       "      <td>442</td>\n",
       "      <td>2053634</td>\n",
       "      <td>0</td>\n",
       "      <td>0</td>\n",
       "      <td>0</td>\n",
       "      <td>321</td>\n",
       "      <td>3</td>\n",
       "      <td>3.262919</td>\n",
       "      <td>11</td>\n",
       "      <td>2047</td>\n",
       "      <td>1353</td>\n",
       "      <td>3</td>\n",
       "      <td>15</td>\n",
       "      <td>36</td>\n",
       "      <td>4</td>\n",
       "    </tr>\n",
       "    <tr>\n",
       "      <th>39</th>\n",
       "      <td>61731</td>\n",
       "      <td>16234</td>\n",
       "      <td>16165</td>\n",
       "      <td>2053634</td>\n",
       "      <td>0</td>\n",
       "      <td>0</td>\n",
       "      <td>0</td>\n",
       "      <td>321</td>\n",
       "      <td>3</td>\n",
       "      <td>60.005222</td>\n",
       "      <td>8</td>\n",
       "      <td>1687</td>\n",
       "      <td>500</td>\n",
       "      <td>5</td>\n",
       "      <td>16</td>\n",
       "      <td>31</td>\n",
       "      <td>19</td>\n",
       "    </tr>\n",
       "  </tbody>\n",
       "</table>\n",
       "</div>"
      ],
      "text/plain": [
       "    SrcAddr  DstAddr  Sport    Dport  sTos  dTos  Dir  State  Proto  \\\n",
       "7     55676      100    800  2053634     0     0    0    313      3   \n",
       "9     55676    41747      2  2053634     0     0    0    201      0   \n",
       "16    55742    12749   1728  2053634     0     0    0    321      3   \n",
       "29   272948     8307    442  2053634     0     0    0    321      3   \n",
       "39    61731    16234  16165  2053634     0     0    0    321      3   \n",
       "\n",
       "          Dur  TotPkts  TotBytes  SrcBytes  BotnetName  StartTimeHour  \\\n",
       "7    0.287393       11      1606       987           3             16   \n",
       "9    0.000000        1      1066      1066           5             14   \n",
       "16  11.429351        9      2920       786           3             14   \n",
       "29   3.262919       11      2047      1353           3             15   \n",
       "39  60.005222        8      1687       500           5             16   \n",
       "\n",
       "    StartTimeMinute  StartTimeSecond  \n",
       "7                24               13  \n",
       "9                18               46  \n",
       "16               53               11  \n",
       "29               36                4  \n",
       "39               31               19  "
      ]
     },
     "execution_count": 13,
     "metadata": {},
     "output_type": "execute_result"
    }
   ],
   "source": [
    "X_spam.head()"
   ]
  },
  {
   "cell_type": "code",
   "execution_count": null,
   "metadata": {},
   "outputs": [],
   "source": [
    "# selected_features_spam = [1, 0, 0, 1, 0, 1, 1, 0, 1, 0, 1, 0, 0, 1, 1, 0, 0] # 3 20\n",
    "# selected_features_spam = [0, 0, 1, 1, 0, 0, 0, 1, 1, 1, 0, 0, 1, 1, 1, 0, 1] # 4 10\n",
    "# selected_features_spam = [1, 0, 0, 1, 0, 1, 1, 1, 0, 1, 1, 0, 0, 0, 0, 0, 1] # 5 15\n",
    "# Dport"
   ]
  },
  {
   "cell_type": "code",
   "execution_count": 10,
   "metadata": {},
   "outputs": [
    {
     "data": {
      "text/plain": [
       "(600289,)"
      ]
     },
     "execution_count": 10,
     "metadata": {},
     "output_type": "execute_result"
    }
   ],
   "source": [
    "y_spam.shape"
   ]
  },
  {
   "cell_type": "markdown",
   "metadata": {},
   "source": [
    "# BPSO"
   ]
  },
  {
   "cell_type": "code",
   "execution_count": 14,
   "metadata": {},
   "outputs": [],
   "source": [
    "# BPSO\n",
    "\n",
    "# Sigmoid function to convert velocity into probabilities\n",
    "def sigmoid(v):\n",
    "    return 1 / (1 + np.exp(-v))\n",
    "\n",
    "# Function to update position (binary)\n",
    "def update_position(velocity):\n",
    "    probability = sigmoid(velocity)\n",
    "    new_position = np.random.rand(len(velocity)) < probability\n",
    "    return new_position.astype(int)  # Convert boolean to binary (0 or 1)\n",
    "\n",
    "# Fitness function (based on model accuracy)\n",
    "def fitness_function(selected_features, X, y):\n",
    "    # Ensure selected_features is a valid boolean mask\n",
    "    selected_features = selected_features.astype(bool)\n",
    "    \n",
    "    if np.sum(selected_features) == 0:  # Avoid selecting no features\n",
    "        return 1.0  # Poor fitness if no features are selected\n",
    "    \n",
    "    # Select features based on the boolean mask\n",
    "    # If X is a DataFrame, you can use X.loc[:, selected_features]\n",
    "    # If X is a NumPy array, simply use X[:, selected_features]\n",
    "    if isinstance(X, np.ndarray):\n",
    "        selected_X = X[:, selected_features]\n",
    "    elif isinstance(X, pd.DataFrame):\n",
    "        selected_X = X.loc[:, selected_features]\n",
    "\n",
    "    # Split data\n",
    "    X_train, X_test, y_train, y_test = train_test_split(selected_X, y, test_size=0.25, random_state=42)\n",
    "\n",
    "    # Train a decision tree classifier\n",
    "    model = DecisionTreeClassifier()\n",
    "    model.fit(X_train, y_train)\n",
    "\n",
    "    # Predict and calculate accuracy\n",
    "    y_pred = model.predict(X_test)\n",
    "    accuracy = accuracy_score(y_test, y_pred)\n",
    "\n",
    "    return 1 - accuracy  # Return 1 - accuracy to minimize the fitness\n",
    "\n",
    "# BPSO Algorithm for Feature Selection\n",
    "def bpso_feature_selection(X, y, n_particles, max_iter, w=0.5, c1=1.5, c2=1.5):\n",
    "    n_features = X.shape[1]\n",
    "    \n",
    "    # Initialize particle positions (binary) and velocities\n",
    "    positions = np.random.randint(2, size=(n_particles, n_features))\n",
    "    velocities = np.random.uniform(-1, 1, (n_particles, n_features))\n",
    "    \n",
    "    # Initialize personal best positions and global best position\n",
    "    pbest_positions = positions.copy()\n",
    "    pbest_fitness = np.array([fitness_function(positions[i], X, y) for i in range(n_particles)])\n",
    "    \n",
    "    gbest_position = pbest_positions[np.argmin(pbest_fitness)]\n",
    "    gbest_fitness = np.min(pbest_fitness)\n",
    "    \n",
    "    # BPSO main loop\n",
    "    for iteration in range(max_iter):\n",
    "        for i in range(n_particles):\n",
    "            # Update velocity\n",
    "            r1, r2 = np.random.rand(n_features), np.random.rand(n_features)\n",
    "            velocities[i] = (w * velocities[i] +\n",
    "                             c1 * r1 * (pbest_positions[i] - positions[i]) +\n",
    "                             c2 * r2 * (gbest_position - positions[i]))\n",
    "            \n",
    "            # Update position (convert velocity to binary)\n",
    "            positions[i] = update_position(velocities[i])\n",
    "            \n",
    "            # Calculate new fitness\n",
    "            fitness = fitness_function(positions[i], X, y)\n",
    "            \n",
    "            # Update personal best if the current position is better\n",
    "            if fitness < pbest_fitness[i]:\n",
    "                pbest_positions[i] = positions[i]\n",
    "                pbest_fitness[i] = fitness\n",
    "        \n",
    "        # Update global best if a better solution is found\n",
    "        best_particle_idx = np.argmin(pbest_fitness)\n",
    "        if pbest_fitness[best_particle_idx] < gbest_fitness:\n",
    "            gbest_position = pbest_positions[best_particle_idx]\n",
    "            gbest_fitness = pbest_fitness[best_particle_idx]\n",
    "        \n",
    "        print(f\"Iteration {iteration+1}/{max_iter}, Best Fitness: {gbest_fitness}\")\n",
    "    \n",
    "    return gbest_position, 1 - gbest_fitness  # Return best feature subset and corresponding accuracy"
   ]
  },
  {
   "cell_type": "markdown",
   "metadata": {},
   "source": [
    "## Eksperimen 1"
   ]
  },
  {
   "cell_type": "code",
   "execution_count": 8,
   "metadata": {},
   "outputs": [
    {
     "name": "stdout",
     "output_type": "stream",
     "text": [
      "Iteration 1/100, Best Fitness: 0.0\n",
      "Iteration 2/100, Best Fitness: 0.0\n",
      "Iteration 3/100, Best Fitness: 0.0\n",
      "Iteration 4/100, Best Fitness: 0.0\n",
      "Iteration 5/100, Best Fitness: 0.0\n",
      "Iteration 6/100, Best Fitness: 0.0\n",
      "Iteration 7/100, Best Fitness: 0.0\n",
      "Iteration 8/100, Best Fitness: 0.0\n",
      "Iteration 9/100, Best Fitness: 0.0\n",
      "Iteration 10/100, Best Fitness: 0.0\n",
      "Iteration 11/100, Best Fitness: 0.0\n",
      "Iteration 12/100, Best Fitness: 0.0\n",
      "Iteration 13/100, Best Fitness: 0.0\n",
      "Iteration 14/100, Best Fitness: 0.0\n",
      "Iteration 15/100, Best Fitness: 0.0\n",
      "Iteration 16/100, Best Fitness: 0.0\n",
      "Iteration 17/100, Best Fitness: 0.0\n",
      "Iteration 18/100, Best Fitness: 0.0\n",
      "Iteration 19/100, Best Fitness: 0.0\n",
      "Iteration 20/100, Best Fitness: 0.0\n",
      "Iteration 21/100, Best Fitness: 0.0\n",
      "Iteration 22/100, Best Fitness: 0.0\n",
      "Iteration 23/100, Best Fitness: 0.0\n",
      "Iteration 24/100, Best Fitness: 0.0\n",
      "Iteration 25/100, Best Fitness: 0.0\n",
      "Iteration 26/100, Best Fitness: 0.0\n",
      "Iteration 27/100, Best Fitness: 0.0\n",
      "Iteration 28/100, Best Fitness: 0.0\n",
      "Iteration 29/100, Best Fitness: 0.0\n",
      "Iteration 30/100, Best Fitness: 0.0\n",
      "Iteration 31/100, Best Fitness: 0.0\n",
      "Iteration 32/100, Best Fitness: 0.0\n",
      "Iteration 33/100, Best Fitness: 0.0\n",
      "Iteration 34/100, Best Fitness: 0.0\n",
      "Iteration 35/100, Best Fitness: 0.0\n",
      "Iteration 36/100, Best Fitness: 0.0\n",
      "Iteration 37/100, Best Fitness: 0.0\n",
      "Iteration 38/100, Best Fitness: 0.0\n",
      "Iteration 39/100, Best Fitness: 0.0\n",
      "Iteration 40/100, Best Fitness: 0.0\n",
      "Iteration 41/100, Best Fitness: 0.0\n",
      "Iteration 42/100, Best Fitness: 0.0\n",
      "Iteration 43/100, Best Fitness: 0.0\n",
      "Iteration 44/100, Best Fitness: 0.0\n",
      "Iteration 45/100, Best Fitness: 0.0\n",
      "Iteration 46/100, Best Fitness: 0.0\n",
      "Iteration 47/100, Best Fitness: 0.0\n",
      "Iteration 48/100, Best Fitness: 0.0\n",
      "Iteration 49/100, Best Fitness: 0.0\n",
      "Iteration 50/100, Best Fitness: 0.0\n",
      "Iteration 51/100, Best Fitness: 0.0\n",
      "Iteration 52/100, Best Fitness: 0.0\n",
      "Iteration 53/100, Best Fitness: 0.0\n",
      "Iteration 54/100, Best Fitness: 0.0\n",
      "Iteration 55/100, Best Fitness: 0.0\n",
      "Iteration 56/100, Best Fitness: 0.0\n",
      "Iteration 57/100, Best Fitness: 0.0\n",
      "Iteration 58/100, Best Fitness: 0.0\n",
      "Iteration 59/100, Best Fitness: 0.0\n",
      "Iteration 60/100, Best Fitness: 0.0\n",
      "Iteration 61/100, Best Fitness: 0.0\n",
      "Iteration 62/100, Best Fitness: 0.0\n",
      "Iteration 63/100, Best Fitness: 0.0\n",
      "Iteration 64/100, Best Fitness: 0.0\n",
      "Iteration 65/100, Best Fitness: 0.0\n",
      "Iteration 66/100, Best Fitness: 0.0\n",
      "Iteration 67/100, Best Fitness: 0.0\n",
      "Iteration 68/100, Best Fitness: 0.0\n",
      "Iteration 69/100, Best Fitness: 0.0\n",
      "Iteration 70/100, Best Fitness: 0.0\n",
      "Iteration 71/100, Best Fitness: 0.0\n",
      "Iteration 72/100, Best Fitness: 0.0\n",
      "Iteration 73/100, Best Fitness: 0.0\n",
      "Iteration 74/100, Best Fitness: 0.0\n",
      "Iteration 75/100, Best Fitness: 0.0\n",
      "Iteration 76/100, Best Fitness: 0.0\n",
      "Iteration 77/100, Best Fitness: 0.0\n",
      "Iteration 78/100, Best Fitness: 0.0\n",
      "Iteration 79/100, Best Fitness: 0.0\n",
      "Iteration 80/100, Best Fitness: 0.0\n",
      "Iteration 81/100, Best Fitness: 0.0\n",
      "Iteration 82/100, Best Fitness: 0.0\n",
      "Iteration 83/100, Best Fitness: 0.0\n",
      "Iteration 84/100, Best Fitness: 0.0\n",
      "Iteration 85/100, Best Fitness: 0.0\n",
      "Iteration 86/100, Best Fitness: 0.0\n",
      "Iteration 87/100, Best Fitness: 0.0\n",
      "Iteration 88/100, Best Fitness: 0.0\n",
      "Iteration 89/100, Best Fitness: 0.0\n",
      "Iteration 90/100, Best Fitness: 0.0\n",
      "Iteration 91/100, Best Fitness: 0.0\n",
      "Iteration 92/100, Best Fitness: 0.0\n",
      "Iteration 93/100, Best Fitness: 0.0\n",
      "Iteration 94/100, Best Fitness: 0.0\n",
      "Iteration 95/100, Best Fitness: 0.0\n",
      "Iteration 96/100, Best Fitness: 0.0\n",
      "Iteration 97/100, Best Fitness: 0.0\n",
      "Iteration 98/100, Best Fitness: 0.0\n",
      "Iteration 99/100, Best Fitness: 0.0\n",
      "Iteration 100/100, Best Fitness: 0.0\n"
     ]
    }
   ],
   "source": [
    "# DT-1\n",
    "best_features, best_accuracy = bpso_feature_selection(X_botnet, y_botnet)"
   ]
  },
  {
   "cell_type": "code",
   "execution_count": 9,
   "metadata": {},
   "outputs": [
    {
     "data": {
      "text/plain": [
       "(array([1, 0, 1, 0, 1, 1, 1, 0, 0, 1, 1, 0, 0, 0, 0, 0, 1, 1, 1, 0, 1]), 1.0)"
      ]
     },
     "execution_count": 9,
     "metadata": {},
     "output_type": "execute_result"
    }
   ],
   "source": [
    "best_features, best_accuracy"
   ]
  },
  {
   "cell_type": "code",
   "execution_count": 15,
   "metadata": {},
   "outputs": [
    {
     "name": "stdout",
     "output_type": "stream",
     "text": [
      "Iteration 1/100, Best Fitness: 0.0\n",
      "Iteration 2/100, Best Fitness: 0.0\n",
      "Iteration 3/100, Best Fitness: 0.0\n",
      "Iteration 4/100, Best Fitness: 0.0\n",
      "Iteration 5/100, Best Fitness: 0.0\n",
      "Iteration 6/100, Best Fitness: 0.0\n",
      "Iteration 7/100, Best Fitness: 0.0\n",
      "Iteration 8/100, Best Fitness: 0.0\n",
      "Iteration 9/100, Best Fitness: 0.0\n",
      "Iteration 10/100, Best Fitness: 0.0\n",
      "Iteration 11/100, Best Fitness: 0.0\n",
      "Iteration 12/100, Best Fitness: 0.0\n",
      "Iteration 13/100, Best Fitness: 0.0\n",
      "Iteration 14/100, Best Fitness: 0.0\n",
      "Iteration 15/100, Best Fitness: 0.0\n",
      "Iteration 16/100, Best Fitness: 0.0\n",
      "Iteration 17/100, Best Fitness: 0.0\n",
      "Iteration 18/100, Best Fitness: 0.0\n",
      "Iteration 19/100, Best Fitness: 0.0\n",
      "Iteration 20/100, Best Fitness: 0.0\n",
      "Iteration 21/100, Best Fitness: 0.0\n",
      "Iteration 22/100, Best Fitness: 0.0\n",
      "Iteration 23/100, Best Fitness: 0.0\n",
      "Iteration 24/100, Best Fitness: 0.0\n",
      "Iteration 25/100, Best Fitness: 0.0\n",
      "Iteration 26/100, Best Fitness: 0.0\n",
      "Iteration 27/100, Best Fitness: 0.0\n",
      "Iteration 28/100, Best Fitness: 0.0\n",
      "Iteration 29/100, Best Fitness: 0.0\n",
      "Iteration 30/100, Best Fitness: 0.0\n",
      "Iteration 31/100, Best Fitness: 0.0\n",
      "Iteration 32/100, Best Fitness: 0.0\n",
      "Iteration 33/100, Best Fitness: 0.0\n",
      "Iteration 34/100, Best Fitness: 0.0\n",
      "Iteration 35/100, Best Fitness: 0.0\n",
      "Iteration 36/100, Best Fitness: 0.0\n",
      "Iteration 37/100, Best Fitness: 0.0\n",
      "Iteration 38/100, Best Fitness: 0.0\n",
      "Iteration 39/100, Best Fitness: 0.0\n",
      "Iteration 40/100, Best Fitness: 0.0\n",
      "Iteration 41/100, Best Fitness: 0.0\n",
      "Iteration 42/100, Best Fitness: 0.0\n",
      "Iteration 43/100, Best Fitness: 0.0\n",
      "Iteration 44/100, Best Fitness: 0.0\n",
      "Iteration 45/100, Best Fitness: 0.0\n",
      "Iteration 46/100, Best Fitness: 0.0\n",
      "Iteration 47/100, Best Fitness: 0.0\n",
      "Iteration 48/100, Best Fitness: 0.0\n",
      "Iteration 49/100, Best Fitness: 0.0\n",
      "Iteration 50/100, Best Fitness: 0.0\n",
      "Iteration 51/100, Best Fitness: 0.0\n",
      "Iteration 52/100, Best Fitness: 0.0\n",
      "Iteration 53/100, Best Fitness: 0.0\n",
      "Iteration 54/100, Best Fitness: 0.0\n",
      "Iteration 55/100, Best Fitness: 0.0\n",
      "Iteration 56/100, Best Fitness: 0.0\n",
      "Iteration 57/100, Best Fitness: 0.0\n",
      "Iteration 58/100, Best Fitness: 0.0\n",
      "Iteration 59/100, Best Fitness: 0.0\n",
      "Iteration 60/100, Best Fitness: 0.0\n",
      "Iteration 61/100, Best Fitness: 0.0\n",
      "Iteration 62/100, Best Fitness: 0.0\n",
      "Iteration 63/100, Best Fitness: 0.0\n",
      "Iteration 64/100, Best Fitness: 0.0\n",
      "Iteration 65/100, Best Fitness: 0.0\n",
      "Iteration 66/100, Best Fitness: 0.0\n",
      "Iteration 67/100, Best Fitness: 0.0\n",
      "Iteration 68/100, Best Fitness: 0.0\n",
      "Iteration 69/100, Best Fitness: 0.0\n",
      "Iteration 70/100, Best Fitness: 0.0\n",
      "Iteration 71/100, Best Fitness: 0.0\n",
      "Iteration 72/100, Best Fitness: 0.0\n",
      "Iteration 73/100, Best Fitness: 0.0\n",
      "Iteration 74/100, Best Fitness: 0.0\n",
      "Iteration 75/100, Best Fitness: 0.0\n",
      "Iteration 76/100, Best Fitness: 0.0\n",
      "Iteration 77/100, Best Fitness: 0.0\n",
      "Iteration 78/100, Best Fitness: 0.0\n",
      "Iteration 79/100, Best Fitness: 0.0\n",
      "Iteration 80/100, Best Fitness: 0.0\n",
      "Iteration 81/100, Best Fitness: 0.0\n",
      "Iteration 82/100, Best Fitness: 0.0\n",
      "Iteration 83/100, Best Fitness: 0.0\n",
      "Iteration 84/100, Best Fitness: 0.0\n",
      "Iteration 85/100, Best Fitness: 0.0\n",
      "Iteration 86/100, Best Fitness: 0.0\n",
      "Iteration 87/100, Best Fitness: 0.0\n",
      "Iteration 88/100, Best Fitness: 0.0\n",
      "Iteration 89/100, Best Fitness: 0.0\n",
      "Iteration 90/100, Best Fitness: 0.0\n",
      "Iteration 91/100, Best Fitness: 0.0\n",
      "Iteration 92/100, Best Fitness: 0.0\n",
      "Iteration 93/100, Best Fitness: 0.0\n",
      "Iteration 94/100, Best Fitness: 0.0\n",
      "Iteration 95/100, Best Fitness: 0.0\n",
      "Iteration 96/100, Best Fitness: 0.0\n",
      "Iteration 97/100, Best Fitness: 0.0\n",
      "Iteration 98/100, Best Fitness: 0.0\n",
      "Iteration 99/100, Best Fitness: 0.0\n",
      "Iteration 100/100, Best Fitness: 0.0\n"
     ]
    }
   ],
   "source": [
    "# DT-2\n",
    "best_features_spam, best_accuracy_spam = bpso_feature_selection(X_spam, y_spam)"
   ]
  },
  {
   "cell_type": "code",
   "execution_count": 16,
   "metadata": {},
   "outputs": [
    {
     "data": {
      "text/plain": [
       "(array([1, 0, 0, 1, 1, 0, 0, 0, 0, 0, 0, 0, 0, 1, 0, 0, 0, 1, 0, 1, 0, 0]),\n",
       " 1.0)"
      ]
     },
     "execution_count": 16,
     "metadata": {},
     "output_type": "execute_result"
    }
   ],
   "source": [
    "best_features_spam, best_accuracy_spam"
   ]
  },
  {
   "cell_type": "markdown",
   "metadata": {},
   "source": [
    "## Eksperimen 2"
   ]
  },
  {
   "cell_type": "code",
   "execution_count": 17,
   "metadata": {},
   "outputs": [
    {
     "name": "stdout",
     "output_type": "stream",
     "text": [
      "Iteration 1/100, Best Fitness: 0.0\n",
      "Iteration 2/100, Best Fitness: 0.0\n",
      "Iteration 3/100, Best Fitness: 0.0\n",
      "Iteration 4/100, Best Fitness: 0.0\n",
      "Iteration 5/100, Best Fitness: 0.0\n",
      "Iteration 6/100, Best Fitness: 0.0\n",
      "Iteration 7/100, Best Fitness: 0.0\n",
      "Iteration 8/100, Best Fitness: 0.0\n",
      "Iteration 9/100, Best Fitness: 0.0\n",
      "Iteration 10/100, Best Fitness: 0.0\n",
      "Iteration 11/100, Best Fitness: 0.0\n",
      "Iteration 12/100, Best Fitness: 0.0\n",
      "Iteration 13/100, Best Fitness: 0.0\n",
      "Iteration 14/100, Best Fitness: 0.0\n",
      "Iteration 15/100, Best Fitness: 0.0\n",
      "Iteration 16/100, Best Fitness: 0.0\n",
      "Iteration 17/100, Best Fitness: 0.0\n",
      "Iteration 18/100, Best Fitness: 0.0\n",
      "Iteration 19/100, Best Fitness: 0.0\n",
      "Iteration 20/100, Best Fitness: 0.0\n",
      "Iteration 21/100, Best Fitness: 0.0\n",
      "Iteration 22/100, Best Fitness: 0.0\n",
      "Iteration 23/100, Best Fitness: 0.0\n",
      "Iteration 24/100, Best Fitness: 0.0\n",
      "Iteration 25/100, Best Fitness: 0.0\n",
      "Iteration 26/100, Best Fitness: 0.0\n",
      "Iteration 27/100, Best Fitness: 0.0\n",
      "Iteration 28/100, Best Fitness: 0.0\n",
      "Iteration 29/100, Best Fitness: 0.0\n",
      "Iteration 30/100, Best Fitness: 0.0\n",
      "Iteration 31/100, Best Fitness: 0.0\n",
      "Iteration 32/100, Best Fitness: 0.0\n",
      "Iteration 33/100, Best Fitness: 0.0\n",
      "Iteration 34/100, Best Fitness: 0.0\n",
      "Iteration 35/100, Best Fitness: 0.0\n",
      "Iteration 36/100, Best Fitness: 0.0\n",
      "Iteration 37/100, Best Fitness: 0.0\n",
      "Iteration 38/100, Best Fitness: 0.0\n",
      "Iteration 39/100, Best Fitness: 0.0\n",
      "Iteration 40/100, Best Fitness: 0.0\n",
      "Iteration 41/100, Best Fitness: 0.0\n",
      "Iteration 42/100, Best Fitness: 0.0\n",
      "Iteration 43/100, Best Fitness: 0.0\n",
      "Iteration 44/100, Best Fitness: 0.0\n",
      "Iteration 45/100, Best Fitness: 0.0\n",
      "Iteration 46/100, Best Fitness: 0.0\n",
      "Iteration 47/100, Best Fitness: 0.0\n",
      "Iteration 48/100, Best Fitness: 0.0\n",
      "Iteration 49/100, Best Fitness: 0.0\n",
      "Iteration 50/100, Best Fitness: 0.0\n",
      "Iteration 51/100, Best Fitness: 0.0\n",
      "Iteration 52/100, Best Fitness: 0.0\n",
      "Iteration 53/100, Best Fitness: 0.0\n",
      "Iteration 54/100, Best Fitness: 0.0\n",
      "Iteration 55/100, Best Fitness: 0.0\n",
      "Iteration 56/100, Best Fitness: 0.0\n",
      "Iteration 57/100, Best Fitness: 0.0\n",
      "Iteration 58/100, Best Fitness: 0.0\n",
      "Iteration 59/100, Best Fitness: 0.0\n",
      "Iteration 60/100, Best Fitness: 0.0\n",
      "Iteration 61/100, Best Fitness: 0.0\n",
      "Iteration 62/100, Best Fitness: 0.0\n",
      "Iteration 63/100, Best Fitness: 0.0\n",
      "Iteration 64/100, Best Fitness: 0.0\n",
      "Iteration 65/100, Best Fitness: 0.0\n",
      "Iteration 66/100, Best Fitness: 0.0\n",
      "Iteration 67/100, Best Fitness: 0.0\n",
      "Iteration 68/100, Best Fitness: 0.0\n",
      "Iteration 69/100, Best Fitness: 0.0\n",
      "Iteration 70/100, Best Fitness: 0.0\n",
      "Iteration 71/100, Best Fitness: 0.0\n",
      "Iteration 72/100, Best Fitness: 0.0\n",
      "Iteration 73/100, Best Fitness: 0.0\n",
      "Iteration 74/100, Best Fitness: 0.0\n",
      "Iteration 75/100, Best Fitness: 0.0\n",
      "Iteration 76/100, Best Fitness: 0.0\n",
      "Iteration 77/100, Best Fitness: 0.0\n",
      "Iteration 78/100, Best Fitness: 0.0\n",
      "Iteration 79/100, Best Fitness: 0.0\n",
      "Iteration 80/100, Best Fitness: 0.0\n",
      "Iteration 81/100, Best Fitness: 0.0\n",
      "Iteration 82/100, Best Fitness: 0.0\n",
      "Iteration 83/100, Best Fitness: 0.0\n",
      "Iteration 84/100, Best Fitness: 0.0\n",
      "Iteration 85/100, Best Fitness: 0.0\n",
      "Iteration 86/100, Best Fitness: 0.0\n",
      "Iteration 87/100, Best Fitness: 0.0\n",
      "Iteration 88/100, Best Fitness: 0.0\n",
      "Iteration 89/100, Best Fitness: 0.0\n",
      "Iteration 90/100, Best Fitness: 0.0\n",
      "Iteration 91/100, Best Fitness: 0.0\n",
      "Iteration 92/100, Best Fitness: 0.0\n",
      "Iteration 93/100, Best Fitness: 0.0\n",
      "Iteration 94/100, Best Fitness: 0.0\n",
      "Iteration 95/100, Best Fitness: 0.0\n",
      "Iteration 96/100, Best Fitness: 0.0\n",
      "Iteration 97/100, Best Fitness: 0.0\n",
      "Iteration 98/100, Best Fitness: 0.0\n",
      "Iteration 99/100, Best Fitness: 0.0\n",
      "Iteration 100/100, Best Fitness: 0.0\n"
     ]
    }
   ],
   "source": [
    "# DT-1 (X, y, n_particles, max_iter, w, c1, c2) inertia, cognitive, and social components\n",
    "best_features, best_accuracy = bpso_feature_selection(X_botnet, y_botnet, n_particles=30, max_iter=100, w=0.5, c1=1.5, c2=1.5)"
   ]
  },
  {
   "cell_type": "code",
   "execution_count": 18,
   "metadata": {},
   "outputs": [
    {
     "data": {
      "text/plain": [
       "(array([1, 0, 1, 0, 1, 0, 1, 0, 0, 1, 1, 0, 0, 0, 1, 1, 1, 1, 1, 0, 0]), 1.0)"
      ]
     },
     "execution_count": 18,
     "metadata": {},
     "output_type": "execute_result"
    }
   ],
   "source": [
    "best_features, best_accuracy"
   ]
  },
  {
   "cell_type": "code",
   "execution_count": 19,
   "metadata": {},
   "outputs": [
    {
     "name": "stdout",
     "output_type": "stream",
     "text": [
      "Iteration 1/100, Best Fitness: 0.0\n",
      "Iteration 2/100, Best Fitness: 0.0\n",
      "Iteration 3/100, Best Fitness: 0.0\n",
      "Iteration 4/100, Best Fitness: 0.0\n",
      "Iteration 5/100, Best Fitness: 0.0\n",
      "Iteration 6/100, Best Fitness: 0.0\n",
      "Iteration 7/100, Best Fitness: 0.0\n",
      "Iteration 8/100, Best Fitness: 0.0\n",
      "Iteration 9/100, Best Fitness: 0.0\n",
      "Iteration 10/100, Best Fitness: 0.0\n",
      "Iteration 11/100, Best Fitness: 0.0\n",
      "Iteration 12/100, Best Fitness: 0.0\n",
      "Iteration 13/100, Best Fitness: 0.0\n",
      "Iteration 14/100, Best Fitness: 0.0\n",
      "Iteration 15/100, Best Fitness: 0.0\n",
      "Iteration 16/100, Best Fitness: 0.0\n",
      "Iteration 17/100, Best Fitness: 0.0\n",
      "Iteration 18/100, Best Fitness: 0.0\n",
      "Iteration 19/100, Best Fitness: 0.0\n",
      "Iteration 20/100, Best Fitness: 0.0\n",
      "Iteration 21/100, Best Fitness: 0.0\n",
      "Iteration 22/100, Best Fitness: 0.0\n",
      "Iteration 23/100, Best Fitness: 0.0\n",
      "Iteration 24/100, Best Fitness: 0.0\n",
      "Iteration 25/100, Best Fitness: 0.0\n",
      "Iteration 26/100, Best Fitness: 0.0\n",
      "Iteration 27/100, Best Fitness: 0.0\n",
      "Iteration 28/100, Best Fitness: 0.0\n",
      "Iteration 29/100, Best Fitness: 0.0\n",
      "Iteration 30/100, Best Fitness: 0.0\n",
      "Iteration 31/100, Best Fitness: 0.0\n",
      "Iteration 32/100, Best Fitness: 0.0\n",
      "Iteration 33/100, Best Fitness: 0.0\n",
      "Iteration 34/100, Best Fitness: 0.0\n",
      "Iteration 35/100, Best Fitness: 0.0\n",
      "Iteration 36/100, Best Fitness: 0.0\n",
      "Iteration 37/100, Best Fitness: 0.0\n",
      "Iteration 38/100, Best Fitness: 0.0\n",
      "Iteration 39/100, Best Fitness: 0.0\n",
      "Iteration 40/100, Best Fitness: 0.0\n",
      "Iteration 41/100, Best Fitness: 0.0\n",
      "Iteration 42/100, Best Fitness: 0.0\n",
      "Iteration 43/100, Best Fitness: 0.0\n",
      "Iteration 44/100, Best Fitness: 0.0\n",
      "Iteration 45/100, Best Fitness: 0.0\n",
      "Iteration 46/100, Best Fitness: 0.0\n",
      "Iteration 47/100, Best Fitness: 0.0\n",
      "Iteration 48/100, Best Fitness: 0.0\n",
      "Iteration 49/100, Best Fitness: 0.0\n",
      "Iteration 50/100, Best Fitness: 0.0\n",
      "Iteration 51/100, Best Fitness: 0.0\n",
      "Iteration 52/100, Best Fitness: 0.0\n",
      "Iteration 53/100, Best Fitness: 0.0\n",
      "Iteration 54/100, Best Fitness: 0.0\n",
      "Iteration 55/100, Best Fitness: 0.0\n",
      "Iteration 56/100, Best Fitness: 0.0\n",
      "Iteration 57/100, Best Fitness: 0.0\n",
      "Iteration 58/100, Best Fitness: 0.0\n",
      "Iteration 59/100, Best Fitness: 0.0\n",
      "Iteration 60/100, Best Fitness: 0.0\n",
      "Iteration 61/100, Best Fitness: 0.0\n",
      "Iteration 62/100, Best Fitness: 0.0\n",
      "Iteration 63/100, Best Fitness: 0.0\n",
      "Iteration 64/100, Best Fitness: 0.0\n",
      "Iteration 65/100, Best Fitness: 0.0\n",
      "Iteration 66/100, Best Fitness: 0.0\n",
      "Iteration 67/100, Best Fitness: 0.0\n",
      "Iteration 68/100, Best Fitness: 0.0\n",
      "Iteration 69/100, Best Fitness: 0.0\n",
      "Iteration 70/100, Best Fitness: 0.0\n",
      "Iteration 71/100, Best Fitness: 0.0\n",
      "Iteration 72/100, Best Fitness: 0.0\n",
      "Iteration 73/100, Best Fitness: 0.0\n",
      "Iteration 74/100, Best Fitness: 0.0\n",
      "Iteration 75/100, Best Fitness: 0.0\n",
      "Iteration 76/100, Best Fitness: 0.0\n",
      "Iteration 77/100, Best Fitness: 0.0\n",
      "Iteration 78/100, Best Fitness: 0.0\n",
      "Iteration 79/100, Best Fitness: 0.0\n",
      "Iteration 80/100, Best Fitness: 0.0\n",
      "Iteration 81/100, Best Fitness: 0.0\n",
      "Iteration 82/100, Best Fitness: 0.0\n",
      "Iteration 83/100, Best Fitness: 0.0\n",
      "Iteration 84/100, Best Fitness: 0.0\n",
      "Iteration 85/100, Best Fitness: 0.0\n",
      "Iteration 86/100, Best Fitness: 0.0\n",
      "Iteration 87/100, Best Fitness: 0.0\n",
      "Iteration 88/100, Best Fitness: 0.0\n",
      "Iteration 89/100, Best Fitness: 0.0\n",
      "Iteration 90/100, Best Fitness: 0.0\n",
      "Iteration 91/100, Best Fitness: 0.0\n",
      "Iteration 92/100, Best Fitness: 0.0\n",
      "Iteration 93/100, Best Fitness: 0.0\n",
      "Iteration 94/100, Best Fitness: 0.0\n",
      "Iteration 95/100, Best Fitness: 0.0\n",
      "Iteration 96/100, Best Fitness: 0.0\n",
      "Iteration 97/100, Best Fitness: 0.0\n",
      "Iteration 98/100, Best Fitness: 0.0\n",
      "Iteration 99/100, Best Fitness: 0.0\n",
      "Iteration 100/100, Best Fitness: 0.0\n"
     ]
    }
   ],
   "source": [
    "# DT-2\n",
    "best_features_spam, best_accuracy_spam = bpso_feature_selection(X_spam, y_spam, n_particles=30, max_iter=100, w=0.5, c1=1.5, c2=1.5)"
   ]
  },
  {
   "cell_type": "code",
   "execution_count": 20,
   "metadata": {},
   "outputs": [
    {
     "data": {
      "text/plain": [
       "(array([0, 0, 1, 1, 0, 0, 0, 1, 0, 0, 0, 0, 1, 0, 0, 1, 0, 0, 1, 1, 0, 1]),\n",
       " 1.0)"
      ]
     },
     "execution_count": 20,
     "metadata": {},
     "output_type": "execute_result"
    }
   ],
   "source": [
    "best_features_spam, best_accuracy_spam"
   ]
  },
  {
   "cell_type": "markdown",
   "metadata": {},
   "source": [
    "## Eksperimen 3 (All Sensor)"
   ]
  },
  {
   "cell_type": "code",
   "execution_count": 11,
   "metadata": {},
   "outputs": [
    {
     "name": "stdout",
     "output_type": "stream",
     "text": [
      "Iteration 1/30, Best Fitness: 3.923850615539237e-07\n",
      "Iteration 2/30, Best Fitness: 3.923850615539237e-07\n",
      "Iteration 3/30, Best Fitness: 3.923850615539237e-07\n",
      "Iteration 4/30, Best Fitness: 0.0\n",
      "Iteration 5/30, Best Fitness: 0.0\n",
      "Iteration 6/30, Best Fitness: 0.0\n",
      "Iteration 7/30, Best Fitness: 0.0\n",
      "Iteration 8/30, Best Fitness: 0.0\n",
      "Iteration 9/30, Best Fitness: 0.0\n",
      "Iteration 10/30, Best Fitness: 0.0\n",
      "Iteration 11/30, Best Fitness: 0.0\n",
      "Iteration 12/30, Best Fitness: 0.0\n",
      "Iteration 13/30, Best Fitness: 0.0\n",
      "Iteration 14/30, Best Fitness: 0.0\n",
      "Iteration 15/30, Best Fitness: 0.0\n",
      "Iteration 16/30, Best Fitness: 0.0\n",
      "Iteration 17/30, Best Fitness: 0.0\n",
      "Iteration 18/30, Best Fitness: 0.0\n",
      "Iteration 19/30, Best Fitness: 0.0\n",
      "Iteration 20/30, Best Fitness: 0.0\n",
      "Iteration 21/30, Best Fitness: 0.0\n",
      "Iteration 22/30, Best Fitness: 0.0\n",
      "Iteration 23/30, Best Fitness: 0.0\n",
      "Iteration 24/30, Best Fitness: 0.0\n",
      "Iteration 25/30, Best Fitness: 0.0\n",
      "Iteration 26/30, Best Fitness: 0.0\n",
      "Iteration 27/30, Best Fitness: 0.0\n",
      "Iteration 28/30, Best Fitness: 0.0\n",
      "Iteration 29/30, Best Fitness: 0.0\n",
      "Iteration 30/30, Best Fitness: 0.0\n"
     ]
    }
   ],
   "source": [
    "# DT-1 (X, y, n_particles, max_iter, w, c1, c2) inertia, cognitive, and social components\n",
    "best_features, best_accuracy = bpso_feature_selection(X_botnet, y_botnet, n_particles=20, max_iter=30)"
   ]
  },
  {
   "cell_type": "code",
   "execution_count": 12,
   "metadata": {},
   "outputs": [
    {
     "data": {
      "text/plain": [
       "(array([1, 1, 0, 0, 1, 1, 1, 0, 1, 0, 0, 0, 0, 1, 0, 1]), 1.0)"
      ]
     },
     "execution_count": 12,
     "metadata": {},
     "output_type": "execute_result"
    }
   ],
   "source": [
    "best_features, best_accuracy"
   ]
  },
  {
   "cell_type": "code",
   "execution_count": 13,
   "metadata": {},
   "outputs": [
    {
     "name": "stdout",
     "output_type": "stream",
     "text": [
      "Iteration 1/30, Best Fitness: 0.0\n",
      "Iteration 2/30, Best Fitness: 0.0\n",
      "Iteration 3/30, Best Fitness: 0.0\n",
      "Iteration 4/30, Best Fitness: 0.0\n",
      "Iteration 5/30, Best Fitness: 0.0\n",
      "Iteration 6/30, Best Fitness: 0.0\n",
      "Iteration 7/30, Best Fitness: 0.0\n",
      "Iteration 8/30, Best Fitness: 0.0\n",
      "Iteration 9/30, Best Fitness: 0.0\n",
      "Iteration 10/30, Best Fitness: 0.0\n",
      "Iteration 11/30, Best Fitness: 0.0\n",
      "Iteration 12/30, Best Fitness: 0.0\n",
      "Iteration 13/30, Best Fitness: 0.0\n",
      "Iteration 14/30, Best Fitness: 0.0\n",
      "Iteration 15/30, Best Fitness: 0.0\n",
      "Iteration 16/30, Best Fitness: 0.0\n",
      "Iteration 17/30, Best Fitness: 0.0\n",
      "Iteration 18/30, Best Fitness: 0.0\n",
      "Iteration 19/30, Best Fitness: 0.0\n",
      "Iteration 20/30, Best Fitness: 0.0\n",
      "Iteration 21/30, Best Fitness: 0.0\n",
      "Iteration 22/30, Best Fitness: 0.0\n",
      "Iteration 23/30, Best Fitness: 0.0\n",
      "Iteration 24/30, Best Fitness: 0.0\n",
      "Iteration 25/30, Best Fitness: 0.0\n",
      "Iteration 26/30, Best Fitness: 0.0\n",
      "Iteration 27/30, Best Fitness: 0.0\n",
      "Iteration 28/30, Best Fitness: 0.0\n",
      "Iteration 29/30, Best Fitness: 0.0\n",
      "Iteration 30/30, Best Fitness: 0.0\n"
     ]
    }
   ],
   "source": [
    "# DT-2\n",
    "best_features_spam, best_accuracy_spam = bpso_feature_selection(X_spam, y_spam, n_particles=20, max_iter=30)"
   ]
  },
  {
   "cell_type": "code",
   "execution_count": 14,
   "metadata": {},
   "outputs": [
    {
     "data": {
      "text/plain": [
       "(array([1, 0, 0, 1, 0, 1, 1, 0, 1, 0, 1, 0, 0, 1, 1, 0, 0]), 1.0)"
      ]
     },
     "execution_count": 14,
     "metadata": {},
     "output_type": "execute_result"
    }
   ],
   "source": [
    "best_features_spam, best_accuracy_spam"
   ]
  },
  {
   "cell_type": "markdown",
   "metadata": {},
   "source": [
    "## Eksperimen 4 (10 particle)"
   ]
  },
  {
   "cell_type": "code",
   "execution_count": 15,
   "metadata": {},
   "outputs": [
    {
     "name": "stdout",
     "output_type": "stream",
     "text": [
      "Iteration 1/30, Best Fitness: 3.923850615539237e-07\n",
      "Iteration 2/30, Best Fitness: 3.923850615539237e-07\n",
      "Iteration 3/30, Best Fitness: 3.923850615539237e-07\n",
      "Iteration 4/30, Best Fitness: 3.923850615539237e-07\n",
      "Iteration 5/30, Best Fitness: 3.923850615539237e-07\n",
      "Iteration 6/30, Best Fitness: 3.923850615539237e-07\n",
      "Iteration 7/30, Best Fitness: 3.923850615539237e-07\n",
      "Iteration 8/30, Best Fitness: 3.923850615539237e-07\n",
      "Iteration 9/30, Best Fitness: 3.923850615539237e-07\n",
      "Iteration 10/30, Best Fitness: 3.923850615539237e-07\n",
      "Iteration 11/30, Best Fitness: 3.923850615539237e-07\n",
      "Iteration 12/30, Best Fitness: 3.923850615539237e-07\n",
      "Iteration 13/30, Best Fitness: 3.923850615539237e-07\n",
      "Iteration 14/30, Best Fitness: 3.923850615539237e-07\n",
      "Iteration 15/30, Best Fitness: 0.0\n",
      "Iteration 16/30, Best Fitness: 0.0\n",
      "Iteration 17/30, Best Fitness: 0.0\n",
      "Iteration 18/30, Best Fitness: 0.0\n",
      "Iteration 19/30, Best Fitness: 0.0\n",
      "Iteration 20/30, Best Fitness: 0.0\n",
      "Iteration 21/30, Best Fitness: 0.0\n",
      "Iteration 22/30, Best Fitness: 0.0\n",
      "Iteration 23/30, Best Fitness: 0.0\n",
      "Iteration 24/30, Best Fitness: 0.0\n",
      "Iteration 25/30, Best Fitness: 0.0\n",
      "Iteration 26/30, Best Fitness: 0.0\n",
      "Iteration 27/30, Best Fitness: 0.0\n",
      "Iteration 28/30, Best Fitness: 0.0\n",
      "Iteration 29/30, Best Fitness: 0.0\n",
      "Iteration 30/30, Best Fitness: 0.0\n"
     ]
    }
   ],
   "source": [
    "# DT-1 (X, y, n_particles, max_iter, w, c1, c2) inertia, cognitive, and social components\n",
    "best_features, best_accuracy = bpso_feature_selection(X_botnet, y_botnet, n_particles=10, max_iter=30)"
   ]
  },
  {
   "cell_type": "code",
   "execution_count": 16,
   "metadata": {},
   "outputs": [
    {
     "data": {
      "text/plain": [
       "array([1, 0, 0, 0, 0, 0, 1, 1, 1, 0, 0, 0, 0, 0, 0, 0])"
      ]
     },
     "execution_count": 16,
     "metadata": {},
     "output_type": "execute_result"
    }
   ],
   "source": [
    "best_features"
   ]
  },
  {
   "cell_type": "code",
   "execution_count": 18,
   "metadata": {},
   "outputs": [
    {
     "name": "stdout",
     "output_type": "stream",
     "text": [
      "Iteration 1/30, Best Fitness: 0.0\n",
      "Iteration 2/30, Best Fitness: 0.0\n",
      "Iteration 3/30, Best Fitness: 0.0\n",
      "Iteration 4/30, Best Fitness: 0.0\n",
      "Iteration 5/30, Best Fitness: 0.0\n",
      "Iteration 6/30, Best Fitness: 0.0\n",
      "Iteration 7/30, Best Fitness: 0.0\n",
      "Iteration 8/30, Best Fitness: 0.0\n",
      "Iteration 9/30, Best Fitness: 0.0\n",
      "Iteration 10/30, Best Fitness: 0.0\n",
      "Iteration 11/30, Best Fitness: 0.0\n",
      "Iteration 12/30, Best Fitness: 0.0\n",
      "Iteration 13/30, Best Fitness: 0.0\n",
      "Iteration 14/30, Best Fitness: 0.0\n",
      "Iteration 15/30, Best Fitness: 0.0\n",
      "Iteration 16/30, Best Fitness: 0.0\n",
      "Iteration 17/30, Best Fitness: 0.0\n",
      "Iteration 18/30, Best Fitness: 0.0\n",
      "Iteration 19/30, Best Fitness: 0.0\n",
      "Iteration 20/30, Best Fitness: 0.0\n",
      "Iteration 21/30, Best Fitness: 0.0\n",
      "Iteration 22/30, Best Fitness: 0.0\n",
      "Iteration 23/30, Best Fitness: 0.0\n",
      "Iteration 24/30, Best Fitness: 0.0\n",
      "Iteration 25/30, Best Fitness: 0.0\n",
      "Iteration 26/30, Best Fitness: 0.0\n",
      "Iteration 27/30, Best Fitness: 0.0\n",
      "Iteration 28/30, Best Fitness: 0.0\n",
      "Iteration 29/30, Best Fitness: 0.0\n",
      "Iteration 30/30, Best Fitness: 0.0\n"
     ]
    }
   ],
   "source": [
    "# DT-2\n",
    "best_features_spam, best_accuracy_spam = bpso_feature_selection(X_spam, y_spam, n_particles=10, max_iter=30)"
   ]
  },
  {
   "cell_type": "code",
   "execution_count": 20,
   "metadata": {},
   "outputs": [
    {
     "data": {
      "text/plain": [
       "array([0, 0, 1, 1, 0, 0, 0, 1, 1, 1, 0, 0, 1, 1, 1, 0, 1])"
      ]
     },
     "execution_count": 20,
     "metadata": {},
     "output_type": "execute_result"
    }
   ],
   "source": [
    "best_features_spam"
   ]
  },
  {
   "cell_type": "markdown",
   "metadata": {},
   "source": [
    "## Experiment 5 (15 particle)"
   ]
  },
  {
   "cell_type": "code",
   "execution_count": 21,
   "metadata": {},
   "outputs": [
    {
     "name": "stdout",
     "output_type": "stream",
     "text": [
      "Iteration 1/30, Best Fitness: 3.923850615539237e-07\n",
      "Iteration 2/30, Best Fitness: 3.923850615539237e-07\n",
      "Iteration 3/30, Best Fitness: 0.0\n",
      "Iteration 4/30, Best Fitness: 0.0\n",
      "Iteration 5/30, Best Fitness: 0.0\n",
      "Iteration 6/30, Best Fitness: 0.0\n",
      "Iteration 7/30, Best Fitness: 0.0\n",
      "Iteration 8/30, Best Fitness: 0.0\n",
      "Iteration 9/30, Best Fitness: 0.0\n",
      "Iteration 10/30, Best Fitness: 0.0\n",
      "Iteration 11/30, Best Fitness: 0.0\n",
      "Iteration 12/30, Best Fitness: 0.0\n",
      "Iteration 13/30, Best Fitness: 0.0\n",
      "Iteration 14/30, Best Fitness: 0.0\n",
      "Iteration 15/30, Best Fitness: 0.0\n",
      "Iteration 16/30, Best Fitness: 0.0\n",
      "Iteration 17/30, Best Fitness: 0.0\n",
      "Iteration 18/30, Best Fitness: 0.0\n",
      "Iteration 19/30, Best Fitness: 0.0\n",
      "Iteration 20/30, Best Fitness: 0.0\n",
      "Iteration 21/30, Best Fitness: 0.0\n",
      "Iteration 22/30, Best Fitness: 0.0\n",
      "Iteration 23/30, Best Fitness: 0.0\n",
      "Iteration 24/30, Best Fitness: 0.0\n",
      "Iteration 25/30, Best Fitness: 0.0\n",
      "Iteration 26/30, Best Fitness: 0.0\n",
      "Iteration 27/30, Best Fitness: 0.0\n",
      "Iteration 28/30, Best Fitness: 0.0\n",
      "Iteration 29/30, Best Fitness: 0.0\n",
      "Iteration 30/30, Best Fitness: 0.0\n"
     ]
    }
   ],
   "source": [
    "# DT-1 (X, y, n_particles, max_iter, w, c1, c2) inertia, cognitive, and social components\n",
    "best_features, best_accuracy = bpso_feature_selection(X_botnet, y_botnet, n_particles=15, max_iter=30)"
   ]
  },
  {
   "cell_type": "code",
   "execution_count": 22,
   "metadata": {},
   "outputs": [
    {
     "data": {
      "text/plain": [
       "array([1, 0, 0, 1, 1, 0, 1, 1, 1, 0, 0, 0, 0, 1, 1, 0])"
      ]
     },
     "execution_count": 22,
     "metadata": {},
     "output_type": "execute_result"
    }
   ],
   "source": [
    "best_features"
   ]
  },
  {
   "cell_type": "code",
   "execution_count": 23,
   "metadata": {},
   "outputs": [
    {
     "name": "stdout",
     "output_type": "stream",
     "text": [
      "Iteration 1/30, Best Fitness: 0.0\n",
      "Iteration 2/30, Best Fitness: 0.0\n",
      "Iteration 3/30, Best Fitness: 0.0\n",
      "Iteration 4/30, Best Fitness: 0.0\n",
      "Iteration 5/30, Best Fitness: 0.0\n",
      "Iteration 6/30, Best Fitness: 0.0\n",
      "Iteration 7/30, Best Fitness: 0.0\n",
      "Iteration 8/30, Best Fitness: 0.0\n",
      "Iteration 9/30, Best Fitness: 0.0\n",
      "Iteration 10/30, Best Fitness: 0.0\n",
      "Iteration 11/30, Best Fitness: 0.0\n",
      "Iteration 12/30, Best Fitness: 0.0\n",
      "Iteration 13/30, Best Fitness: 0.0\n",
      "Iteration 14/30, Best Fitness: 0.0\n",
      "Iteration 15/30, Best Fitness: 0.0\n",
      "Iteration 16/30, Best Fitness: 0.0\n",
      "Iteration 17/30, Best Fitness: 0.0\n",
      "Iteration 18/30, Best Fitness: 0.0\n",
      "Iteration 19/30, Best Fitness: 0.0\n",
      "Iteration 20/30, Best Fitness: 0.0\n",
      "Iteration 21/30, Best Fitness: 0.0\n",
      "Iteration 22/30, Best Fitness: 0.0\n",
      "Iteration 23/30, Best Fitness: 0.0\n",
      "Iteration 24/30, Best Fitness: 0.0\n",
      "Iteration 25/30, Best Fitness: 0.0\n",
      "Iteration 26/30, Best Fitness: 0.0\n",
      "Iteration 27/30, Best Fitness: 0.0\n",
      "Iteration 28/30, Best Fitness: 0.0\n",
      "Iteration 29/30, Best Fitness: 0.0\n",
      "Iteration 30/30, Best Fitness: 0.0\n"
     ]
    }
   ],
   "source": [
    "# DT-2\n",
    "best_features_spam, best_accuracy_spam = bpso_feature_selection(X_spam, y_spam, n_particles=15, max_iter=30)"
   ]
  },
  {
   "cell_type": "code",
   "execution_count": 24,
   "metadata": {},
   "outputs": [
    {
     "data": {
      "text/plain": [
       "array([1, 0, 0, 1, 0, 1, 1, 1, 0, 1, 1, 0, 0, 0, 0, 0, 1])"
      ]
     },
     "execution_count": 24,
     "metadata": {},
     "output_type": "execute_result"
    }
   ],
   "source": [
    "best_features_spam"
   ]
  }
 ],
 "metadata": {
  "kernelspec": {
   "display_name": "Python 3",
   "language": "python",
   "name": "python3"
  },
  "language_info": {
   "codemirror_mode": {
    "name": "ipython",
    "version": 3
   },
   "file_extension": ".py",
   "mimetype": "text/x-python",
   "name": "python",
   "nbconvert_exporter": "python",
   "pygments_lexer": "ipython3",
   "version": "3.12.5"
  }
 },
 "nbformat": 4,
 "nbformat_minor": 2
}
